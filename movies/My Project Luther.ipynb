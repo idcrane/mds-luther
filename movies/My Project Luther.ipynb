{
 "metadata": {
  "name": "",
  "signature": "sha256:98e71025741540db77bf59bdc3629535d653dfaec567f4414137628c0e6cc772"
 },
 "nbformat": 3,
 "nbformat_minor": 0,
 "worksheets": [
  {
   "cells": [
    {
     "cell_type": "markdown",
     "metadata": {},
     "source": [
      "###Scrape BoxOfficeMojo.com"
     ]
    },
    {
     "cell_type": "code",
     "collapsed": false,
     "input": [
      "import bomojo\n",
      "import pickle\n",
      "import pprint"
     ],
     "language": "python",
     "metadata": {},
     "outputs": [],
     "prompt_number": 1
    },
    {
     "cell_type": "code",
     "collapsed": false,
     "input": [
      "ms = bomojo.BOMMassScrape()\n",
      "recent_movie_urls = ms.build_list_of_recent_movies(startingyear=2010, endingyear=2014)"
     ],
     "language": "python",
     "metadata": {},
     "outputs": [
      {
       "output_type": "stream",
       "stream": "stdout",
       "text": [
        "http://www.boxofficemojo.com/yearly/chart/?page=1&view=releasedate&view2=domestic&yr=2010&p=.htm\n",
        "http://www.boxofficemojo.com/yearly/chart/?page=1&view=releasedate&view2=domestic&yr=2011&p=.htm"
       ]
      },
      {
       "output_type": "stream",
       "stream": "stdout",
       "text": [
        "\n",
        "http://www.boxofficemojo.com/yearly/chart/?page=1&view=releasedate&view2=domestic&yr=2012&p=.htm"
       ]
      },
      {
       "output_type": "stream",
       "stream": "stdout",
       "text": [
        "\n",
        "http://www.boxofficemojo.com/yearly/chart/?page=1&view=releasedate&view2=domestic&yr=2013&p=.htm"
       ]
      },
      {
       "output_type": "stream",
       "stream": "stdout",
       "text": [
        "\n",
        "http://www.boxofficemojo.com/yearly/chart/?page=1&view=releasedate&view2=domestic&yr=2014&p=.htm"
       ]
      },
      {
       "output_type": "stream",
       "stream": "stdout",
       "text": [
        "\n"
       ]
      }
     ],
     "prompt_number": 2
    },
    {
     "cell_type": "code",
     "collapsed": false,
     "input": [
      "pprint.pprint(recent_movie_urls)"
     ],
     "language": "python",
     "metadata": {},
     "outputs": [
      {
       "output_type": "stream",
       "stream": "stdout",
       "text": [
        "[u'http://www.boxofficemojo.com//movies/?id=chef.htm',\n",
        " u'http://www.boxofficemojo.com//movies/?id=taken2.htm',\n",
        " u'http://www.boxofficemojo.com//movies/?id=descendents.htm',\n",
        " u'http://www.boxofficemojo.com//movies/?id=instructionsnotincluded.htm',\n",
        " u'http://www.boxofficemojo.com//movies/?id=cabininthewoods.htm',\n",
        " u'http://www.boxofficemojo.com//movies/?id=godsnotdead.htm',\n",
        " u'http://www.boxofficemojo.com//movies/?id=gnomeoandjuliet.htm',\n",
        " u'http://www.boxofficemojo.com//movies/?id=davido2013.htm',\n",
        " u'http://www.boxofficemojo.com//movies/?id=secretariat.htm',\n",
        " u'http://www.boxofficemojo.com//movies/?id=ifrankenstein.htm',\n",
        " u'http://www.boxofficemojo.com//movies/?id=howtotrainyourdragon.htm',\n",
        " u'http://www.boxofficemojo.com//movies/?id=houseattheendofthestreet.htm',\n",
        " u'http://www.boxofficemojo.com//movies/?id=needforspeed.htm',\n",
        " u'http://www.boxofficemojo.com//movies/?id=bewarethenight.htm',\n",
        " u'http://www.boxofficemojo.com//movies/?id=colombiana.htm',\n",
        " u'http://www.boxofficemojo.com//movies/?id=hard10.htm',\n",
        " u'http://www.boxofficemojo.com//movies/?id=hangover3.htm',\n",
        " u'http://www.boxofficemojo.com//movies/?id=piratesofthecaribbean4.htm',\n",
        " u'http://www.boxofficemojo.com//movies/?id=help2011.htm',\n",
        " u'http://www.boxofficemojo.com//movies/?id=towerheist.htm',\n",
        " u'http://www.boxofficemojo.com//movies/?id=olympushasfallen.htm',\n",
        " u'http://www.boxofficemojo.com//movies/?id=stepup5.htm',\n",
        " u'http://www.boxofficemojo.com//movies/?id=100foot.htm',\n",
        " u'http://www.boxofficemojo.com//movies/?id=elysium.htm',\n",
        " u'http://www.boxofficemojo.com//movies/?id=gravity.htm',\n",
        " u'http://www.boxofficemojo.com//movies/?id=monstersinc3d.htm',\n",
        " u'http://www.boxofficemojo.com//movies/?id=karatekid2010.htm',\n",
        " u'http://www.boxofficemojo.com//movies/?id=scream4.htm',\n",
        " u'http://www.boxofficemojo.com//movies/?id=despicableme.htm',\n",
        " u'http://www.boxofficemojo.com//movies/?id=legion10.htm',\n",
        " u'http://www.boxofficemojo.com//movies/?id=redtails.htm',\n",
        " u'http://www.boxofficemojo.com//movies/?id=wettestcountry.htm',\n",
        " u'http://www.boxofficemojo.com//movies/?id=winterstale.htm',\n",
        " u'http://www.boxofficemojo.com//movies/?id=fadinggigolo.htm',\n",
        " u'http://www.boxofficemojo.com//movies/?id=thinklikeaman.htm',\n",
        " u'http://www.boxofficemojo.com//movies/?id=bigmomma3.htm',\n",
        " u'http://www.boxofficemojo.com//movies/?id=railwayman.htm',\n",
        " u'http://www.boxofficemojo.com//movies/?id=50fifty.htm',\n",
        " u'http://www.boxofficemojo.com//movies/?id=princeofpersia.htm',\n",
        " u'http://www.boxofficemojo.com//movies/?id=dallasbuyersclub.htm',\n",
        " u'http://www.boxofficemojo.com//movies/?id=djangounchained.htm',\n",
        " u'http://www.boxofficemojo.com//movies/?id=pacificrim.htm',\n",
        " u'http://www.boxofficemojo.com//movies/?id=islandoflemurs.htm',\n",
        " u'http://www.boxofficemojo.com//movies/?id=monstersinc2.htm',\n",
        " u'http://www.boxofficemojo.com//movies/?id=legendsofoz.htm',\n",
        " u'http://www.boxofficemojo.com//movies/?id=scottpilgrim.htm',\n",
        " u'http://www.boxofficemojo.com//movies/?id=catchingfire.htm',\n",
        " u'http://www.boxofficemojo.com//movies/?id=unknownwhitemale11.htm',\n",
        " u'http://www.boxofficemojo.com//movies/?id=momsnightout.htm',\n",
        " u'http://www.boxofficemojo.com//movies/?id=waterforelephants.htm',\n",
        " u'http://www.boxofficemojo.com//movies/?id=hanselandgretelwitchhunters.htm',\n",
        " u'http://www.boxofficemojo.com//movies/?id=21andover.htm',\n",
        " u'http://www.boxofficemojo.com//movies/?id=werethemillers.htm',\n",
        " u'http://www.boxofficemojo.com//movies/?id=ironlady.htm',\n",
        " u'http://www.boxofficemojo.com//movies/?id=nonstop.htm',\n",
        " u'http://www.boxofficemojo.com//movies/?id=21jumpstreet2.htm',\n",
        " u'http://www.boxofficemojo.com//movies/?id=guardiansofgahoole.htm',\n",
        " u'http://www.boxofficemojo.com//movies/?id=vampireacademy.htm',\n",
        " u'http://www.boxofficemojo.com//movies/?id=hottubtimemachine.htm',\n",
        " u'http://www.boxofficemojo.com//movies/?id=escapefromplanetearth.htm',\n",
        " u'http://www.boxofficemojo.com//movies/?id=thor2.htm',\n",
        " u'http://www.boxofficemojo.com//movies/?id=tmnt2013.htm',\n",
        " u'http://www.boxofficemojo.com//movies/?id=threestooges.htm',\n",
        " u'http://www.boxofficemojo.com//movies/?id=diaryofawimpykid2.htm',\n",
        " u'http://www.boxofficemojo.com//movies/?id=bearandthebow.htm',\n",
        " u'http://www.boxofficemojo.com//movies/?id=nowyouseeme.htm',\n",
        " u'http://www.boxofficemojo.com//movies/?id=paul.htm',\n",
        " u'http://www.boxofficemojo.com//movies/?id=sourcecode.htm',\n",
        " u'http://www.boxofficemojo.com//movies/?id=america2014.htm',\n",
        " u'http://www.boxofficemojo.com//movies/?id=whydidigetmarriedtoo.htm',\n",
        " u'http://www.boxofficemojo.com//movies/?id=anchorman2.htm',\n",
        " u'http://www.boxofficemojo.com//movies/?id=magicmike.htm',\n",
        " u'http://www.boxofficemojo.com//movies/?id=footloose2010.htm',\n",
        " u'http://www.boxofficemojo.com//movies/?id=catsanddogs2.htm',\n",
        " u'http://www.boxofficemojo.com//movies/?id=devilinside.htm',\n",
        " u'http://www.boxofficemojo.com//movies/?id=maleficient.htm',\n",
        " u'http://www.boxofficemojo.com//movies/?id=planes.htm',\n",
        " u'http://www.boxofficemojo.com//movies/?id=hauntedhouse.htm',\n",
        " u'http://www.boxofficemojo.com//movies/?id=town10.htm',\n",
        " u'http://www.boxofficemojo.com//movies/?id=expendables3.htm',\n",
        " u'http://www.boxofficemojo.com//movies/?id=binladen.htm',\n",
        " u'http://www.boxofficemojo.com//movies/?id=midnightinparis.htm',\n",
        " u'http://www.boxofficemojo.com//movies/?id=monumentsmen.htm',\n",
        " u'http://www.boxofficemojo.com//movies/?id=badteacher.htm',\n",
        " u'http://www.boxofficemojo.com//movies/?id=abrahamlincolnvampirehunter.htm',\n",
        " u'http://www.boxofficemojo.com//movies/?id=endofwatch.htm',\n",
        " u'http://www.boxofficemojo.com//movies/?id=herecomestheboom.htm',\n",
        " u'http://www.boxofficemojo.com//movies/?id=lastairbender.htm',\n",
        " u'http://www.boxofficemojo.com//movies/?id=starwars3d.htm',\n",
        " u'http://www.boxofficemojo.com//movies/?id=cesarchavez.htm',\n",
        " u'http://www.boxofficemojo.com//movies/?id=thor.htm',\n",
        " u'http://www.boxofficemojo.com//movies/?id=apatow.htm',\n",
        " u'http://www.boxofficemojo.com//movies/?id=stepup3d.htm',\n",
        " u'http://www.boxofficemojo.com//movies/?id=underworld4.htm',\n",
        " u'http://www.boxofficemojo.com//movies/?id=madagascar3.htm',\n",
        " u'http://www.boxofficemojo.com//movies/?id=canasong.htm',\n",
        " u'http://www.boxofficemojo.com//movies/?id=madeaswitnessprotection.htm',\n",
        " u'http://www.boxofficemojo.com//movies/?id=madeachristmas.htm',\n",
        " u'http://www.boxofficemojo.com//movies/?id=greenzone.htm',\n",
        " u'http://www.boxofficemojo.com//movies/?id=heavenisforreal.htm',\n",
        " u'http://www.boxofficemojo.com//movies/?id=mama.htm',\n",
        " u'http://www.boxofficemojo.com//movies/?id=transformers4.htm',\n",
        " u'http://www.boxofficemojo.com//movies/?id=gethimtothegreek.htm',\n",
        " u'http://www.boxofficemojo.com//movies/?id=thinklikeaman2.htm',\n",
        " u'http://www.boxofficemojo.com//movies/?id=allyouneediskill.htm',\n",
        " u'http://www.boxofficemojo.com//movies/?id=iamnumberfour.htm',\n",
        " u'http://www.boxofficemojo.com//movies/?id=pirates12.htm',\n",
        " u'http://www.boxofficemojo.com//movies/?id=clashofthetitans2.htm',\n",
        " u'http://www.boxofficemojo.com//movies/?id=laborday.htm',\n",
        " u'http://www.boxofficemojo.com//movies/?id=thismeanwar.htm',\n",
        " u'http://www.boxofficemojo.com//movies/?id=mrpopperspenguins.htm',\n",
        " u'http://www.boxofficemojo.com//movies/?id=ironman3.htm',\n",
        " u'http://www.boxofficemojo.com//movies/?id=nottingham.htm',\n",
        " u'http://www.boxofficemojo.com//movies/?id=transcendence.htm',\n",
        " u'http://www.boxofficemojo.com//movies/?id=jumpingthebroom.htm',\n",
        " u'http://www.boxofficemojo.com//movies/?id=2016obamasamerica.htm',\n",
        " u'http://www.boxofficemojo.com//movies/?id=rite.htm',\n",
        " u'http://www.boxofficemojo.com//movies/?id=mi4.htm',\n",
        " u'http://www.boxofficemojo.com//movies/?id=neighborhoodwatch.htm',\n",
        " u'http://www.boxofficemojo.com//movies/?id=lunchbox.htm',\n",
        " u'http://www.boxofficemojo.com//movies/?id=belle.htm',\n",
        " u'http://www.boxofficemojo.com//movies/?id=kickass.htm',\n",
        " u'http://www.boxofficemojo.com//movies/?id=fiveyearengagement.htm',\n",
        " u'http://www.boxofficemojo.com//movies/?id=cruisediaz10.htm',\n",
        " u'http://www.boxofficemojo.com//movies/?id=snowwhiteandthehuntsman.htm',\n",
        " u'http://www.boxofficemojo.com//movies/?id=dearjohn.htm',\n",
        " u'http://www.boxofficemojo.com//movies/?id=chronicle2012.htm',\n",
        " u'http://www.boxofficemojo.com//movies/?id=kickass2.htm',\n",
        " u'http://www.boxofficemojo.com//movies/?id=croods.htm',\n",
        " u'http://www.boxofficemojo.com//movies/?id=wiigapatow.htm',\n",
        " u'http://www.boxofficemojo.com//movies/?id=paranorman.htm',\n",
        " u'http://www.boxofficemojo.com//movies/?id=avengers11.htm',\n",
        " u'http://www.boxofficemojo.com//movies/?id=prometheus.htm',\n",
        " u'http://www.boxofficemojo.com//movies/?id=lucy.htm',\n",
        " u'http://www.boxofficemojo.com//movies/?id=ghostrider2.htm',\n",
        " u'http://www.boxofficemojo.com//movies/?id=bluejasmine.htm',\n",
        " u'http://www.boxofficemojo.com//movies/?id=brickmansions.htm',\n",
        " u'http://www.boxofficemojo.com//movies/?id=cowboysandaliens.htm',\n",
        " u'http://www.boxofficemojo.com//movies/?id=2guns.htm',\n",
        " u'http://www.boxofficemojo.com//movies/?id=percyjackson.htm',\n",
        " u'http://www.boxofficemojo.com//movies/?id=lionking3d.htm',\n",
        " u'http://www.boxofficemojo.com//movies/?id=percyjackson2.htm',\n",
        " u'http://www.boxofficemojo.com//movies/?id=novemberman.htm',\n",
        " u'http://www.boxofficemojo.com//movies/?id=grudgematch.htm',\n",
        " u'http://www.boxofficemojo.com//movies/?id=loveandotherdrugs.htm',\n",
        " u'http://www.boxofficemojo.com//movies/?id=badwords.htm',\n",
        " u'http://www.boxofficemojo.com//movies/?id=bookofeli.htm',\n",
        " u'http://www.boxofficemojo.com//movies/?id=lincoln.htm',\n",
        " u'http://www.boxofficemojo.com//movies/?id=cantinflas.htm',\n",
        " u'http://www.boxofficemojo.com//movies/?id=saw7.htm',\n",
        " u'http://www.boxofficemojo.com//movies/?id=sextape.htm',\n",
        " u'http://www.boxofficemojo.com//movies/?id=iceage4.htm',\n",
        " u'http://www.boxofficemojo.com//movies/?id=evildead2013.htm',\n",
        " u'http://www.boxofficemojo.com//movies/?id=host2013.htm',\n",
        " u'http://www.boxofficemojo.com//movies/?id=nightmareonelmstreet10.htm',\n",
        " u'http://www.boxofficemojo.com//movies/?id=luckyone.htm',\n",
        " u'http://www.boxofficemojo.com//movies/?id=blended.htm',\n",
        " u'http://www.boxofficemojo.com//movies/?id=dictator.htm',\n",
        " u'http://www.boxofficemojo.com//movies/?id=tron2.htm',\n",
        " u'http://www.boxofficemojo.com//movies/?id=echo.htm',\n",
        " u'http://www.boxofficemojo.com//movies/?id=chimpanzee.htm',\n",
        " u'http://www.boxofficemojo.com//movies/?id=moneyball.htm',\n",
        " u'http://www.boxofficemojo.com//movies/?id=wishiwashere.htm',\n",
        " u'http://www.boxofficemojo.com//movies/?id=alvin3d.htm',\n",
        " u'http://www.boxofficemojo.com//movies/?id=rivals.htm',\n",
        " u'http://www.boxofficemojo.com//movies/?id=greenhornet.htm',\n",
        " u'http://www.boxofficemojo.com//movies/?id=meetthefockerssequel.htm',\n",
        " u'http://www.boxofficemojo.com//movies/?id=harrypotter7.htm',\n",
        " u'http://www.boxofficemojo.com//movies/?id=burlesque.htm',\n",
        " u'http://www.boxofficemojo.com//movies/?id=superman2012.htm',\n",
        " u'http://www.boxofficemojo.com//movies/?id=red2010.htm',\n",
        " u'http://www.boxofficemojo.com//movies/?id=battleship.htm',\n",
        " u'http://www.boxofficemojo.com//movies/?id=areweofficiallydating.htm',\n",
        " u'http://www.boxofficemojo.com//movies/?id=mymotherscurse.htm',\n",
        " u'http://www.boxofficemojo.com//movies/?id=hallpass.htm',\n",
        " u'http://www.boxofficemojo.com//movies/?id=cars2.htm',\n",
        " u'http://www.boxofficemojo.com//movies/?id=jerseyboys.htm',\n",
        " u'http://www.boxofficemojo.com//movies/?id=muppets2.htm',\n",
        " u'http://www.boxofficemojo.com//movies/?id=gangstersquad.htm',\n",
        " u'http://www.boxofficemojo.com//movies/?id=contagion.htm',\n",
        " u'http://www.boxofficemojo.com//movies/?id=suckerpunch.htm',\n",
        " u'http://www.boxofficemojo.com//movies/?id=whattoexpect.htm',\n",
        " u'http://www.boxofficemojo.com//movies/?id=thepretendwife.htm',\n",
        " u'http://www.boxofficemojo.com//movies/?id=deathatafuneral10.htm',\n",
        " u'http://www.boxofficemojo.com//movies/?id=datenight.htm',\n",
        " u'http://www.boxofficemojo.com//movies/?id=sherlockholmes2.htm',\n",
        " u'http://www.boxofficemojo.com//movies/?id=draftday.htm',\n",
        " u'http://www.boxofficemojo.com//movies/?id=dibbukbox.htm',\n",
        " u'http://www.boxofficemojo.com//movies/?id=purge2.htm',\n",
        " u'http://www.boxofficemojo.com//movies/?id=greathopesprings.htm',\n",
        " u'http://www.boxofficemojo.com//movies/?id=girldragontattoo11.htm',\n",
        " u'http://www.boxofficemojo.com//movies/?id=sexandthecity2.htm',\n",
        " u'http://www.boxofficemojo.com//movies/?id=letsbecops.htm',\n",
        " u'http://www.boxofficemojo.com//movies/?id=otherwoman14.htm',\n",
        " u'http://www.boxofficemojo.com//movies/?id=marmaduke.htm',\n",
        " u'http://www.boxofficemojo.com//movies/?id=lastsong.htm',\n",
        " u'http://www.boxofficemojo.com//movies/?id=smurfs.htm',\n",
        " u'http://www.boxofficemojo.com//movies/?id=augustosagecounty.htm',\n",
        " u'http://www.boxofficemojo.com//movies/?id=faultinourstars.htm',\n",
        " u'http://www.boxofficemojo.com//movies/?id=millionwaystodie.htm',\n",
        " u'http://www.boxofficemojo.com//movies/?id=bullockmccarthy.htm',\n",
        " u'http://www.boxofficemojo.com//movies/?id=brooklynsfinest.htm',\n",
        " u'http://www.boxofficemojo.com//movies/?id=captainphillips.htm',\n",
        " u'http://www.boxofficemojo.com//movies/?id=loneranger.htm',\n",
        " u'http://www.boxofficemojo.com//movies/?id=daybreakers.htm',\n",
        " u'http://www.boxofficemojo.com//movies/?id=grandbudapesthotel.htm',\n",
        " u'http://www.boxofficemojo.com//movies/?id=gijoe2.htm',\n",
        " u'http://www.boxofficemojo.com//movies/?id=flight.htm',\n",
        " u'http://www.boxofficemojo.com//movies/?id=diaryofawimpykid3.htm',\n",
        " u'http://www.boxofficemojo.com//movies/?id=ripd.htm',\n",
        " u'http://www.boxofficemojo.com//movies/?id=predators.htm',\n",
        " u'http://www.boxofficemojo.com//movies/?id=lego.htm',\n",
        " u'http://www.boxofficemojo.com//movies/?id=grownups.htm',\n",
        " u'http://www.boxofficemojo.com//movies/?id=robocop2013.htm',\n",
        " u'http://www.boxofficemojo.com//movies/?id=hungergames.htm',\n",
        " u'http://www.boxofficemojo.com//movies/?id=aliceinwonderland10.htm',\n",
        " u'http://www.boxofficemojo.com//movies/?id=friendswithbenefits10.htm',\n",
        " u'http://www.boxofficemojo.com//movies/?id=idesofmarch.htm',\n",
        " u'http://www.boxofficemojo.com//movies/?id=fastfive.htm',\n",
        " u'http://www.boxofficemojo.com//movies/?id=rio.htm',\n",
        " u'http://www.boxofficemojo.com//movies/?id=47ronin.htm',\n",
        " u'http://www.boxofficemojo.com//movies/?id=ten2014.htm',\n",
        " u'http://www.boxofficemojo.com//movies/?id=jackandjill.htm',\n",
        " u'http://www.boxofficemojo.com//movies/?id=pitchperfect.htm',\n",
        " u'http://www.boxofficemojo.com//movies/?id=1000ae.htm',\n",
        " u'http://www.boxofficemojo.com//movies/?id=riddick.htm',\n",
        " u'http://www.boxofficemojo.com//movies/?id=clashofthetitans10.htm',\n",
        " u'http://www.boxofficemojo.com//movies/?id=cloudy2.htm',\n",
        " u'http://www.boxofficemojo.com//movies/?id=duedate.htm',\n",
        " u'http://www.boxofficemojo.com//movies/?id=sorcerersapprentice.htm',\n",
        " u'http://www.boxofficemojo.com//movies/?id=waltermitty.htm',\n",
        " u'http://www.boxofficemojo.com//movies/?id=giver.htm',\n",
        " u'http://www.boxofficemojo.com//movies/?id=worldwarz.htm',\n",
        " u'http://www.boxofficemojo.com//movies/?id=snowpiercer.htm',\n",
        " u'http://www.boxofficemojo.com//movies/?id=marriagecounselor.htm',\n",
        " u'http://www.boxofficemojo.com//movies/?id=bountyhunter.htm',\n",
        " u'http://www.boxofficemojo.com//movies/?id=warofgods.htm',\n",
        " u'http://www.boxofficemojo.com//movies/?id=lifeasweknowit.htm',\n",
        " u'http://www.boxofficemojo.com//movies/?id=morningglory10.htm',\n",
        " u'http://www.boxofficemojo.com//movies/?id=dinnerforschmucks.htm',\n",
        " u'http://www.boxofficemojo.com//movies/?id=internship.htm',\n",
        " u'http://www.boxofficemojo.com//movies/?id=somethingborrowed.htm',\n",
        " u'http://www.boxofficemojo.com//movies/?id=philomena.htm',\n",
        " u'http://www.boxofficemojo.com//movies/?id=mortalinstruments.htm',\n",
        " u'http://www.boxofficemojo.com//movies/?id=mrpeabodyandsherman.htm',\n",
        " u'http://www.boxofficemojo.com//movies/?id=rio2.htm',\n",
        " u'http://www.boxofficemojo.com//movies/?id=crazies.htm',\n",
        " u'http://www.boxofficemojo.com//movies/?id=beautyandthebeast3d.htm',\n",
        " u'http://www.boxofficemojo.com//movies/?id=transformers3.htm',\n",
        " u'http://www.boxofficemojo.com//movies/?id=eatpraylove.htm',\n",
        " u'http://www.boxofficemojo.com//movies/?id=hanna.htm',\n",
        " u'http://www.boxofficemojo.com//movies/?id=easya.htm',\n",
        " u'http://www.boxofficemojo.com//movies/?id=rapunzel.htm',\n",
        " u'http://www.boxofficemojo.com//movies/?id=finaldestination5.htm',\n",
        " u'http://www.boxofficemojo.com//movies/?id=andsoitgoes.htm',\n",
        " u'http://www.boxofficemojo.com//movies/?id=bitterpill.htm',\n",
        " u'http://www.boxofficemojo.com//movies/?id=diaryofawimpykid.htm',\n",
        " u'http://www.boxofficemojo.com//movies/?id=bonedeep.htm',\n",
        " u'http://www.boxofficemojo.com//movies/?id=lonesurvivor.htm',\n",
        " u'http://www.boxofficemojo.com//movies/?id=ironman2.htm',\n",
        " u'http://www.boxofficemojo.com//movies/?id=nutjob.htm',\n",
        " u'http://www.boxofficemojo.com//movies/?id=grownups2.htm',\n",
        " u'http://www.boxofficemojo.com//movies/?id=ferrellwahlberg2010.htm',\n",
        " u'http://www.boxofficemojo.com//movies/?id=changeup.htm',\n",
        " u'http://www.boxofficemojo.com//movies/?id=endlesslove14.htm',\n",
        " u'http://www.boxofficemojo.com//movies/?id=windrises.htm',\n",
        " u'http://www.boxofficemojo.com//movies/?id=frankenweenie.htm',\n",
        " u'http://www.boxofficemojo.com//movies/?id=narnia3.htm',\n",
        " u'http://www.boxofficemojo.com//movies/?id=ifistay.htm',\n",
        " u'http://www.boxofficemojo.com//movies/?id=paranormalactivity3.htm',\n",
        " u'http://www.boxofficemojo.com//movies/?id=savages12.htm',\n",
        " u'http://www.boxofficemojo.com//movies/?id=getonup.htm',\n",
        " u'http://www.boxofficemojo.com//movies/?id=quietones.htm',\n",
        " u'http://www.boxofficemojo.com//movies/?id=parentalguidance.htm',\n",
        " u'http://www.boxofficemojo.com//movies/?id=jedgar.htm',\n",
        " u'http://www.boxofficemojo.com//movies/?id=machete.htm',\n",
        " u'http://www.boxofficemojo.com//movies/?id=hobbit2.htm',\n",
        " u'http://www.boxofficemojo.com//movies/?id=walkingwithdinosaurs.htm',\n",
        " u'http://www.boxofficemojo.com//movies/?id=valentinesday.htm',\n",
        " u'http://www.boxofficemojo.com//movies/?id=battlelosangeles.htm',\n",
        " u'http://www.boxofficemojo.com//movies/?id=gulliverstravels.htm',\n",
        " u'http://www.boxofficemojo.com//movies/?id=kungfupanda2.htm',\n",
        " u'http://www.boxofficemojo.com//movies/?id=inception.htm',\n",
        " u'http://www.boxofficemojo.com//movies/?id=onedirection.htm',\n",
        " u'http://www.boxofficemojo.com//movies/?id=greenlantern.htm',\n",
        " u'http://www.boxofficemojo.com//movies/?id=rogenhilluntitled.htm',\n",
        " u'http://www.boxofficemojo.com//movies/?id=ridealong.htm',\n",
        " u'http://www.boxofficemojo.com//movies/?id=untitledsnowwhite.htm',\n",
        " u'http://www.boxofficemojo.com//movies/?id=malavita.htm',\n",
        " u'http://www.boxofficemojo.com//movies/?id=socialnetwork.htm',\n",
        " u'http://www.boxofficemojo.com//movies/?id=whitehousedown.htm',\n",
        " u'http://www.boxofficemojo.com//movies/?id=heiglkutcheraction.htm',\n",
        " u'http://www.boxofficemojo.com//movies/?id=marvel14b.htm',\n",
        " u'http://www.boxofficemojo.com//movies/?id=lastexorcism.htm',\n",
        " u'http://www.boxofficemojo.com//movies/?id=herculesbegins.htm',\n",
        " u'http://www.boxofficemojo.com//movies/?id=madeasbighappyfamily.htm',\n",
        " u'http://www.boxofficemojo.com//movies/?id=shrek4.htm',\n",
        " u'http://www.boxofficemojo.com//movies/?id=happyfeet2.htm',\n",
        " u'http://www.boxofficemojo.com//movies/?id=backupplan.htm',\n",
        " u'http://www.boxofficemojo.com//movies/?id=call2013.htm',\n",
        " u'http://www.boxofficemojo.com//movies/?id=eclipse.htm',\n",
        " u'http://www.boxofficemojo.com//movies/?id=ihateyoudad.htm',\n",
        " u'http://www.boxofficemojo.com//movies/?id=howtotrainyourdragon2.htm',\n",
        " u'http://www.boxofficemojo.com//movies/?id=kingsspeech.htm',\n",
        " u'http://www.boxofficemojo.com//movies/?id=zookeeper.htm',\n",
        " u'http://www.boxofficemojo.com//movies/?id=300sequel.htm',\n",
        " u'http://www.boxofficemojo.com//movies/?id=hoteltransylvania.htm',\n",
        " u'http://www.boxofficemojo.com//movies/?id=amazingspiderman2.htm',\n",
        " u'http://www.boxofficemojo.com//movies/?id=nannymcphee2.htm',\n",
        " u'http://www.boxofficemojo.com//movies/?id=spykids4.htm',\n",
        " u'http://www.boxofficemojo.com//movies/?id=red2.htm',\n",
        " u'http://www.boxofficemojo.com//movies/?id=smurfs2.htm',\n",
        " u'http://www.boxofficemojo.com//movies/?id=jackryan.htm',\n",
        " u'http://www.boxofficemojo.com//movies/?id=oddlifeoftimothygreen.htm',\n",
        " u'http://www.boxofficemojo.com//movies/?id=paranormalactivity5.htm',\n",
        " u'http://www.boxofficemojo.com//movies/?id=toothfairy.htm',\n",
        " u'http://www.boxofficemojo.com//movies/?id=42.htm',\n",
        " u'http://www.boxofficemojo.com//movies/?id=harrypotter72.htm',\n",
        " u'http://www.boxofficemojo.com//movies/?id=dolphintale.htm',\n",
        " u'http://www.boxofficemojo.com//movies/?id=joyfulnoise.htm',\n",
        " u'http://www.boxofficemojo.com//movies/?id=marvel2014a.htm',\n",
        " u'http://www.boxofficemojo.com//movies/?id=fighter10.htm',\n",
        " u'http://www.boxofficemojo.com//movies/?id=american10.htm',\n",
        " u'http://www.boxofficemojo.com//movies/?id=intothestorm.htm',\n",
        " u'http://www.boxofficemojo.com//movies/?id=expendables2.htm',\n",
        " u'http://www.boxofficemojo.com//movies/?id=riseoftheapes.htm',\n",
        " u'http://www.boxofficemojo.com//movies/?id=fast6.htm',\n",
        " u'http://www.boxofficemojo.com//movies/?id=newyearseve.htm',\n",
        " u'http://www.boxofficemojo.com//movies/?id=safehaven.htm',\n",
        " u'http://www.boxofficemojo.com//movies/?id=carrie2013.htm',\n",
        " u'http://www.boxofficemojo.com//movies/?id=vow.htm',\n",
        " u'http://www.boxofficemojo.com//movies/?id=americanreunion.htm',\n",
        " u'http://www.boxofficemojo.com//movies/?id=badgrandpa.htm',\n",
        " u'http://www.boxofficemojo.com//movies/?id=grey.htm',\n",
        " u'http://www.boxofficemojo.com//movies/?id=conjuring.htm',\n",
        " u'http://www.boxofficemojo.com//movies/?id=texaschainsaw3d.htm',\n",
        " u'http://www.boxofficemojo.com//movies/?id=startrek12.htm',\n",
        " u'http://www.boxofficemojo.com//movies/?id=boyhood.htm',\n",
        " u'http://www.boxofficemojo.com//movies/?id=magicinthemoonlight.htm',\n",
        " u'http://www.boxofficemojo.com//movies/?id=moonrisekingdom.htm',\n",
        " u'http://www.boxofficemojo.com//movies/?id=batman3.htm',\n",
        " u'http://www.boxofficemojo.com//movies/?id=lifeofpi.htm',\n",
        " u'http://www.boxofficemojo.com//movies/?id=deliveryman.htm',\n",
        " u'http://www.boxofficemojo.com//movies/?id=drive2011.htm',\n",
        " u'http://www.boxofficemojo.com//movies/?id=rango.htm',\n",
        " u'http://www.boxofficemojo.com//movies/?id=baster.htm',\n",
        " u'http://www.boxofficemojo.com//movies/?id=womaninblack.htm',\n",
        " u'http://www.boxofficemojo.com//movies/?id=townies.htm',\n",
        " u'http://www.boxofficemojo.com//movies/?id=safehouse.htm',\n",
        " u'http://www.boxofficemojo.com//movies/?id=turkeys.htm',\n",
        " u'http://www.boxofficemojo.com//movies/?id=bourne4.htm',\n",
        " u'http://www.boxofficemojo.com//movies/?id=warhorse.htm',\n",
        " u'http://www.boxofficemojo.com//movies/?id=mib3.htm',\n",
        " u'http://www.boxofficemojo.com//movies/?id=bond23.htm',\n",
        " u'http://www.boxofficemojo.com//movies/?id=paranormalactivity4.htm',\n",
        " u'http://www.boxofficemojo.com//movies/?id=salt10.htm',\n",
        " u'http://www.boxofficemojo.com//movies/?id=kevinhart2013.htm',\n",
        " u'http://www.boxofficemojo.com//movies/?id=leafmen.htm',\n",
        " u'http://www.boxofficemojo.com//movies/?id=now.htm',\n",
        " u'http://www.boxofficemojo.com//movies/?id=totalrecall2012.htm',\n",
        " u'http://www.boxofficemojo.com//movies/?id=bears.htm',\n",
        " u'http://www.boxofficemojo.com//movies/?id=adjustmentbureau.htm',\n",
        " u'http://www.boxofficemojo.com//movies/?id=oblivion.htm',\n",
        " u'http://www.boxofficemojo.com//movies/?id=oz.htm',\n",
        " u'http://www.boxofficemojo.com//movies/?id=21jumpstreet.htm',\n",
        " u'http://www.boxofficemojo.com//movies/?id=artist.htm',\n",
        " u'http://www.boxofficemojo.com//movies/?id=crazystupidlove.htm',\n",
        " u'http://www.boxofficemojo.com//movies/?id=haroldandkumar3.htm',\n",
        " u'http://www.boxofficemojo.com//movies/?id=titanic3d.htm',\n",
        " u'http://www.boxofficemojo.com//movies/?id=themuppets.htm',\n",
        " u'http://www.boxofficemojo.com//movies/?id=expendables.htm',\n",
        " u'http://www.boxofficemojo.com//movies/?id=sitter.htm',\n",
        " u'http://www.boxofficemojo.com//movies/?id=jackthegiantkiller.htm',\n",
        " u'http://www.boxofficemojo.com//movies/?id=identitythief.htm',\n",
        " u'http://www.boxofficemojo.com//movies/?id=super8.htm',\n",
        " u'http://www.boxofficemojo.com//movies/?id=findingnemo3d.htm',\n",
        " u'http://www.boxofficemojo.com//movies/?id=hauntedhouse2.htm',\n",
        " u'http://www.boxofficemojo.com//movies/?id=rebootralph.htm',\n",
        " u'http://www.boxofficemojo.com//movies/?id=horriblebosses.htm',\n",
        " u'http://www.boxofficemojo.com//movies/?id=insidious.htm',\n",
        " u'http://www.boxofficemojo.com//movies/?id=divergent.htm',\n",
        " u'http://www.boxofficemojo.com//movies/?id=stepup4.htm',\n",
        " u'http://www.boxofficemojo.com//movies/?id=wolfman.htm',\n",
        " u'http://www.boxofficemojo.com//movies/?id=wolfofwallstreet.htm',\n",
        " u'http://www.boxofficemojo.com//movies/?id=realsteel.htm',\n",
        " u'http://www.boxofficemojo.com//movies/?id=forcoloredgirls.htm',\n",
        " u'http://www.boxofficemojo.com//movies/?id=asabovesobelow.htm',\n",
        " u'http://www.boxofficemojo.com//movies/?id=sonofgod.htm',\n",
        " u'http://www.boxofficemojo.com//movies/?id=painandgain.htm',\n",
        " u'http://www.boxofficemojo.com//movies/?id=paranormalactivity2.htm',\n",
        " u'http://www.boxofficemojo.com//movies/?id=yogibear.htm',\n",
        " u'http://www.boxofficemojo.com//movies/?id=endersgame.htm',\n",
        " u'http://www.boxofficemojo.com//movies/?id=mastermind.htm',\n",
        " u'http://www.boxofficemojo.com//movies/?id=soulsurfer.htm',\n",
        " u'http://www.boxofficemojo.com//movies/?id=hugocabret.htm',\n",
        " u'http://www.boxofficemojo.com//movies/?id=warmbodies.htm',\n",
        " u'http://www.boxofficemojo.com//movies/?id=pompeii.htm',\n",
        " u'http://www.boxofficemojo.com//movies/?id=30minutesorless.htm',\n",
        " u'http://www.boxofficemojo.com//movies/?id=insidious2.htm',\n",
        " u'http://www.boxofficemojo.com//movies/?id=bestman2.htm',\n",
        " u'http://www.boxofficemojo.com//movies/?id=spiderman4.htm',\n",
        " u'http://www.boxofficemojo.com//movies/?id=letterstojuliet.htm',\n",
        " u'http://www.boxofficemojo.com//movies/?id=coupleofdicks.htm',\n",
        " u'http://www.boxofficemojo.com//movies/?id=reddawn10.htm',\n",
        " u'http://www.boxofficemojo.com//movies/?id=jimbrooks10.htm',\n",
        " u'http://www.boxofficemojo.com//movies/?id=snitch.htm',\n",
        " u'http://www.boxofficemojo.com//movies/?id=blackswan.htm',\n",
        " u'http://www.boxofficemojo.com//movies/?id=rockofages.htm',\n",
        " u'http://www.boxofficemojo.com//movies/?id=aboutlastnight14.htm',\n",
        " u'http://www.boxofficemojo.com//movies/?id=prisoners.htm',\n",
        " u'http://www.boxofficemojo.com//movies/?id=amostwantedman.htm',\n",
        " u'http://www.boxofficemojo.com//movies/?id=darkfields.htm',\n",
        " u'http://www.boxofficemojo.com//movies/?id=howardvaughnjames.htm',\n",
        " u'http://www.boxofficemojo.com//movies/?id=extremelyloud.htm',\n",
        " u'http://www.boxofficemojo.com//movies/?id=residentevil4.htm',\n",
        " u'http://www.boxofficemojo.com//movies/?id=lincolnlawyer.htm',\n",
        " u'http://www.boxofficemojo.com//movies/?id=wolverine2.htm',\n",
        " u'http://www.boxofficemojo.com//movies/?id=whenthegamestandstall.htm',\n",
        " u'http://www.boxofficemojo.com//movies/?id=toystory3.htm',\n",
        " u'http://www.boxofficemojo.com//movies/?id=truegrit2010.htm',\n",
        " u'http://www.boxofficemojo.com//movies/?id=oculus.htm',\n",
        " u'http://www.boxofficemojo.com//movies/?id=hubble3d.htm',\n",
        " u'http://www.boxofficemojo.com//movies/?id=worldsend.htm',\n",
        " u'http://www.boxofficemojo.com//movies/?id=wallstreet2.htm',\n",
        " u'http://www.boxofficemojo.com//movies/?id=savingmrbanks.htm',\n",
        " u'http://www.boxofficemojo.com//movies/?id=bieber3d.htm',\n",
        " u'http://www.boxofficemojo.com//movies/?id=diehard5.htm',\n",
        " u'http://www.boxofficemojo.com//movies/?id=contraband.htm',\n",
        " u'http://www.boxofficemojo.com//movies/?id=threedaystokill.htm',\n",
        " u'http://www.boxofficemojo.com//movies/?id=actofvalor.htm',\n",
        " u'http://www.boxofficemojo.com//movies/?id=darkshadows.htm',\n",
        " u'http://www.boxofficemojo.com//movies/?id=purge.htm',\n",
        " u'http://www.boxofficemojo.com//movies/?id=arthurchristmas.htm',\n",
        " u'http://www.boxofficemojo.com//movies/?id=planes2.htm',\n",
        " u'http://www.boxofficemojo.com//movies/?id=journey2.htm',\n",
        " u'http://www.boxofficemojo.com//movies/?id=frozen2013.htm',\n",
        " u'http://www.boxofficemojo.com//movies/?id=jackass3d.htm',\n",
        " u'http://www.boxofficemojo.com//movies/?id=unstoppable.htm',\n",
        " u'http://www.boxofficemojo.com//movies/?id=wheninrome.htm',\n",
        " u'http://www.boxofficemojo.com//movies/?id=arthur2011.htm',\n",
        " u'http://www.boxofficemojo.com//movies/?id=devilsdue.htm',\n",
        " u'http://www.boxofficemojo.com//movies/?id=hercules2014.htm',\n",
        " u'http://www.boxofficemojo.com//movies/?id=lorax.htm',\n",
        " u'http://www.boxofficemojo.com//movies/?id=milliondollararm.htm',\n",
        " u'http://www.boxofficemojo.com//movies/?id=lastvegas.htm',\n",
        " u'http://www.boxofficemojo.com//movies/?id=shutterisland.htm',\n",
        " u'http://www.boxofficemojo.com//movies/?id=friendswithbenefits.htm',\n",
        " u'http://www.boxofficemojo.com//movies/?id=redridinghood.htm',\n",
        " u'http://www.boxofficemojo.com//movies/?id=tammy.htm',\n",
        " u'http://www.boxofficemojo.com//movies/?id=larrycrowne.htm',\n",
        " u'http://www.boxofficemojo.com//movies/?id=gooddeeds.htm',\n",
        " u'http://www.boxofficemojo.com//movies/?id=her2013.htm',\n",
        " u'http://www.boxofficemojo.com//movies/?id=ateam.htm',\n",
        " u'http://www.boxofficemojo.com//movies/?id=hobbit.htm',\n",
        " u'http://www.boxofficemojo.com//movies/?id=twelveyearsaslave.htm',\n",
        " u'http://www.boxofficemojo.com//movies/?id=ihop.htm',\n",
        " u'http://www.boxofficemojo.com//movies/?id=residentevil5.htm',\n",
        " u'http://www.boxofficemojo.com//movies/?id=pussinboots12.htm',\n",
        " u'http://www.boxofficemojo.com//movies/?id=despicableme2.htm',\n",
        " u'http://www.boxofficemojo.com//movies/?id=greatgatsby2012.htm',\n",
        " u'http://www.boxofficemojo.com//movies/?id=bestexoticmarigoldhotel.htm',\n",
        " u'http://www.boxofficemojo.com//movies/?id=rush2013.htm',\n",
        " u'http://www.boxofficemojo.com//movies/?id=untitledvampirespoof.htm',\n",
        " u'http://www.boxofficemojo.com//movies/?id=courageous.htm',\n",
        " u'http://www.boxofficemojo.com//movies/?id=captainamerica.htm',\n",
        " u'http://www.boxofficemojo.com//movies/?id=oneshot.htm',\n",
        " u'http://www.boxofficemojo.com//movies/?id=scarymovie5.htm',\n",
        " u'http://www.boxofficemojo.com//movies/?id=ted.htm',\n",
        " u'http://www.boxofficemojo.com//movies/?id=debt.htm',\n",
        " u'http://www.boxofficemojo.com//movies/?id=tourist.htm',\n",
        " u'http://www.boxofficemojo.com//movies/?id=breakingdawn2.htm',\n",
        " u'http://www.boxofficemojo.com//movies/?id=noah.htm',\n",
        " u'http://www.boxofficemojo.com//movies/?id=turbo.htm',\n",
        " u'http://www.boxofficemojo.com//movies/?id=silverliningsplaybook.htm',\n",
        " u'http://www.boxofficemojo.com//movies/?id=sincity2.htm',\n",
        " u'http://www.boxofficemojo.com//movies/?id=edgeofdarkness.htm',\n",
        " u'http://www.boxofficemojo.com//movies/?id=xmen2014.htm',\n",
        " u'http://www.boxofficemojo.com//movies/?id=guardians.htm',\n",
        " u'http://www.boxofficemojo.com//movies/?id=charliestcloud.htm',\n",
        " u'http://www.boxofficemojo.com//movies/?id=roommate10.htm',\n",
        " u'http://www.boxofficemojo.com//movies/?id=ida.htm',\n",
        " u'http://www.boxofficemojo.com//movies/?id=singlemomsclub.htm',\n",
        " u'http://www.boxofficemojo.com//movies/?id=xmenfirstclass.htm',\n",
        " u'http://www.boxofficemojo.com//movies/?id=johncarterofmars.htm',\n",
        " u'http://www.boxofficemojo.com//movies/?id=sinister.htm',\n",
        " u'http://www.boxofficemojo.com//movies/?id=lesmiserables2012.htm',\n",
        " u'http://www.boxofficemojo.com//movies/?id=tintin.htm',\n",
        " u'http://www.boxofficemojo.com//movies/?id=projectx2011.htm',\n",
        " u'http://www.boxofficemojo.com//movies/?id=troublewiththecurve.htm',\n",
        " u'http://www.boxofficemojo.com//movies/?id=jurassicpark3d.htm',\n",
        " u'http://www.boxofficemojo.com//movies/?id=hereafter.htm',\n",
        " u'http://www.boxofficemojo.com//movies/?id=hangover2.htm',\n",
        " u'http://www.boxofficemojo.com//movies/?id=dawnoftheapes.htm',\n",
        " u'http://www.boxofficemojo.com//movies/?id=loopers.htm',\n",
        " u'http://www.boxofficemojo.com//movies/?id=butler.htm',\n",
        " u'http://www.boxofficemojo.com//movies/?id=weboughtazoo.htm',\n",
        " u'http://www.boxofficemojo.com//movies/?id=nightchroniclesdevil.htm',\n",
        " u'http://www.boxofficemojo.com//movies/?id=argo.htm',\n",
        " u'http://www.boxofficemojo.com//movies/?id=breakingdawn.htm',\n",
        " u'http://www.boxofficemojo.com//movies/?id=godzilla2012.htm']\n"
       ]
      }
     ],
     "prompt_number": 4
    },
    {
     "cell_type": "code",
     "collapsed": false,
     "input": [
      "reload(bomojo)\n",
      "recent_movie_data, problem_recent_movie_data = ms.get_movie_dicts_from_URL_list_page(recent_movie_urls)"
     ],
     "language": "python",
     "metadata": {},
     "outputs": [
      {
       "output_type": "stream",
       "stream": "stdout",
       "text": [
        "Parsing http://www.boxofficemojo.com//movies/?id=chef.htm\n",
        "Parsing"
       ]
      },
      {
       "output_type": "stream",
       "stream": "stdout",
       "text": [
        " http://www.boxofficemojo.com//movies/?id=taken2.htm\n",
        "Parsing"
       ]
      },
      {
       "output_type": "stream",
       "stream": "stdout",
       "text": [
        " http://www.boxofficemojo.com//movies/?id=descendents.htm\n",
        "Parsing"
       ]
      },
      {
       "output_type": "stream",
       "stream": "stdout",
       "text": [
        " http://www.boxofficemojo.com//movies/?id=instructionsnotincluded.htm\n",
        "Parsing"
       ]
      },
      {
       "output_type": "stream",
       "stream": "stdout",
       "text": [
        " http://www.boxofficemojo.com//movies/?id=cabininthewoods.htm\n",
        "Parsing"
       ]
      },
      {
       "output_type": "stream",
       "stream": "stdout",
       "text": [
        " http://www.boxofficemojo.com//movies/?id=godsnotdead.htm\n",
        "Parsing"
       ]
      },
      {
       "output_type": "stream",
       "stream": "stdout",
       "text": [
        " http://www.boxofficemojo.com//movies/?id=gnomeoandjuliet.htm\n",
        "Parsing"
       ]
      },
      {
       "output_type": "stream",
       "stream": "stdout",
       "text": [
        " http://www.boxofficemojo.com//movies/?id=davido2013.htm\n",
        "Parsing"
       ]
      },
      {
       "output_type": "stream",
       "stream": "stdout",
       "text": [
        " http://www.boxofficemojo.com//movies/?id=secretariat.htm\n",
        "Parsing"
       ]
      },
      {
       "output_type": "stream",
       "stream": "stdout",
       "text": [
        " http://www.boxofficemojo.com//movies/?id=ifrankenstein.htm\n",
        "Parsing"
       ]
      },
      {
       "output_type": "stream",
       "stream": "stdout",
       "text": [
        " http://www.boxofficemojo.com//movies/?id=howtotrainyourdragon.htm\n",
        "Parsing"
       ]
      },
      {
       "output_type": "stream",
       "stream": "stdout",
       "text": [
        " http://www.boxofficemojo.com//movies/?id=houseattheendofthestreet.htm\n",
        "Parsing"
       ]
      },
      {
       "output_type": "stream",
       "stream": "stdout",
       "text": [
        " http://www.boxofficemojo.com//movies/?id=needforspeed.htm\n",
        "Parsing"
       ]
      },
      {
       "output_type": "stream",
       "stream": "stdout",
       "text": [
        " http://www.boxofficemojo.com//movies/?id=bewarethenight.htm\n",
        "Parsing"
       ]
      },
      {
       "output_type": "stream",
       "stream": "stdout",
       "text": [
        " http://www.boxofficemojo.com//movies/?id=colombiana.htm\n",
        "Parsing"
       ]
      },
      {
       "output_type": "stream",
       "stream": "stdout",
       "text": [
        " http://www.boxofficemojo.com//movies/?id=hard10.htm\n",
        "Parsing"
       ]
      },
      {
       "output_type": "stream",
       "stream": "stdout",
       "text": [
        " http://www.boxofficemojo.com//movies/?id=hangover3.htm\n",
        "Parsing"
       ]
      },
      {
       "output_type": "stream",
       "stream": "stdout",
       "text": [
        " http://www.boxofficemojo.com//movies/?id=piratesofthecaribbean4.htm\n",
        "Parsing"
       ]
      },
      {
       "output_type": "stream",
       "stream": "stdout",
       "text": [
        " http://www.boxofficemojo.com//movies/?id=help2011.htm\n",
        "Parsing"
       ]
      },
      {
       "output_type": "stream",
       "stream": "stdout",
       "text": [
        " http://www.boxofficemojo.com//movies/?id=towerheist.htm\n",
        "Parsing"
       ]
      },
      {
       "output_type": "stream",
       "stream": "stdout",
       "text": [
        " http://www.boxofficemojo.com//movies/?id=olympushasfallen.htm\n",
        "Parsing"
       ]
      },
      {
       "output_type": "stream",
       "stream": "stdout",
       "text": [
        " http://www.boxofficemojo.com//movies/?id=stepup5.htm\n",
        "Parsing"
       ]
      },
      {
       "output_type": "stream",
       "stream": "stdout",
       "text": [
        " http://www.boxofficemojo.com//movies/?id=100foot.htm\n",
        "Parsing"
       ]
      },
      {
       "output_type": "stream",
       "stream": "stdout",
       "text": [
        " http://www.boxofficemojo.com//movies/?id=elysium.htm\n",
        "Parsing"
       ]
      },
      {
       "output_type": "stream",
       "stream": "stdout",
       "text": [
        " http://www.boxofficemojo.com//movies/?id=gravity.htm\n",
        "Parsing"
       ]
      },
      {
       "output_type": "stream",
       "stream": "stdout",
       "text": [
        " http://www.boxofficemojo.com//movies/?id=monstersinc3d.htm\n",
        "Parsing"
       ]
      },
      {
       "output_type": "stream",
       "stream": "stdout",
       "text": [
        " http://www.boxofficemojo.com//movies/?id=karatekid2010.htm\n",
        "Parsing"
       ]
      },
      {
       "output_type": "stream",
       "stream": "stdout",
       "text": [
        " http://www.boxofficemojo.com//movies/?id=scream4.htm\n",
        "Parsing"
       ]
      },
      {
       "output_type": "stream",
       "stream": "stdout",
       "text": [
        " http://www.boxofficemojo.com//movies/?id=despicableme.htm\n",
        "Parsing"
       ]
      },
      {
       "output_type": "stream",
       "stream": "stdout",
       "text": [
        " http://www.boxofficemojo.com//movies/?id=legion10.htm\n",
        "Parsing"
       ]
      },
      {
       "output_type": "stream",
       "stream": "stdout",
       "text": [
        " http://www.boxofficemojo.com//movies/?id=redtails.htm\n",
        "Parsing"
       ]
      },
      {
       "output_type": "stream",
       "stream": "stdout",
       "text": [
        " http://www.boxofficemojo.com//movies/?id=wettestcountry.htm\n",
        "Parsing"
       ]
      },
      {
       "output_type": "stream",
       "stream": "stdout",
       "text": [
        " http://www.boxofficemojo.com//movies/?id=winterstale.htm\n",
        "Parsing"
       ]
      },
      {
       "output_type": "stream",
       "stream": "stdout",
       "text": [
        " http://www.boxofficemojo.com//movies/?id=fadinggigolo.htm\n",
        "Parsing"
       ]
      },
      {
       "output_type": "stream",
       "stream": "stdout",
       "text": [
        " http://www.boxofficemojo.com//movies/?id=thinklikeaman.htm\n",
        "Parsing"
       ]
      },
      {
       "output_type": "stream",
       "stream": "stdout",
       "text": [
        " http://www.boxofficemojo.com//movies/?id=bigmomma3.htm\n",
        "Parsing"
       ]
      },
      {
       "output_type": "stream",
       "stream": "stdout",
       "text": [
        " http://www.boxofficemojo.com//movies/?id=railwayman.htm\n",
        "Parsing"
       ]
      },
      {
       "output_type": "stream",
       "stream": "stdout",
       "text": [
        " http://www.boxofficemojo.com//movies/?id=50fifty.htm\n",
        "Parsing"
       ]
      },
      {
       "output_type": "stream",
       "stream": "stdout",
       "text": [
        " http://www.boxofficemojo.com//movies/?id=princeofpersia.htm\n",
        "Parsing"
       ]
      },
      {
       "output_type": "stream",
       "stream": "stdout",
       "text": [
        " http://www.boxofficemojo.com//movies/?id=dallasbuyersclub.htm\n",
        "Parsing"
       ]
      },
      {
       "output_type": "stream",
       "stream": "stdout",
       "text": [
        " http://www.boxofficemojo.com//movies/?id=djangounchained.htm\n",
        "Parsing"
       ]
      },
      {
       "output_type": "stream",
       "stream": "stdout",
       "text": [
        " http://www.boxofficemojo.com//movies/?id=pacificrim.htm\n",
        "Parsing"
       ]
      },
      {
       "output_type": "stream",
       "stream": "stdout",
       "text": [
        " http://www.boxofficemojo.com//movies/?id=islandoflemurs.htm\n",
        "Parsing"
       ]
      },
      {
       "output_type": "stream",
       "stream": "stdout",
       "text": [
        " http://www.boxofficemojo.com//movies/?id=monstersinc2.htm\n",
        "Parsing"
       ]
      },
      {
       "output_type": "stream",
       "stream": "stdout",
       "text": [
        " http://www.boxofficemojo.com//movies/?id=legendsofoz.htm\n",
        "Parsing"
       ]
      },
      {
       "output_type": "stream",
       "stream": "stdout",
       "text": [
        " http://www.boxofficemojo.com//movies/?id=scottpilgrim.htm\n",
        "Parsing"
       ]
      },
      {
       "output_type": "stream",
       "stream": "stdout",
       "text": [
        " http://www.boxofficemojo.com//movies/?id=catchingfire.htm\n",
        "Parsing"
       ]
      },
      {
       "output_type": "stream",
       "stream": "stdout",
       "text": [
        " http://www.boxofficemojo.com//movies/?id=unknownwhitemale11.htm\n",
        "Parsing"
       ]
      },
      {
       "output_type": "stream",
       "stream": "stdout",
       "text": [
        " http://www.boxofficemojo.com//movies/?id=momsnightout.htm\n",
        "Parsing"
       ]
      },
      {
       "output_type": "stream",
       "stream": "stdout",
       "text": [
        " http://www.boxofficemojo.com//movies/?id=waterforelephants.htm\n",
        "Parsing"
       ]
      },
      {
       "output_type": "stream",
       "stream": "stdout",
       "text": [
        " http://www.boxofficemojo.com//movies/?id=hanselandgretelwitchhunters.htm\n",
        "Parsing"
       ]
      },
      {
       "output_type": "stream",
       "stream": "stdout",
       "text": [
        " http://www.boxofficemojo.com//movies/?id=21andover.htm\n",
        "Parsing"
       ]
      },
      {
       "output_type": "stream",
       "stream": "stdout",
       "text": [
        " http://www.boxofficemojo.com//movies/?id=werethemillers.htm\n",
        "Parsing"
       ]
      },
      {
       "output_type": "stream",
       "stream": "stdout",
       "text": [
        " http://www.boxofficemojo.com//movies/?id=ironlady.htm\n",
        "Parsing"
       ]
      },
      {
       "output_type": "stream",
       "stream": "stdout",
       "text": [
        " http://www.boxofficemojo.com//movies/?id=nonstop.htm\n",
        "Parsing"
       ]
      },
      {
       "output_type": "stream",
       "stream": "stdout",
       "text": [
        " http://www.boxofficemojo.com//movies/?id=21jumpstreet2.htm\n",
        "Parsing"
       ]
      },
      {
       "output_type": "stream",
       "stream": "stdout",
       "text": [
        " http://www.boxofficemojo.com//movies/?id=guardiansofgahoole.htm\n",
        "Parsing"
       ]
      },
      {
       "output_type": "stream",
       "stream": "stdout",
       "text": [
        " http://www.boxofficemojo.com//movies/?id=vampireacademy.htm\n",
        "Parsing"
       ]
      },
      {
       "output_type": "stream",
       "stream": "stdout",
       "text": [
        " http://www.boxofficemojo.com//movies/?id=hottubtimemachine.htm\n",
        "Parsing"
       ]
      },
      {
       "output_type": "stream",
       "stream": "stdout",
       "text": [
        " http://www.boxofficemojo.com//movies/?id=escapefromplanetearth.htm\n",
        "Parsing"
       ]
      },
      {
       "output_type": "stream",
       "stream": "stdout",
       "text": [
        " http://www.boxofficemojo.com//movies/?id=thor2.htm\n",
        "Parsing"
       ]
      },
      {
       "output_type": "stream",
       "stream": "stdout",
       "text": [
        " http://www.boxofficemojo.com//movies/?id=tmnt2013.htm\n",
        "Parsing"
       ]
      },
      {
       "output_type": "stream",
       "stream": "stdout",
       "text": [
        " http://www.boxofficemojo.com//movies/?id=threestooges.htm\n",
        "Parsing"
       ]
      },
      {
       "output_type": "stream",
       "stream": "stdout",
       "text": [
        " http://www.boxofficemojo.com//movies/?id=diaryofawimpykid2.htm\n",
        "Parsing"
       ]
      },
      {
       "output_type": "stream",
       "stream": "stdout",
       "text": [
        " http://www.boxofficemojo.com//movies/?id=bearandthebow.htm\n",
        "Parsing"
       ]
      },
      {
       "output_type": "stream",
       "stream": "stdout",
       "text": [
        " http://www.boxofficemojo.com//movies/?id=nowyouseeme.htm\n",
        "Parsing"
       ]
      },
      {
       "output_type": "stream",
       "stream": "stdout",
       "text": [
        " http://www.boxofficemojo.com//movies/?id=paul.htm\n",
        "Parsing"
       ]
      },
      {
       "output_type": "stream",
       "stream": "stdout",
       "text": [
        " http://www.boxofficemojo.com//movies/?id=sourcecode.htm\n",
        "Parsing"
       ]
      },
      {
       "output_type": "stream",
       "stream": "stdout",
       "text": [
        " http://www.boxofficemojo.com//movies/?id=america2014.htm\n",
        "Parsing"
       ]
      },
      {
       "output_type": "stream",
       "stream": "stdout",
       "text": [
        " http://www.boxofficemojo.com//movies/?id=whydidigetmarriedtoo.htm\n",
        "Parsing"
       ]
      },
      {
       "output_type": "stream",
       "stream": "stdout",
       "text": [
        " http://www.boxofficemojo.com//movies/?id=anchorman2.htm\n",
        "Parsing"
       ]
      },
      {
       "output_type": "stream",
       "stream": "stdout",
       "text": [
        " http://www.boxofficemojo.com//movies/?id=magicmike.htm\n",
        "Parsing"
       ]
      },
      {
       "output_type": "stream",
       "stream": "stdout",
       "text": [
        " http://www.boxofficemojo.com//movies/?id=footloose2010.htm\n",
        "Parsing"
       ]
      },
      {
       "output_type": "stream",
       "stream": "stdout",
       "text": [
        " http://www.boxofficemojo.com//movies/?id=catsanddogs2.htm\n",
        "Parsing"
       ]
      },
      {
       "output_type": "stream",
       "stream": "stdout",
       "text": [
        " http://www.boxofficemojo.com//movies/?id=devilinside.htm\n",
        "Parsing"
       ]
      },
      {
       "output_type": "stream",
       "stream": "stdout",
       "text": [
        " http://www.boxofficemojo.com//movies/?id=maleficient.htm\n",
        "Parsing"
       ]
      },
      {
       "output_type": "stream",
       "stream": "stdout",
       "text": [
        " http://www.boxofficemojo.com//movies/?id=planes.htm\n",
        "Parsing"
       ]
      },
      {
       "output_type": "stream",
       "stream": "stdout",
       "text": [
        " http://www.boxofficemojo.com//movies/?id=hauntedhouse.htm\n",
        "Parsing"
       ]
      },
      {
       "output_type": "stream",
       "stream": "stdout",
       "text": [
        " http://www.boxofficemojo.com//movies/?id=town10.htm\n",
        "Parsing"
       ]
      },
      {
       "output_type": "stream",
       "stream": "stdout",
       "text": [
        " http://www.boxofficemojo.com//movies/?id=expendables3.htm\n",
        "Parsing"
       ]
      },
      {
       "output_type": "stream",
       "stream": "stdout",
       "text": [
        " http://www.boxofficemojo.com//movies/?id=binladen.htm\n",
        "Parsing"
       ]
      },
      {
       "output_type": "stream",
       "stream": "stdout",
       "text": [
        " http://www.boxofficemojo.com//movies/?id=midnightinparis.htm\n",
        "Parsing"
       ]
      },
      {
       "output_type": "stream",
       "stream": "stdout",
       "text": [
        " http://www.boxofficemojo.com//movies/?id=monumentsmen.htm\n",
        "Parsing"
       ]
      },
      {
       "output_type": "stream",
       "stream": "stdout",
       "text": [
        " http://www.boxofficemojo.com//movies/?id=badteacher.htm\n",
        "Parsing"
       ]
      },
      {
       "output_type": "stream",
       "stream": "stdout",
       "text": [
        " http://www.boxofficemojo.com//movies/?id=abrahamlincolnvampirehunter.htm\n",
        "Parsing"
       ]
      },
      {
       "output_type": "stream",
       "stream": "stdout",
       "text": [
        " http://www.boxofficemojo.com//movies/?id=endofwatch.htm\n",
        "Parsing"
       ]
      },
      {
       "output_type": "stream",
       "stream": "stdout",
       "text": [
        " http://www.boxofficemojo.com//movies/?id=herecomestheboom.htm\n",
        "Parsing"
       ]
      },
      {
       "output_type": "stream",
       "stream": "stdout",
       "text": [
        " http://www.boxofficemojo.com//movies/?id=lastairbender.htm\n",
        "Parsing"
       ]
      },
      {
       "output_type": "stream",
       "stream": "stdout",
       "text": [
        " http://www.boxofficemojo.com//movies/?id=starwars3d.htm\n",
        "Parsing"
       ]
      },
      {
       "output_type": "stream",
       "stream": "stdout",
       "text": [
        " http://www.boxofficemojo.com//movies/?id=cesarchavez.htm\n",
        "Parsing"
       ]
      },
      {
       "output_type": "stream",
       "stream": "stdout",
       "text": [
        " http://www.boxofficemojo.com//movies/?id=thor.htm\n",
        "Parsing"
       ]
      },
      {
       "output_type": "stream",
       "stream": "stdout",
       "text": [
        " http://www.boxofficemojo.com//movies/?id=apatow.htm\n",
        "Parsing"
       ]
      },
      {
       "output_type": "stream",
       "stream": "stdout",
       "text": [
        " http://www.boxofficemojo.com//movies/?id=stepup3d.htm\n",
        "Parsing"
       ]
      },
      {
       "output_type": "stream",
       "stream": "stdout",
       "text": [
        " http://www.boxofficemojo.com//movies/?id=underworld4.htm\n",
        "Parsing"
       ]
      },
      {
       "output_type": "stream",
       "stream": "stdout",
       "text": [
        " http://www.boxofficemojo.com//movies/?id=madagascar3.htm\n",
        "Parsing"
       ]
      },
      {
       "output_type": "stream",
       "stream": "stdout",
       "text": [
        " http://www.boxofficemojo.com//movies/?id=canasong.htm\n",
        "Parsing"
       ]
      },
      {
       "output_type": "stream",
       "stream": "stdout",
       "text": [
        " http://www.boxofficemojo.com//movies/?id=madeaswitnessprotection.htm\n",
        "Parsing"
       ]
      },
      {
       "output_type": "stream",
       "stream": "stdout",
       "text": [
        " http://www.boxofficemojo.com//movies/?id=madeachristmas.htm\n",
        "Parsing"
       ]
      },
      {
       "output_type": "stream",
       "stream": "stdout",
       "text": [
        " http://www.boxofficemojo.com//movies/?id=greenzone.htm\n",
        "Parsing"
       ]
      },
      {
       "output_type": "stream",
       "stream": "stdout",
       "text": [
        " http://www.boxofficemojo.com//movies/?id=heavenisforreal.htm\n",
        "Parsing"
       ]
      },
      {
       "output_type": "stream",
       "stream": "stdout",
       "text": [
        " http://www.boxofficemojo.com//movies/?id=mama.htm\n",
        "Parsing"
       ]
      },
      {
       "output_type": "stream",
       "stream": "stdout",
       "text": [
        " http://www.boxofficemojo.com//movies/?id=transformers4.htm\n",
        "Parsing"
       ]
      },
      {
       "output_type": "stream",
       "stream": "stdout",
       "text": [
        " http://www.boxofficemojo.com//movies/?id=gethimtothegreek.htm\n",
        "Parsing"
       ]
      },
      {
       "output_type": "stream",
       "stream": "stdout",
       "text": [
        " http://www.boxofficemojo.com//movies/?id=thinklikeaman2.htm\n",
        "Parsing"
       ]
      },
      {
       "output_type": "stream",
       "stream": "stdout",
       "text": [
        " http://www.boxofficemojo.com//movies/?id=allyouneediskill.htm\n",
        "Parsing"
       ]
      },
      {
       "output_type": "stream",
       "stream": "stdout",
       "text": [
        " http://www.boxofficemojo.com//movies/?id=iamnumberfour.htm\n",
        "Parsing"
       ]
      },
      {
       "output_type": "stream",
       "stream": "stdout",
       "text": [
        " http://www.boxofficemojo.com//movies/?id=pirates12.htm\n",
        "Parsing"
       ]
      },
      {
       "output_type": "stream",
       "stream": "stdout",
       "text": [
        " http://www.boxofficemojo.com//movies/?id=clashofthetitans2.htm\n",
        "Parsing"
       ]
      },
      {
       "output_type": "stream",
       "stream": "stdout",
       "text": [
        " http://www.boxofficemojo.com//movies/?id=laborday.htm\n",
        "Parsing"
       ]
      },
      {
       "output_type": "stream",
       "stream": "stdout",
       "text": [
        " http://www.boxofficemojo.com//movies/?id=thismeanwar.htm\n",
        "Parsing"
       ]
      },
      {
       "output_type": "stream",
       "stream": "stdout",
       "text": [
        " http://www.boxofficemojo.com//movies/?id=mrpopperspenguins.htm\n",
        "Parsing"
       ]
      },
      {
       "output_type": "stream",
       "stream": "stdout",
       "text": [
        " http://www.boxofficemojo.com//movies/?id=ironman3.htm\n",
        "Parsing"
       ]
      },
      {
       "output_type": "stream",
       "stream": "stdout",
       "text": [
        " http://www.boxofficemojo.com//movies/?id=nottingham.htm\n",
        "Parsing"
       ]
      },
      {
       "output_type": "stream",
       "stream": "stdout",
       "text": [
        " http://www.boxofficemojo.com//movies/?id=transcendence.htm\n",
        "Parsing"
       ]
      },
      {
       "output_type": "stream",
       "stream": "stdout",
       "text": [
        " http://www.boxofficemojo.com//movies/?id=jumpingthebroom.htm\n",
        "Parsing"
       ]
      },
      {
       "output_type": "stream",
       "stream": "stdout",
       "text": [
        " http://www.boxofficemojo.com//movies/?id=2016obamasamerica.htm\n",
        "Parsing"
       ]
      },
      {
       "output_type": "stream",
       "stream": "stdout",
       "text": [
        " http://www.boxofficemojo.com//movies/?id=rite.htm\n",
        "Parsing"
       ]
      },
      {
       "output_type": "stream",
       "stream": "stdout",
       "text": [
        " http://www.boxofficemojo.com//movies/?id=mi4.htm\n",
        "Parsing"
       ]
      },
      {
       "output_type": "stream",
       "stream": "stdout",
       "text": [
        " http://www.boxofficemojo.com//movies/?id=neighborhoodwatch.htm\n",
        "Parsing"
       ]
      },
      {
       "output_type": "stream",
       "stream": "stdout",
       "text": [
        " http://www.boxofficemojo.com//movies/?id=lunchbox.htm\n",
        "Parsing"
       ]
      },
      {
       "output_type": "stream",
       "stream": "stdout",
       "text": [
        " http://www.boxofficemojo.com//movies/?id=belle.htm\n",
        "Parsing"
       ]
      },
      {
       "output_type": "stream",
       "stream": "stdout",
       "text": [
        " http://www.boxofficemojo.com//movies/?id=kickass.htm\n",
        "Parsing"
       ]
      },
      {
       "output_type": "stream",
       "stream": "stdout",
       "text": [
        " http://www.boxofficemojo.com//movies/?id=fiveyearengagement.htm\n",
        "Parsing"
       ]
      },
      {
       "output_type": "stream",
       "stream": "stdout",
       "text": [
        " http://www.boxofficemojo.com//movies/?id=cruisediaz10.htm\n",
        "Parsing"
       ]
      },
      {
       "output_type": "stream",
       "stream": "stdout",
       "text": [
        " http://www.boxofficemojo.com//movies/?id=snowwhiteandthehuntsman.htm\n",
        "Parsing"
       ]
      },
      {
       "output_type": "stream",
       "stream": "stdout",
       "text": [
        " http://www.boxofficemojo.com//movies/?id=dearjohn.htm\n",
        "Parsing"
       ]
      },
      {
       "output_type": "stream",
       "stream": "stdout",
       "text": [
        " http://www.boxofficemojo.com//movies/?id=chronicle2012.htm\n",
        "Parsing"
       ]
      },
      {
       "output_type": "stream",
       "stream": "stdout",
       "text": [
        " http://www.boxofficemojo.com//movies/?id=kickass2.htm\n",
        "Parsing"
       ]
      },
      {
       "output_type": "stream",
       "stream": "stdout",
       "text": [
        " http://www.boxofficemojo.com//movies/?id=croods.htm\n",
        "Parsing"
       ]
      },
      {
       "output_type": "stream",
       "stream": "stdout",
       "text": [
        " http://www.boxofficemojo.com//movies/?id=wiigapatow.htm\n",
        "Parsing"
       ]
      },
      {
       "output_type": "stream",
       "stream": "stdout",
       "text": [
        " http://www.boxofficemojo.com//movies/?id=paranorman.htm\n",
        "Parsing"
       ]
      },
      {
       "output_type": "stream",
       "stream": "stdout",
       "text": [
        " http://www.boxofficemojo.com//movies/?id=avengers11.htm\n",
        "Parsing"
       ]
      },
      {
       "output_type": "stream",
       "stream": "stdout",
       "text": [
        " http://www.boxofficemojo.com//movies/?id=prometheus.htm\n",
        "Parsing"
       ]
      },
      {
       "output_type": "stream",
       "stream": "stdout",
       "text": [
        " http://www.boxofficemojo.com//movies/?id=lucy.htm\n",
        "Parsing"
       ]
      },
      {
       "output_type": "stream",
       "stream": "stdout",
       "text": [
        " http://www.boxofficemojo.com//movies/?id=ghostrider2.htm\n",
        "Parsing"
       ]
      },
      {
       "output_type": "stream",
       "stream": "stdout",
       "text": [
        " http://www.boxofficemojo.com//movies/?id=bluejasmine.htm\n",
        "Parsing"
       ]
      },
      {
       "output_type": "stream",
       "stream": "stdout",
       "text": [
        " http://www.boxofficemojo.com//movies/?id=brickmansions.htm\n",
        "Parsing"
       ]
      },
      {
       "output_type": "stream",
       "stream": "stdout",
       "text": [
        " http://www.boxofficemojo.com//movies/?id=cowboysandaliens.htm\n",
        "Parsing"
       ]
      },
      {
       "output_type": "stream",
       "stream": "stdout",
       "text": [
        " http://www.boxofficemojo.com//movies/?id=2guns.htm\n",
        "Parsing"
       ]
      },
      {
       "output_type": "stream",
       "stream": "stdout",
       "text": [
        " http://www.boxofficemojo.com//movies/?id=percyjackson.htm\n",
        "Parsing"
       ]
      },
      {
       "output_type": "stream",
       "stream": "stdout",
       "text": [
        " http://www.boxofficemojo.com//movies/?id=lionking3d.htm\n",
        "Parsing"
       ]
      },
      {
       "output_type": "stream",
       "stream": "stdout",
       "text": [
        " http://www.boxofficemojo.com//movies/?id=percyjackson2.htm\n",
        "Parsing"
       ]
      },
      {
       "output_type": "stream",
       "stream": "stdout",
       "text": [
        " http://www.boxofficemojo.com//movies/?id=novemberman.htm\n",
        "Parsing"
       ]
      },
      {
       "output_type": "stream",
       "stream": "stdout",
       "text": [
        " http://www.boxofficemojo.com//movies/?id=grudgematch.htm\n",
        "Parsing"
       ]
      },
      {
       "output_type": "stream",
       "stream": "stdout",
       "text": [
        " http://www.boxofficemojo.com//movies/?id=loveandotherdrugs.htm\n",
        "Parsing"
       ]
      },
      {
       "output_type": "stream",
       "stream": "stdout",
       "text": [
        " http://www.boxofficemojo.com//movies/?id=badwords.htm\n",
        "Parsing"
       ]
      },
      {
       "output_type": "stream",
       "stream": "stdout",
       "text": [
        " http://www.boxofficemojo.com//movies/?id=bookofeli.htm\n",
        "Parsing"
       ]
      },
      {
       "output_type": "stream",
       "stream": "stdout",
       "text": [
        " http://www.boxofficemojo.com//movies/?id=lincoln.htm\n",
        "Parsing"
       ]
      },
      {
       "output_type": "stream",
       "stream": "stdout",
       "text": [
        " http://www.boxofficemojo.com//movies/?id=cantinflas.htm\n",
        "Parsing"
       ]
      },
      {
       "output_type": "stream",
       "stream": "stdout",
       "text": [
        " http://www.boxofficemojo.com//movies/?id=saw7.htm\n",
        "Parsing"
       ]
      },
      {
       "output_type": "stream",
       "stream": "stdout",
       "text": [
        " http://www.boxofficemojo.com//movies/?id=sextape.htm\n",
        "Parsing"
       ]
      },
      {
       "output_type": "stream",
       "stream": "stdout",
       "text": [
        " http://www.boxofficemojo.com//movies/?id=iceage4.htm\n",
        "Parsing"
       ]
      },
      {
       "output_type": "stream",
       "stream": "stdout",
       "text": [
        " http://www.boxofficemojo.com//movies/?id=evildead2013.htm\n",
        "Parsing"
       ]
      },
      {
       "output_type": "stream",
       "stream": "stdout",
       "text": [
        " http://www.boxofficemojo.com//movies/?id=host2013.htm\n",
        "Parsing"
       ]
      },
      {
       "output_type": "stream",
       "stream": "stdout",
       "text": [
        " http://www.boxofficemojo.com//movies/?id=nightmareonelmstreet10.htm\n",
        "Parsing"
       ]
      },
      {
       "output_type": "stream",
       "stream": "stdout",
       "text": [
        " http://www.boxofficemojo.com//movies/?id=luckyone.htm\n",
        "Parsing"
       ]
      },
      {
       "output_type": "stream",
       "stream": "stdout",
       "text": [
        " http://www.boxofficemojo.com//movies/?id=blended.htm\n",
        "Parsing"
       ]
      },
      {
       "output_type": "stream",
       "stream": "stdout",
       "text": [
        " http://www.boxofficemojo.com//movies/?id=dictator.htm\n",
        "Parsing"
       ]
      },
      {
       "output_type": "stream",
       "stream": "stdout",
       "text": [
        " http://www.boxofficemojo.com//movies/?id=tron2.htm\n",
        "Parsing"
       ]
      },
      {
       "output_type": "stream",
       "stream": "stdout",
       "text": [
        " http://www.boxofficemojo.com//movies/?id=echo.htm\n",
        "Parsing"
       ]
      },
      {
       "output_type": "stream",
       "stream": "stdout",
       "text": [
        " http://www.boxofficemojo.com//movies/?id=chimpanzee.htm\n",
        "Parsing"
       ]
      },
      {
       "output_type": "stream",
       "stream": "stdout",
       "text": [
        " http://www.boxofficemojo.com//movies/?id=moneyball.htm\n",
        "Parsing"
       ]
      },
      {
       "output_type": "stream",
       "stream": "stdout",
       "text": [
        " http://www.boxofficemojo.com//movies/?id=wishiwashere.htm\n",
        "Parsing"
       ]
      },
      {
       "output_type": "stream",
       "stream": "stdout",
       "text": [
        " http://www.boxofficemojo.com//movies/?id=alvin3d.htm\n",
        "Parsing"
       ]
      },
      {
       "output_type": "stream",
       "stream": "stdout",
       "text": [
        " http://www.boxofficemojo.com//movies/?id=rivals.htm\n",
        "Parsing"
       ]
      },
      {
       "output_type": "stream",
       "stream": "stdout",
       "text": [
        " http://www.boxofficemojo.com//movies/?id=greenhornet.htm\n",
        "Parsing"
       ]
      },
      {
       "output_type": "stream",
       "stream": "stdout",
       "text": [
        " http://www.boxofficemojo.com//movies/?id=meetthefockerssequel.htm\n",
        "Parsing"
       ]
      },
      {
       "output_type": "stream",
       "stream": "stdout",
       "text": [
        " http://www.boxofficemojo.com//movies/?id=harrypotter7.htm\n",
        "Parsing"
       ]
      },
      {
       "output_type": "stream",
       "stream": "stdout",
       "text": [
        " http://www.boxofficemojo.com//movies/?id=burlesque.htm\n",
        "Parsing"
       ]
      },
      {
       "output_type": "stream",
       "stream": "stdout",
       "text": [
        " http://www.boxofficemojo.com//movies/?id=superman2012.htm\n",
        "Parsing"
       ]
      },
      {
       "output_type": "stream",
       "stream": "stdout",
       "text": [
        " http://www.boxofficemojo.com//movies/?id=red2010.htm\n",
        "Parsing"
       ]
      },
      {
       "output_type": "stream",
       "stream": "stdout",
       "text": [
        " http://www.boxofficemojo.com//movies/?id=battleship.htm\n",
        "Parsing"
       ]
      },
      {
       "output_type": "stream",
       "stream": "stdout",
       "text": [
        " http://www.boxofficemojo.com//movies/?id=areweofficiallydating.htm\n",
        "Parsing"
       ]
      },
      {
       "output_type": "stream",
       "stream": "stdout",
       "text": [
        " http://www.boxofficemojo.com//movies/?id=mymotherscurse.htm\n",
        "Parsing"
       ]
      },
      {
       "output_type": "stream",
       "stream": "stdout",
       "text": [
        " http://www.boxofficemojo.com//movies/?id=hallpass.htm\n",
        "Parsing"
       ]
      },
      {
       "output_type": "stream",
       "stream": "stdout",
       "text": [
        " http://www.boxofficemojo.com//movies/?id=cars2.htm\n",
        "Parsing"
       ]
      },
      {
       "output_type": "stream",
       "stream": "stdout",
       "text": [
        " http://www.boxofficemojo.com//movies/?id=jerseyboys.htm\n",
        "Parsing"
       ]
      },
      {
       "output_type": "stream",
       "stream": "stdout",
       "text": [
        " http://www.boxofficemojo.com//movies/?id=muppets2.htm\n",
        "Parsing"
       ]
      },
      {
       "output_type": "stream",
       "stream": "stdout",
       "text": [
        " http://www.boxofficemojo.com//movies/?id=gangstersquad.htm\n",
        "Parsing"
       ]
      },
      {
       "output_type": "stream",
       "stream": "stdout",
       "text": [
        " http://www.boxofficemojo.com//movies/?id=contagion.htm\n",
        "Parsing"
       ]
      },
      {
       "output_type": "stream",
       "stream": "stdout",
       "text": [
        " http://www.boxofficemojo.com//movies/?id=suckerpunch.htm\n",
        "Parsing"
       ]
      },
      {
       "output_type": "stream",
       "stream": "stdout",
       "text": [
        " http://www.boxofficemojo.com//movies/?id=whattoexpect.htm\n",
        "Parsing"
       ]
      },
      {
       "output_type": "stream",
       "stream": "stdout",
       "text": [
        " http://www.boxofficemojo.com//movies/?id=thepretendwife.htm\n",
        "Parsing"
       ]
      },
      {
       "output_type": "stream",
       "stream": "stdout",
       "text": [
        " http://www.boxofficemojo.com//movies/?id=deathatafuneral10.htm\n",
        "Parsing"
       ]
      },
      {
       "output_type": "stream",
       "stream": "stdout",
       "text": [
        " http://www.boxofficemojo.com//movies/?id=datenight.htm\n",
        "Parsing"
       ]
      },
      {
       "output_type": "stream",
       "stream": "stdout",
       "text": [
        " http://www.boxofficemojo.com//movies/?id=sherlockholmes2.htm\n",
        "Parsing"
       ]
      },
      {
       "output_type": "stream",
       "stream": "stdout",
       "text": [
        " http://www.boxofficemojo.com//movies/?id=draftday.htm\n",
        "Parsing"
       ]
      },
      {
       "output_type": "stream",
       "stream": "stdout",
       "text": [
        " http://www.boxofficemojo.com//movies/?id=dibbukbox.htm\n",
        "Parsing"
       ]
      },
      {
       "output_type": "stream",
       "stream": "stdout",
       "text": [
        " http://www.boxofficemojo.com//movies/?id=purge2.htm\n",
        "Parsing"
       ]
      },
      {
       "output_type": "stream",
       "stream": "stdout",
       "text": [
        " http://www.boxofficemojo.com//movies/?id=greathopesprings.htm\n",
        "Parsing"
       ]
      },
      {
       "output_type": "stream",
       "stream": "stdout",
       "text": [
        " http://www.boxofficemojo.com//movies/?id=girldragontattoo11.htm\n",
        "Parsing"
       ]
      },
      {
       "output_type": "stream",
       "stream": "stdout",
       "text": [
        " http://www.boxofficemojo.com//movies/?id=sexandthecity2.htm\n",
        "Parsing"
       ]
      },
      {
       "output_type": "stream",
       "stream": "stdout",
       "text": [
        " http://www.boxofficemojo.com//movies/?id=letsbecops.htm\n",
        "Parsing"
       ]
      },
      {
       "output_type": "stream",
       "stream": "stdout",
       "text": [
        " http://www.boxofficemojo.com//movies/?id=otherwoman14.htm\n",
        "Parsing"
       ]
      },
      {
       "output_type": "stream",
       "stream": "stdout",
       "text": [
        " http://www.boxofficemojo.com//movies/?id=marmaduke.htm\n",
        "Parsing"
       ]
      },
      {
       "output_type": "stream",
       "stream": "stdout",
       "text": [
        " http://www.boxofficemojo.com//movies/?id=lastsong.htm\n",
        "Parsing"
       ]
      },
      {
       "output_type": "stream",
       "stream": "stdout",
       "text": [
        " http://www.boxofficemojo.com//movies/?id=smurfs.htm\n",
        "Parsing"
       ]
      },
      {
       "output_type": "stream",
       "stream": "stdout",
       "text": [
        " http://www.boxofficemojo.com//movies/?id=augustosagecounty.htm\n",
        "Parsing"
       ]
      },
      {
       "output_type": "stream",
       "stream": "stdout",
       "text": [
        " http://www.boxofficemojo.com//movies/?id=faultinourstars.htm\n",
        "Parsing"
       ]
      },
      {
       "output_type": "stream",
       "stream": "stdout",
       "text": [
        " http://www.boxofficemojo.com//movies/?id=millionwaystodie.htm\n",
        "Parsing"
       ]
      },
      {
       "output_type": "stream",
       "stream": "stdout",
       "text": [
        " http://www.boxofficemojo.com//movies/?id=bullockmccarthy.htm\n",
        "Parsing"
       ]
      },
      {
       "output_type": "stream",
       "stream": "stdout",
       "text": [
        " http://www.boxofficemojo.com//movies/?id=brooklynsfinest.htm\n",
        "Parsing"
       ]
      },
      {
       "output_type": "stream",
       "stream": "stdout",
       "text": [
        " http://www.boxofficemojo.com//movies/?id=captainphillips.htm\n",
        "Parsing"
       ]
      },
      {
       "output_type": "stream",
       "stream": "stdout",
       "text": [
        " http://www.boxofficemojo.com//movies/?id=loneranger.htm\n",
        "Parsing"
       ]
      },
      {
       "output_type": "stream",
       "stream": "stdout",
       "text": [
        " http://www.boxofficemojo.com//movies/?id=daybreakers.htm\n",
        "Parsing"
       ]
      },
      {
       "output_type": "stream",
       "stream": "stdout",
       "text": [
        " http://www.boxofficemojo.com//movies/?id=grandbudapesthotel.htm\n",
        "Parsing"
       ]
      },
      {
       "output_type": "stream",
       "stream": "stdout",
       "text": [
        " http://www.boxofficemojo.com//movies/?id=gijoe2.htm\n",
        "Parsing"
       ]
      },
      {
       "output_type": "stream",
       "stream": "stdout",
       "text": [
        " http://www.boxofficemojo.com//movies/?id=flight.htm\n",
        "Parsing"
       ]
      },
      {
       "output_type": "stream",
       "stream": "stdout",
       "text": [
        " http://www.boxofficemojo.com//movies/?id=diaryofawimpykid3.htm\n",
        "Parsing"
       ]
      },
      {
       "output_type": "stream",
       "stream": "stdout",
       "text": [
        " http://www.boxofficemojo.com//movies/?id=ripd.htm\n",
        "Parsing"
       ]
      },
      {
       "output_type": "stream",
       "stream": "stdout",
       "text": [
        " http://www.boxofficemojo.com//movies/?id=predators.htm\n",
        "Parsing"
       ]
      },
      {
       "output_type": "stream",
       "stream": "stdout",
       "text": [
        " http://www.boxofficemojo.com//movies/?id=lego.htm\n",
        "Parsing"
       ]
      },
      {
       "output_type": "stream",
       "stream": "stdout",
       "text": [
        " http://www.boxofficemojo.com//movies/?id=grownups.htm\n",
        "Parsing"
       ]
      },
      {
       "output_type": "stream",
       "stream": "stdout",
       "text": [
        " http://www.boxofficemojo.com//movies/?id=robocop2013.htm\n",
        "Parsing"
       ]
      },
      {
       "output_type": "stream",
       "stream": "stdout",
       "text": [
        " http://www.boxofficemojo.com//movies/?id=hungergames.htm\n",
        "Parsing"
       ]
      },
      {
       "output_type": "stream",
       "stream": "stdout",
       "text": [
        " http://www.boxofficemojo.com//movies/?id=aliceinwonderland10.htm\n",
        "Parsing"
       ]
      },
      {
       "output_type": "stream",
       "stream": "stdout",
       "text": [
        " http://www.boxofficemojo.com//movies/?id=friendswithbenefits10.htm\n",
        "Parsing"
       ]
      },
      {
       "output_type": "stream",
       "stream": "stdout",
       "text": [
        " http://www.boxofficemojo.com//movies/?id=idesofmarch.htm\n",
        "Parsing"
       ]
      },
      {
       "output_type": "stream",
       "stream": "stdout",
       "text": [
        " http://www.boxofficemojo.com//movies/?id=fastfive.htm\n",
        "Parsing"
       ]
      },
      {
       "output_type": "stream",
       "stream": "stdout",
       "text": [
        " http://www.boxofficemojo.com//movies/?id=rio.htm\n",
        "Parsing"
       ]
      },
      {
       "output_type": "stream",
       "stream": "stdout",
       "text": [
        " http://www.boxofficemojo.com//movies/?id=47ronin.htm\n",
        "Parsing"
       ]
      },
      {
       "output_type": "stream",
       "stream": "stdout",
       "text": [
        " http://www.boxofficemojo.com//movies/?id=ten2014.htm\n",
        "Parsing"
       ]
      },
      {
       "output_type": "stream",
       "stream": "stdout",
       "text": [
        " http://www.boxofficemojo.com//movies/?id=jackandjill.htm\n",
        "Parsing"
       ]
      },
      {
       "output_type": "stream",
       "stream": "stdout",
       "text": [
        " http://www.boxofficemojo.com//movies/?id=pitchperfect.htm\n",
        "Parsing"
       ]
      },
      {
       "output_type": "stream",
       "stream": "stdout",
       "text": [
        " http://www.boxofficemojo.com//movies/?id=1000ae.htm\n",
        "Parsing"
       ]
      },
      {
       "output_type": "stream",
       "stream": "stdout",
       "text": [
        " http://www.boxofficemojo.com//movies/?id=riddick.htm\n",
        "Parsing"
       ]
      },
      {
       "output_type": "stream",
       "stream": "stdout",
       "text": [
        " http://www.boxofficemojo.com//movies/?id=clashofthetitans10.htm\n",
        "Parsing"
       ]
      },
      {
       "output_type": "stream",
       "stream": "stdout",
       "text": [
        " http://www.boxofficemojo.com//movies/?id=cloudy2.htm\n",
        "Parsing"
       ]
      },
      {
       "output_type": "stream",
       "stream": "stdout",
       "text": [
        " http://www.boxofficemojo.com//movies/?id=duedate.htm\n",
        "Parsing"
       ]
      },
      {
       "output_type": "stream",
       "stream": "stdout",
       "text": [
        " http://www.boxofficemojo.com//movies/?id=sorcerersapprentice.htm\n",
        "Parsing"
       ]
      },
      {
       "output_type": "stream",
       "stream": "stdout",
       "text": [
        " http://www.boxofficemojo.com//movies/?id=waltermitty.htm\n",
        "Parsing"
       ]
      },
      {
       "output_type": "stream",
       "stream": "stdout",
       "text": [
        " http://www.boxofficemojo.com//movies/?id=giver.htm\n",
        "Parsing"
       ]
      },
      {
       "output_type": "stream",
       "stream": "stdout",
       "text": [
        " http://www.boxofficemojo.com//movies/?id=worldwarz.htm\n",
        "Parsing"
       ]
      },
      {
       "output_type": "stream",
       "stream": "stdout",
       "text": [
        " http://www.boxofficemojo.com//movies/?id=snowpiercer.htm\n",
        "Parsing"
       ]
      },
      {
       "output_type": "stream",
       "stream": "stdout",
       "text": [
        " http://www.boxofficemojo.com//movies/?id=marriagecounselor.htm\n",
        "Parsing"
       ]
      },
      {
       "output_type": "stream",
       "stream": "stdout",
       "text": [
        " http://www.boxofficemojo.com//movies/?id=bountyhunter.htm\n",
        "Parsing"
       ]
      },
      {
       "output_type": "stream",
       "stream": "stdout",
       "text": [
        " http://www.boxofficemojo.com//movies/?id=warofgods.htm\n",
        "Parsing"
       ]
      },
      {
       "output_type": "stream",
       "stream": "stdout",
       "text": [
        " http://www.boxofficemojo.com//movies/?id=lifeasweknowit.htm\n",
        "Parsing"
       ]
      },
      {
       "output_type": "stream",
       "stream": "stdout",
       "text": [
        " http://www.boxofficemojo.com//movies/?id=morningglory10.htm\n",
        "Parsing"
       ]
      },
      {
       "output_type": "stream",
       "stream": "stdout",
       "text": [
        " http://www.boxofficemojo.com//movies/?id=dinnerforschmucks.htm\n",
        "Parsing"
       ]
      },
      {
       "output_type": "stream",
       "stream": "stdout",
       "text": [
        " http://www.boxofficemojo.com//movies/?id=internship.htm\n",
        "Parsing"
       ]
      },
      {
       "output_type": "stream",
       "stream": "stdout",
       "text": [
        " http://www.boxofficemojo.com//movies/?id=somethingborrowed.htm\n",
        "Parsing"
       ]
      },
      {
       "output_type": "stream",
       "stream": "stdout",
       "text": [
        " http://www.boxofficemojo.com//movies/?id=philomena.htm\n",
        "Parsing"
       ]
      },
      {
       "output_type": "stream",
       "stream": "stdout",
       "text": [
        " http://www.boxofficemojo.com//movies/?id=mortalinstruments.htm\n",
        "Parsing"
       ]
      },
      {
       "output_type": "stream",
       "stream": "stdout",
       "text": [
        " http://www.boxofficemojo.com//movies/?id=mrpeabodyandsherman.htm\n",
        "Parsing"
       ]
      },
      {
       "output_type": "stream",
       "stream": "stdout",
       "text": [
        " http://www.boxofficemojo.com//movies/?id=rio2.htm\n",
        "Parsing"
       ]
      },
      {
       "output_type": "stream",
       "stream": "stdout",
       "text": [
        " http://www.boxofficemojo.com//movies/?id=crazies.htm\n",
        "Parsing"
       ]
      },
      {
       "output_type": "stream",
       "stream": "stdout",
       "text": [
        " http://www.boxofficemojo.com//movies/?id=beautyandthebeast3d.htm\n",
        "Parsing"
       ]
      },
      {
       "output_type": "stream",
       "stream": "stdout",
       "text": [
        " http://www.boxofficemojo.com//movies/?id=transformers3.htm\n",
        "Parsing"
       ]
      },
      {
       "output_type": "stream",
       "stream": "stdout",
       "text": [
        " http://www.boxofficemojo.com//movies/?id=eatpraylove.htm\n",
        "Parsing"
       ]
      },
      {
       "output_type": "stream",
       "stream": "stdout",
       "text": [
        " http://www.boxofficemojo.com//movies/?id=hanna.htm\n",
        "Parsing"
       ]
      },
      {
       "output_type": "stream",
       "stream": "stdout",
       "text": [
        " http://www.boxofficemojo.com//movies/?id=easya.htm\n",
        "Parsing"
       ]
      },
      {
       "output_type": "stream",
       "stream": "stdout",
       "text": [
        " http://www.boxofficemojo.com//movies/?id=rapunzel.htm\n",
        "Parsing"
       ]
      },
      {
       "output_type": "stream",
       "stream": "stdout",
       "text": [
        " http://www.boxofficemojo.com//movies/?id=finaldestination5.htm\n",
        "Parsing"
       ]
      },
      {
       "output_type": "stream",
       "stream": "stdout",
       "text": [
        " http://www.boxofficemojo.com//movies/?id=andsoitgoes.htm\n",
        "Parsing"
       ]
      },
      {
       "output_type": "stream",
       "stream": "stdout",
       "text": [
        " http://www.boxofficemojo.com//movies/?id=bitterpill.htm\n",
        "Parsing"
       ]
      },
      {
       "output_type": "stream",
       "stream": "stdout",
       "text": [
        " http://www.boxofficemojo.com//movies/?id=diaryofawimpykid.htm\n",
        "Parsing"
       ]
      },
      {
       "output_type": "stream",
       "stream": "stdout",
       "text": [
        " http://www.boxofficemojo.com//movies/?id=bonedeep.htm\n",
        "Parsing"
       ]
      },
      {
       "output_type": "stream",
       "stream": "stdout",
       "text": [
        " http://www.boxofficemojo.com//movies/?id=lonesurvivor.htm\n",
        "Parsing"
       ]
      },
      {
       "output_type": "stream",
       "stream": "stdout",
       "text": [
        " http://www.boxofficemojo.com//movies/?id=ironman2.htm\n",
        "Parsing"
       ]
      },
      {
       "output_type": "stream",
       "stream": "stdout",
       "text": [
        " http://www.boxofficemojo.com//movies/?id=nutjob.htm\n",
        "Parsing"
       ]
      },
      {
       "output_type": "stream",
       "stream": "stdout",
       "text": [
        " http://www.boxofficemojo.com//movies/?id=grownups2.htm\n",
        "Parsing"
       ]
      },
      {
       "output_type": "stream",
       "stream": "stdout",
       "text": [
        " http://www.boxofficemojo.com//movies/?id=ferrellwahlberg2010.htm\n",
        "Parsing"
       ]
      },
      {
       "output_type": "stream",
       "stream": "stdout",
       "text": [
        " http://www.boxofficemojo.com//movies/?id=changeup.htm\n",
        "Parsing"
       ]
      },
      {
       "output_type": "stream",
       "stream": "stdout",
       "text": [
        " http://www.boxofficemojo.com//movies/?id=endlesslove14.htm\n",
        "Parsing"
       ]
      },
      {
       "output_type": "stream",
       "stream": "stdout",
       "text": [
        " http://www.boxofficemojo.com//movies/?id=windrises.htm\n",
        "Parsing"
       ]
      },
      {
       "output_type": "stream",
       "stream": "stdout",
       "text": [
        " http://www.boxofficemojo.com//movies/?id=frankenweenie.htm\n",
        "Parsing"
       ]
      },
      {
       "output_type": "stream",
       "stream": "stdout",
       "text": [
        " http://www.boxofficemojo.com//movies/?id=narnia3.htm\n",
        "Parsing"
       ]
      },
      {
       "output_type": "stream",
       "stream": "stdout",
       "text": [
        " http://www.boxofficemojo.com//movies/?id=ifistay.htm\n",
        "Parsing"
       ]
      },
      {
       "output_type": "stream",
       "stream": "stdout",
       "text": [
        " http://www.boxofficemojo.com//movies/?id=paranormalactivity3.htm\n",
        "Parsing"
       ]
      },
      {
       "output_type": "stream",
       "stream": "stdout",
       "text": [
        " http://www.boxofficemojo.com//movies/?id=savages12.htm\n",
        "Parsing"
       ]
      },
      {
       "output_type": "stream",
       "stream": "stdout",
       "text": [
        " http://www.boxofficemojo.com//movies/?id=getonup.htm\n",
        "Parsing"
       ]
      },
      {
       "output_type": "stream",
       "stream": "stdout",
       "text": [
        " http://www.boxofficemojo.com//movies/?id=quietones.htm\n",
        "Parsing"
       ]
      },
      {
       "output_type": "stream",
       "stream": "stdout",
       "text": [
        " http://www.boxofficemojo.com//movies/?id=parentalguidance.htm\n",
        "Parsing"
       ]
      },
      {
       "output_type": "stream",
       "stream": "stdout",
       "text": [
        " http://www.boxofficemojo.com//movies/?id=jedgar.htm\n",
        "Parsing"
       ]
      },
      {
       "output_type": "stream",
       "stream": "stdout",
       "text": [
        " http://www.boxofficemojo.com//movies/?id=machete.htm\n",
        "Parsing"
       ]
      },
      {
       "output_type": "stream",
       "stream": "stdout",
       "text": [
        " http://www.boxofficemojo.com//movies/?id=hobbit2.htm\n",
        "Parsing"
       ]
      },
      {
       "output_type": "stream",
       "stream": "stdout",
       "text": [
        " http://www.boxofficemojo.com//movies/?id=walkingwithdinosaurs.htm\n",
        "Parsing"
       ]
      },
      {
       "output_type": "stream",
       "stream": "stdout",
       "text": [
        " http://www.boxofficemojo.com//movies/?id=valentinesday.htm\n",
        "Parsing"
       ]
      },
      {
       "output_type": "stream",
       "stream": "stdout",
       "text": [
        " http://www.boxofficemojo.com//movies/?id=battlelosangeles.htm\n",
        "Parsing"
       ]
      },
      {
       "output_type": "stream",
       "stream": "stdout",
       "text": [
        " http://www.boxofficemojo.com//movies/?id=gulliverstravels.htm\n",
        "Parsing"
       ]
      },
      {
       "output_type": "stream",
       "stream": "stdout",
       "text": [
        " http://www.boxofficemojo.com//movies/?id=kungfupanda2.htm\n",
        "Parsing"
       ]
      },
      {
       "output_type": "stream",
       "stream": "stdout",
       "text": [
        " http://www.boxofficemojo.com//movies/?id=inception.htm\n",
        "Parsing"
       ]
      },
      {
       "output_type": "stream",
       "stream": "stdout",
       "text": [
        " http://www.boxofficemojo.com//movies/?id=onedirection.htm\n",
        "Parsing"
       ]
      },
      {
       "output_type": "stream",
       "stream": "stdout",
       "text": [
        " http://www.boxofficemojo.com//movies/?id=greenlantern.htm\n",
        "Parsing"
       ]
      },
      {
       "output_type": "stream",
       "stream": "stdout",
       "text": [
        " http://www.boxofficemojo.com//movies/?id=rogenhilluntitled.htm\n",
        "Parsing"
       ]
      },
      {
       "output_type": "stream",
       "stream": "stdout",
       "text": [
        " http://www.boxofficemojo.com//movies/?id=ridealong.htm\n",
        "Parsing"
       ]
      },
      {
       "output_type": "stream",
       "stream": "stdout",
       "text": [
        " http://www.boxofficemojo.com//movies/?id=untitledsnowwhite.htm\n",
        "Parsing"
       ]
      },
      {
       "output_type": "stream",
       "stream": "stdout",
       "text": [
        " http://www.boxofficemojo.com//movies/?id=malavita.htm\n",
        "Parsing"
       ]
      },
      {
       "output_type": "stream",
       "stream": "stdout",
       "text": [
        " http://www.boxofficemojo.com//movies/?id=socialnetwork.htm\n",
        "Parsing"
       ]
      },
      {
       "output_type": "stream",
       "stream": "stdout",
       "text": [
        " http://www.boxofficemojo.com//movies/?id=whitehousedown.htm\n",
        "Parsing"
       ]
      },
      {
       "output_type": "stream",
       "stream": "stdout",
       "text": [
        " http://www.boxofficemojo.com//movies/?id=heiglkutcheraction.htm\n",
        "Parsing"
       ]
      },
      {
       "output_type": "stream",
       "stream": "stdout",
       "text": [
        " http://www.boxofficemojo.com//movies/?id=marvel14b.htm\n",
        "Parsing"
       ]
      },
      {
       "output_type": "stream",
       "stream": "stdout",
       "text": [
        " http://www.boxofficemojo.com//movies/?id=lastexorcism.htm\n",
        "Parsing"
       ]
      },
      {
       "output_type": "stream",
       "stream": "stdout",
       "text": [
        " http://www.boxofficemojo.com//movies/?id=herculesbegins.htm\n",
        "Parsing"
       ]
      },
      {
       "output_type": "stream",
       "stream": "stdout",
       "text": [
        " http://www.boxofficemojo.com//movies/?id=madeasbighappyfamily.htm\n",
        "Parsing"
       ]
      },
      {
       "output_type": "stream",
       "stream": "stdout",
       "text": [
        " http://www.boxofficemojo.com//movies/?id=shrek4.htm\n",
        "Parsing"
       ]
      },
      {
       "output_type": "stream",
       "stream": "stdout",
       "text": [
        " http://www.boxofficemojo.com//movies/?id=happyfeet2.htm\n",
        "Parsing"
       ]
      },
      {
       "output_type": "stream",
       "stream": "stdout",
       "text": [
        " http://www.boxofficemojo.com//movies/?id=backupplan.htm\n",
        "Parsing"
       ]
      },
      {
       "output_type": "stream",
       "stream": "stdout",
       "text": [
        " http://www.boxofficemojo.com//movies/?id=call2013.htm\n",
        "Parsing"
       ]
      },
      {
       "output_type": "stream",
       "stream": "stdout",
       "text": [
        " http://www.boxofficemojo.com//movies/?id=eclipse.htm\n",
        "Parsing"
       ]
      },
      {
       "output_type": "stream",
       "stream": "stdout",
       "text": [
        " http://www.boxofficemojo.com//movies/?id=ihateyoudad.htm\n",
        "Parsing"
       ]
      },
      {
       "output_type": "stream",
       "stream": "stdout",
       "text": [
        " http://www.boxofficemojo.com//movies/?id=howtotrainyourdragon2.htm\n",
        "Parsing"
       ]
      },
      {
       "output_type": "stream",
       "stream": "stdout",
       "text": [
        " http://www.boxofficemojo.com//movies/?id=kingsspeech.htm\n",
        "Parsing"
       ]
      },
      {
       "output_type": "stream",
       "stream": "stdout",
       "text": [
        " http://www.boxofficemojo.com//movies/?id=zookeeper.htm\n",
        "Parsing"
       ]
      },
      {
       "output_type": "stream",
       "stream": "stdout",
       "text": [
        " http://www.boxofficemojo.com//movies/?id=300sequel.htm\n",
        "Parsing"
       ]
      },
      {
       "output_type": "stream",
       "stream": "stdout",
       "text": [
        " http://www.boxofficemojo.com//movies/?id=hoteltransylvania.htm\n",
        "Parsing"
       ]
      },
      {
       "output_type": "stream",
       "stream": "stdout",
       "text": [
        " http://www.boxofficemojo.com//movies/?id=amazingspiderman2.htm\n",
        "Parsing"
       ]
      },
      {
       "output_type": "stream",
       "stream": "stdout",
       "text": [
        " http://www.boxofficemojo.com//movies/?id=nannymcphee2.htm\n",
        "Parsing"
       ]
      },
      {
       "output_type": "stream",
       "stream": "stdout",
       "text": [
        " http://www.boxofficemojo.com//movies/?id=spykids4.htm\n",
        "Parsing"
       ]
      },
      {
       "output_type": "stream",
       "stream": "stdout",
       "text": [
        " http://www.boxofficemojo.com//movies/?id=red2.htm\n",
        "Parsing"
       ]
      },
      {
       "output_type": "stream",
       "stream": "stdout",
       "text": [
        " http://www.boxofficemojo.com//movies/?id=smurfs2.htm\n",
        "Parsing"
       ]
      },
      {
       "output_type": "stream",
       "stream": "stdout",
       "text": [
        " http://www.boxofficemojo.com//movies/?id=jackryan.htm\n",
        "Parsing"
       ]
      },
      {
       "output_type": "stream",
       "stream": "stdout",
       "text": [
        " http://www.boxofficemojo.com//movies/?id=oddlifeoftimothygreen.htm\n",
        "Parsing"
       ]
      },
      {
       "output_type": "stream",
       "stream": "stdout",
       "text": [
        " http://www.boxofficemojo.com//movies/?id=paranormalactivity5.htm\n",
        "Parsing"
       ]
      },
      {
       "output_type": "stream",
       "stream": "stdout",
       "text": [
        " http://www.boxofficemojo.com//movies/?id=toothfairy.htm\n",
        "Parsing"
       ]
      },
      {
       "output_type": "stream",
       "stream": "stdout",
       "text": [
        " http://www.boxofficemojo.com//movies/?id=42.htm\n",
        "Parsing"
       ]
      },
      {
       "output_type": "stream",
       "stream": "stdout",
       "text": [
        " http://www.boxofficemojo.com//movies/?id=harrypotter72.htm\n",
        "Parsing"
       ]
      },
      {
       "output_type": "stream",
       "stream": "stdout",
       "text": [
        " http://www.boxofficemojo.com//movies/?id=dolphintale.htm\n",
        "Parsing"
       ]
      },
      {
       "output_type": "stream",
       "stream": "stdout",
       "text": [
        " http://www.boxofficemojo.com//movies/?id=joyfulnoise.htm\n",
        "Parsing"
       ]
      },
      {
       "output_type": "stream",
       "stream": "stdout",
       "text": [
        " http://www.boxofficemojo.com//movies/?id=marvel2014a.htm\n",
        "Parsing"
       ]
      },
      {
       "output_type": "stream",
       "stream": "stdout",
       "text": [
        " http://www.boxofficemojo.com//movies/?id=fighter10.htm\n",
        "Parsing"
       ]
      },
      {
       "output_type": "stream",
       "stream": "stdout",
       "text": [
        " http://www.boxofficemojo.com//movies/?id=american10.htm\n",
        "Parsing"
       ]
      },
      {
       "output_type": "stream",
       "stream": "stdout",
       "text": [
        " http://www.boxofficemojo.com//movies/?id=intothestorm.htm\n",
        "Parsing"
       ]
      },
      {
       "output_type": "stream",
       "stream": "stdout",
       "text": [
        " http://www.boxofficemojo.com//movies/?id=expendables2.htm\n",
        "Parsing"
       ]
      },
      {
       "output_type": "stream",
       "stream": "stdout",
       "text": [
        " http://www.boxofficemojo.com//movies/?id=riseoftheapes.htm\n",
        "Parsing"
       ]
      },
      {
       "output_type": "stream",
       "stream": "stdout",
       "text": [
        " http://www.boxofficemojo.com//movies/?id=fast6.htm\n",
        "Parsing"
       ]
      },
      {
       "output_type": "stream",
       "stream": "stdout",
       "text": [
        " http://www.boxofficemojo.com//movies/?id=newyearseve.htm\n",
        "Parsing"
       ]
      },
      {
       "output_type": "stream",
       "stream": "stdout",
       "text": [
        " http://www.boxofficemojo.com//movies/?id=safehaven.htm\n",
        "Parsing"
       ]
      },
      {
       "output_type": "stream",
       "stream": "stdout",
       "text": [
        " http://www.boxofficemojo.com//movies/?id=carrie2013.htm\n",
        "Parsing"
       ]
      },
      {
       "output_type": "stream",
       "stream": "stdout",
       "text": [
        " http://www.boxofficemojo.com//movies/?id=vow.htm\n",
        "Parsing"
       ]
      },
      {
       "output_type": "stream",
       "stream": "stdout",
       "text": [
        " http://www.boxofficemojo.com//movies/?id=americanreunion.htm\n",
        "Parsing"
       ]
      },
      {
       "output_type": "stream",
       "stream": "stdout",
       "text": [
        " http://www.boxofficemojo.com//movies/?id=badgrandpa.htm\n",
        "Parsing"
       ]
      },
      {
       "output_type": "stream",
       "stream": "stdout",
       "text": [
        " http://www.boxofficemojo.com//movies/?id=grey.htm\n",
        "Parsing"
       ]
      },
      {
       "output_type": "stream",
       "stream": "stdout",
       "text": [
        " http://www.boxofficemojo.com//movies/?id=conjuring.htm\n",
        "Parsing"
       ]
      },
      {
       "output_type": "stream",
       "stream": "stdout",
       "text": [
        " http://www.boxofficemojo.com//movies/?id=texaschainsaw3d.htm\n",
        "Parsing"
       ]
      },
      {
       "output_type": "stream",
       "stream": "stdout",
       "text": [
        " http://www.boxofficemojo.com//movies/?id=startrek12.htm\n",
        "Parsing"
       ]
      },
      {
       "output_type": "stream",
       "stream": "stdout",
       "text": [
        " http://www.boxofficemojo.com//movies/?id=boyhood.htm\n",
        "Parsing"
       ]
      },
      {
       "output_type": "stream",
       "stream": "stdout",
       "text": [
        " http://www.boxofficemojo.com//movies/?id=magicinthemoonlight.htm\n",
        "Parsing"
       ]
      },
      {
       "output_type": "stream",
       "stream": "stdout",
       "text": [
        " http://www.boxofficemojo.com//movies/?id=moonrisekingdom.htm\n",
        "Parsing"
       ]
      },
      {
       "output_type": "stream",
       "stream": "stdout",
       "text": [
        " http://www.boxofficemojo.com//movies/?id=batman3.htm\n",
        "Parsing"
       ]
      },
      {
       "output_type": "stream",
       "stream": "stdout",
       "text": [
        " http://www.boxofficemojo.com//movies/?id=lifeofpi.htm\n",
        "Parsing"
       ]
      },
      {
       "output_type": "stream",
       "stream": "stdout",
       "text": [
        " http://www.boxofficemojo.com//movies/?id=deliveryman.htm\n",
        "Parsing"
       ]
      },
      {
       "output_type": "stream",
       "stream": "stdout",
       "text": [
        " http://www.boxofficemojo.com//movies/?id=drive2011.htm\n",
        "Parsing"
       ]
      },
      {
       "output_type": "stream",
       "stream": "stdout",
       "text": [
        " http://www.boxofficemojo.com//movies/?id=rango.htm\n",
        "Parsing"
       ]
      },
      {
       "output_type": "stream",
       "stream": "stdout",
       "text": [
        " http://www.boxofficemojo.com//movies/?id=baster.htm\n",
        "Parsing"
       ]
      },
      {
       "output_type": "stream",
       "stream": "stdout",
       "text": [
        " http://www.boxofficemojo.com//movies/?id=womaninblack.htm\n",
        "Parsing"
       ]
      },
      {
       "output_type": "stream",
       "stream": "stdout",
       "text": [
        " http://www.boxofficemojo.com//movies/?id=townies.htm\n",
        "Parsing"
       ]
      },
      {
       "output_type": "stream",
       "stream": "stdout",
       "text": [
        " http://www.boxofficemojo.com//movies/?id=safehouse.htm\n",
        "Parsing"
       ]
      },
      {
       "output_type": "stream",
       "stream": "stdout",
       "text": [
        " http://www.boxofficemojo.com//movies/?id=turkeys.htm\n",
        "Parsing"
       ]
      },
      {
       "output_type": "stream",
       "stream": "stdout",
       "text": [
        " http://www.boxofficemojo.com//movies/?id=bourne4.htm\n",
        "Parsing"
       ]
      },
      {
       "output_type": "stream",
       "stream": "stdout",
       "text": [
        " http://www.boxofficemojo.com//movies/?id=warhorse.htm\n",
        "Parsing"
       ]
      },
      {
       "output_type": "stream",
       "stream": "stdout",
       "text": [
        " http://www.boxofficemojo.com//movies/?id=mib3.htm\n",
        "Parsing"
       ]
      },
      {
       "output_type": "stream",
       "stream": "stdout",
       "text": [
        " http://www.boxofficemojo.com//movies/?id=bond23.htm\n",
        "Parsing"
       ]
      },
      {
       "output_type": "stream",
       "stream": "stdout",
       "text": [
        " http://www.boxofficemojo.com//movies/?id=paranormalactivity4.htm\n",
        "Parsing"
       ]
      },
      {
       "output_type": "stream",
       "stream": "stdout",
       "text": [
        " http://www.boxofficemojo.com//movies/?id=salt10.htm\n",
        "Parsing"
       ]
      },
      {
       "output_type": "stream",
       "stream": "stdout",
       "text": [
        " http://www.boxofficemojo.com//movies/?id=kevinhart2013.htm\n",
        "Parsing"
       ]
      },
      {
       "output_type": "stream",
       "stream": "stdout",
       "text": [
        " http://www.boxofficemojo.com//movies/?id=leafmen.htm\n",
        "Parsing"
       ]
      },
      {
       "output_type": "stream",
       "stream": "stdout",
       "text": [
        " http://www.boxofficemojo.com//movies/?id=now.htm\n",
        "Parsing"
       ]
      },
      {
       "output_type": "stream",
       "stream": "stdout",
       "text": [
        " http://www.boxofficemojo.com//movies/?id=totalrecall2012.htm\n",
        "Parsing"
       ]
      },
      {
       "output_type": "stream",
       "stream": "stdout",
       "text": [
        " http://www.boxofficemojo.com//movies/?id=bears.htm\n",
        "Parsing"
       ]
      },
      {
       "output_type": "stream",
       "stream": "stdout",
       "text": [
        " http://www.boxofficemojo.com//movies/?id=adjustmentbureau.htm\n",
        "Parsing"
       ]
      },
      {
       "output_type": "stream",
       "stream": "stdout",
       "text": [
        " http://www.boxofficemojo.com//movies/?id=oblivion.htm\n",
        "Parsing"
       ]
      },
      {
       "output_type": "stream",
       "stream": "stdout",
       "text": [
        " http://www.boxofficemojo.com//movies/?id=oz.htm\n",
        "Parsing"
       ]
      },
      {
       "output_type": "stream",
       "stream": "stdout",
       "text": [
        " http://www.boxofficemojo.com//movies/?id=21jumpstreet.htm\n",
        "Parsing"
       ]
      },
      {
       "output_type": "stream",
       "stream": "stdout",
       "text": [
        " http://www.boxofficemojo.com//movies/?id=artist.htm\n",
        "Parsing"
       ]
      },
      {
       "output_type": "stream",
       "stream": "stdout",
       "text": [
        " http://www.boxofficemojo.com//movies/?id=crazystupidlove.htm\n",
        "Parsing"
       ]
      },
      {
       "output_type": "stream",
       "stream": "stdout",
       "text": [
        " http://www.boxofficemojo.com//movies/?id=haroldandkumar3.htm\n",
        "Parsing"
       ]
      },
      {
       "output_type": "stream",
       "stream": "stdout",
       "text": [
        " http://www.boxofficemojo.com//movies/?id=titanic3d.htm\n",
        "Parsing"
       ]
      },
      {
       "output_type": "stream",
       "stream": "stdout",
       "text": [
        " http://www.boxofficemojo.com//movies/?id=themuppets.htm\n",
        "Parsing"
       ]
      },
      {
       "output_type": "stream",
       "stream": "stdout",
       "text": [
        " http://www.boxofficemojo.com//movies/?id=expendables.htm\n",
        "Parsing"
       ]
      },
      {
       "output_type": "stream",
       "stream": "stdout",
       "text": [
        " http://www.boxofficemojo.com//movies/?id=sitter.htm\n",
        "Parsing"
       ]
      },
      {
       "output_type": "stream",
       "stream": "stdout",
       "text": [
        " http://www.boxofficemojo.com//movies/?id=jackthegiantkiller.htm\n",
        "Parsing"
       ]
      },
      {
       "output_type": "stream",
       "stream": "stdout",
       "text": [
        " http://www.boxofficemojo.com//movies/?id=identitythief.htm\n",
        "Parsing"
       ]
      },
      {
       "output_type": "stream",
       "stream": "stdout",
       "text": [
        " http://www.boxofficemojo.com//movies/?id=super8.htm\n",
        "Parsing"
       ]
      },
      {
       "output_type": "stream",
       "stream": "stdout",
       "text": [
        " http://www.boxofficemojo.com//movies/?id=findingnemo3d.htm\n",
        "Parsing"
       ]
      },
      {
       "output_type": "stream",
       "stream": "stdout",
       "text": [
        " http://www.boxofficemojo.com//movies/?id=hauntedhouse2.htm\n",
        "Parsing"
       ]
      },
      {
       "output_type": "stream",
       "stream": "stdout",
       "text": [
        " http://www.boxofficemojo.com//movies/?id=rebootralph.htm\n",
        "Parsing"
       ]
      },
      {
       "output_type": "stream",
       "stream": "stdout",
       "text": [
        " http://www.boxofficemojo.com//movies/?id=horriblebosses.htm\n",
        "Parsing"
       ]
      },
      {
       "output_type": "stream",
       "stream": "stdout",
       "text": [
        " http://www.boxofficemojo.com//movies/?id=insidious.htm\n",
        "Parsing"
       ]
      },
      {
       "output_type": "stream",
       "stream": "stdout",
       "text": [
        " http://www.boxofficemojo.com//movies/?id=divergent.htm\n",
        "Parsing"
       ]
      },
      {
       "output_type": "stream",
       "stream": "stdout",
       "text": [
        " http://www.boxofficemojo.com//movies/?id=stepup4.htm\n",
        "Parsing"
       ]
      },
      {
       "output_type": "stream",
       "stream": "stdout",
       "text": [
        " http://www.boxofficemojo.com//movies/?id=wolfman.htm\n",
        "Parsing"
       ]
      },
      {
       "output_type": "stream",
       "stream": "stdout",
       "text": [
        " http://www.boxofficemojo.com//movies/?id=wolfofwallstreet.htm\n",
        "Parsing"
       ]
      },
      {
       "output_type": "stream",
       "stream": "stdout",
       "text": [
        " http://www.boxofficemojo.com//movies/?id=realsteel.htm\n",
        "Parsing"
       ]
      },
      {
       "output_type": "stream",
       "stream": "stdout",
       "text": [
        " http://www.boxofficemojo.com//movies/?id=forcoloredgirls.htm\n",
        "Parsing"
       ]
      },
      {
       "output_type": "stream",
       "stream": "stdout",
       "text": [
        " http://www.boxofficemojo.com//movies/?id=asabovesobelow.htm\n",
        "Parsing"
       ]
      },
      {
       "output_type": "stream",
       "stream": "stdout",
       "text": [
        " http://www.boxofficemojo.com//movies/?id=sonofgod.htm\n",
        "Parsing"
       ]
      },
      {
       "output_type": "stream",
       "stream": "stdout",
       "text": [
        " http://www.boxofficemojo.com//movies/?id=painandgain.htm\n",
        "Parsing"
       ]
      },
      {
       "output_type": "stream",
       "stream": "stdout",
       "text": [
        " http://www.boxofficemojo.com//movies/?id=paranormalactivity2.htm\n",
        "Parsing"
       ]
      },
      {
       "output_type": "stream",
       "stream": "stdout",
       "text": [
        " http://www.boxofficemojo.com//movies/?id=yogibear.htm\n",
        "Parsing"
       ]
      },
      {
       "output_type": "stream",
       "stream": "stdout",
       "text": [
        " http://www.boxofficemojo.com//movies/?id=endersgame.htm\n",
        "Parsing"
       ]
      },
      {
       "output_type": "stream",
       "stream": "stdout",
       "text": [
        " http://www.boxofficemojo.com//movies/?id=mastermind.htm\n",
        "Parsing"
       ]
      },
      {
       "output_type": "stream",
       "stream": "stdout",
       "text": [
        " http://www.boxofficemojo.com//movies/?id=soulsurfer.htm\n",
        "Parsing"
       ]
      },
      {
       "output_type": "stream",
       "stream": "stdout",
       "text": [
        " http://www.boxofficemojo.com//movies/?id=hugocabret.htm\n",
        "Parsing"
       ]
      },
      {
       "output_type": "stream",
       "stream": "stdout",
       "text": [
        " http://www.boxofficemojo.com//movies/?id=warmbodies.htm\n",
        "Parsing"
       ]
      },
      {
       "output_type": "stream",
       "stream": "stdout",
       "text": [
        " http://www.boxofficemojo.com//movies/?id=pompeii.htm\n",
        "Parsing"
       ]
      },
      {
       "output_type": "stream",
       "stream": "stdout",
       "text": [
        " http://www.boxofficemojo.com//movies/?id=30minutesorless.htm\n",
        "Parsing"
       ]
      },
      {
       "output_type": "stream",
       "stream": "stdout",
       "text": [
        " http://www.boxofficemojo.com//movies/?id=insidious2.htm\n",
        "Parsing"
       ]
      },
      {
       "output_type": "stream",
       "stream": "stdout",
       "text": [
        " http://www.boxofficemojo.com//movies/?id=bestman2.htm\n",
        "Parsing"
       ]
      },
      {
       "output_type": "stream",
       "stream": "stdout",
       "text": [
        " http://www.boxofficemojo.com//movies/?id=spiderman4.htm\n",
        "Parsing"
       ]
      },
      {
       "output_type": "stream",
       "stream": "stdout",
       "text": [
        " http://www.boxofficemojo.com//movies/?id=letterstojuliet.htm\n",
        "Parsing"
       ]
      },
      {
       "output_type": "stream",
       "stream": "stdout",
       "text": [
        " http://www.boxofficemojo.com//movies/?id=coupleofdicks.htm\n",
        "Parsing"
       ]
      },
      {
       "output_type": "stream",
       "stream": "stdout",
       "text": [
        " http://www.boxofficemojo.com//movies/?id=reddawn10.htm\n",
        "Parsing"
       ]
      },
      {
       "output_type": "stream",
       "stream": "stdout",
       "text": [
        " http://www.boxofficemojo.com//movies/?id=jimbrooks10.htm\n",
        "Parsing"
       ]
      },
      {
       "output_type": "stream",
       "stream": "stdout",
       "text": [
        " http://www.boxofficemojo.com//movies/?id=snitch.htm\n",
        "Parsing"
       ]
      },
      {
       "output_type": "stream",
       "stream": "stdout",
       "text": [
        " http://www.boxofficemojo.com//movies/?id=blackswan.htm\n",
        "Parsing"
       ]
      },
      {
       "output_type": "stream",
       "stream": "stdout",
       "text": [
        " http://www.boxofficemojo.com//movies/?id=rockofages.htm\n",
        "Parsing"
       ]
      },
      {
       "output_type": "stream",
       "stream": "stdout",
       "text": [
        " http://www.boxofficemojo.com//movies/?id=aboutlastnight14.htm\n",
        "Parsing"
       ]
      },
      {
       "output_type": "stream",
       "stream": "stdout",
       "text": [
        " http://www.boxofficemojo.com//movies/?id=prisoners.htm\n",
        "Parsing"
       ]
      },
      {
       "output_type": "stream",
       "stream": "stdout",
       "text": [
        " http://www.boxofficemojo.com//movies/?id=amostwantedman.htm\n",
        "Parsing"
       ]
      },
      {
       "output_type": "stream",
       "stream": "stdout",
       "text": [
        " http://www.boxofficemojo.com//movies/?id=darkfields.htm\n",
        "Parsing"
       ]
      },
      {
       "output_type": "stream",
       "stream": "stdout",
       "text": [
        " http://www.boxofficemojo.com//movies/?id=howardvaughnjames.htm\n",
        "Parsing"
       ]
      },
      {
       "output_type": "stream",
       "stream": "stdout",
       "text": [
        " http://www.boxofficemojo.com//movies/?id=extremelyloud.htm\n",
        "Parsing"
       ]
      },
      {
       "output_type": "stream",
       "stream": "stdout",
       "text": [
        " http://www.boxofficemojo.com//movies/?id=residentevil4.htm\n",
        "Parsing"
       ]
      },
      {
       "output_type": "stream",
       "stream": "stdout",
       "text": [
        " http://www.boxofficemojo.com//movies/?id=lincolnlawyer.htm\n",
        "Parsing"
       ]
      },
      {
       "output_type": "stream",
       "stream": "stdout",
       "text": [
        " http://www.boxofficemojo.com//movies/?id=wolverine2.htm\n",
        "Parsing"
       ]
      },
      {
       "output_type": "stream",
       "stream": "stdout",
       "text": [
        " http://www.boxofficemojo.com//movies/?id=whenthegamestandstall.htm\n",
        "Parsing"
       ]
      },
      {
       "output_type": "stream",
       "stream": "stdout",
       "text": [
        " http://www.boxofficemojo.com//movies/?id=toystory3.htm\n",
        "Parsing"
       ]
      },
      {
       "output_type": "stream",
       "stream": "stdout",
       "text": [
        " http://www.boxofficemojo.com//movies/?id=truegrit2010.htm\n",
        "Parsing"
       ]
      },
      {
       "output_type": "stream",
       "stream": "stdout",
       "text": [
        " http://www.boxofficemojo.com//movies/?id=oculus.htm\n",
        "Parsing"
       ]
      },
      {
       "output_type": "stream",
       "stream": "stdout",
       "text": [
        " http://www.boxofficemojo.com//movies/?id=hubble3d.htm\n",
        "Parsing"
       ]
      },
      {
       "output_type": "stream",
       "stream": "stdout",
       "text": [
        " http://www.boxofficemojo.com//movies/?id=worldsend.htm\n",
        "Parsing"
       ]
      },
      {
       "output_type": "stream",
       "stream": "stdout",
       "text": [
        " http://www.boxofficemojo.com//movies/?id=wallstreet2.htm\n",
        "Parsing"
       ]
      },
      {
       "output_type": "stream",
       "stream": "stdout",
       "text": [
        " http://www.boxofficemojo.com//movies/?id=savingmrbanks.htm\n",
        "Parsing"
       ]
      },
      {
       "output_type": "stream",
       "stream": "stdout",
       "text": [
        " http://www.boxofficemojo.com//movies/?id=bieber3d.htm\n",
        "Parsing"
       ]
      },
      {
       "output_type": "stream",
       "stream": "stdout",
       "text": [
        " http://www.boxofficemojo.com//movies/?id=diehard5.htm\n",
        "Parsing"
       ]
      },
      {
       "output_type": "stream",
       "stream": "stdout",
       "text": [
        " http://www.boxofficemojo.com//movies/?id=contraband.htm\n",
        "Parsing"
       ]
      },
      {
       "output_type": "stream",
       "stream": "stdout",
       "text": [
        " http://www.boxofficemojo.com//movies/?id=threedaystokill.htm\n",
        "Parsing"
       ]
      },
      {
       "output_type": "stream",
       "stream": "stdout",
       "text": [
        " http://www.boxofficemojo.com//movies/?id=actofvalor.htm\n",
        "Parsing"
       ]
      },
      {
       "output_type": "stream",
       "stream": "stdout",
       "text": [
        " http://www.boxofficemojo.com//movies/?id=darkshadows.htm\n",
        "Parsing"
       ]
      },
      {
       "output_type": "stream",
       "stream": "stdout",
       "text": [
        " http://www.boxofficemojo.com//movies/?id=purge.htm\n",
        "Parsing"
       ]
      },
      {
       "output_type": "stream",
       "stream": "stdout",
       "text": [
        " http://www.boxofficemojo.com//movies/?id=arthurchristmas.htm\n",
        "Parsing"
       ]
      },
      {
       "output_type": "stream",
       "stream": "stdout",
       "text": [
        " http://www.boxofficemojo.com//movies/?id=planes2.htm\n",
        "Parsing"
       ]
      },
      {
       "output_type": "stream",
       "stream": "stdout",
       "text": [
        " http://www.boxofficemojo.com//movies/?id=journey2.htm\n",
        "Parsing"
       ]
      },
      {
       "output_type": "stream",
       "stream": "stdout",
       "text": [
        " http://www.boxofficemojo.com//movies/?id=frozen2013.htm\n",
        "Parsing"
       ]
      },
      {
       "output_type": "stream",
       "stream": "stdout",
       "text": [
        " http://www.boxofficemojo.com//movies/?id=jackass3d.htm\n",
        "Parsing"
       ]
      },
      {
       "output_type": "stream",
       "stream": "stdout",
       "text": [
        " http://www.boxofficemojo.com//movies/?id=unstoppable.htm\n",
        "Parsing"
       ]
      },
      {
       "output_type": "stream",
       "stream": "stdout",
       "text": [
        " http://www.boxofficemojo.com//movies/?id=wheninrome.htm\n",
        "Parsing"
       ]
      },
      {
       "output_type": "stream",
       "stream": "stdout",
       "text": [
        " http://www.boxofficemojo.com//movies/?id=arthur2011.htm\n",
        "Parsing"
       ]
      },
      {
       "output_type": "stream",
       "stream": "stdout",
       "text": [
        " http://www.boxofficemojo.com//movies/?id=devilsdue.htm\n",
        "Parsing"
       ]
      },
      {
       "output_type": "stream",
       "stream": "stdout",
       "text": [
        " http://www.boxofficemojo.com//movies/?id=hercules2014.htm\n",
        "Parsing"
       ]
      },
      {
       "output_type": "stream",
       "stream": "stdout",
       "text": [
        " http://www.boxofficemojo.com//movies/?id=lorax.htm\n",
        "Parsing"
       ]
      },
      {
       "output_type": "stream",
       "stream": "stdout",
       "text": [
        " http://www.boxofficemojo.com//movies/?id=milliondollararm.htm\n",
        "Parsing"
       ]
      },
      {
       "output_type": "stream",
       "stream": "stdout",
       "text": [
        " http://www.boxofficemojo.com//movies/?id=lastvegas.htm\n",
        "Parsing"
       ]
      },
      {
       "output_type": "stream",
       "stream": "stdout",
       "text": [
        " http://www.boxofficemojo.com//movies/?id=shutterisland.htm\n",
        "Parsing"
       ]
      },
      {
       "output_type": "stream",
       "stream": "stdout",
       "text": [
        " http://www.boxofficemojo.com//movies/?id=friendswithbenefits.htm\n",
        "Parsing"
       ]
      },
      {
       "output_type": "stream",
       "stream": "stdout",
       "text": [
        " http://www.boxofficemojo.com//movies/?id=redridinghood.htm\n",
        "Parsing"
       ]
      },
      {
       "output_type": "stream",
       "stream": "stdout",
       "text": [
        " http://www.boxofficemojo.com//movies/?id=tammy.htm\n",
        "Parsing"
       ]
      },
      {
       "output_type": "stream",
       "stream": "stdout",
       "text": [
        " http://www.boxofficemojo.com//movies/?id=larrycrowne.htm\n",
        "Parsing"
       ]
      },
      {
       "output_type": "stream",
       "stream": "stdout",
       "text": [
        " http://www.boxofficemojo.com//movies/?id=gooddeeds.htm\n",
        "Parsing"
       ]
      },
      {
       "output_type": "stream",
       "stream": "stdout",
       "text": [
        " http://www.boxofficemojo.com//movies/?id=her2013.htm\n",
        "Parsing"
       ]
      },
      {
       "output_type": "stream",
       "stream": "stdout",
       "text": [
        " http://www.boxofficemojo.com//movies/?id=ateam.htm\n",
        "Parsing"
       ]
      },
      {
       "output_type": "stream",
       "stream": "stdout",
       "text": [
        " http://www.boxofficemojo.com//movies/?id=hobbit.htm\n",
        "Parsing"
       ]
      },
      {
       "output_type": "stream",
       "stream": "stdout",
       "text": [
        " http://www.boxofficemojo.com//movies/?id=twelveyearsaslave.htm\n",
        "Parsing"
       ]
      },
      {
       "output_type": "stream",
       "stream": "stdout",
       "text": [
        " http://www.boxofficemojo.com//movies/?id=ihop.htm\n",
        "Parsing"
       ]
      },
      {
       "output_type": "stream",
       "stream": "stdout",
       "text": [
        " http://www.boxofficemojo.com//movies/?id=residentevil5.htm\n",
        "Parsing"
       ]
      },
      {
       "output_type": "stream",
       "stream": "stdout",
       "text": [
        " http://www.boxofficemojo.com//movies/?id=pussinboots12.htm\n",
        "Parsing"
       ]
      },
      {
       "output_type": "stream",
       "stream": "stdout",
       "text": [
        " http://www.boxofficemojo.com//movies/?id=despicableme2.htm\n",
        "Parsing"
       ]
      },
      {
       "output_type": "stream",
       "stream": "stdout",
       "text": [
        " http://www.boxofficemojo.com//movies/?id=greatgatsby2012.htm\n",
        "Parsing"
       ]
      },
      {
       "output_type": "stream",
       "stream": "stdout",
       "text": [
        " http://www.boxofficemojo.com//movies/?id=bestexoticmarigoldhotel.htm\n",
        "Parsing"
       ]
      },
      {
       "output_type": "stream",
       "stream": "stdout",
       "text": [
        " http://www.boxofficemojo.com//movies/?id=rush2013.htm\n",
        "Parsing"
       ]
      },
      {
       "output_type": "stream",
       "stream": "stdout",
       "text": [
        " http://www.boxofficemojo.com//movies/?id=untitledvampirespoof.htm\n",
        "Parsing"
       ]
      },
      {
       "output_type": "stream",
       "stream": "stdout",
       "text": [
        " http://www.boxofficemojo.com//movies/?id=courageous.htm\n",
        "Parsing"
       ]
      },
      {
       "output_type": "stream",
       "stream": "stdout",
       "text": [
        " http://www.boxofficemojo.com//movies/?id=captainamerica.htm\n",
        "Parsing"
       ]
      },
      {
       "output_type": "stream",
       "stream": "stdout",
       "text": [
        " http://www.boxofficemojo.com//movies/?id=oneshot.htm\n",
        "Parsing"
       ]
      },
      {
       "output_type": "stream",
       "stream": "stdout",
       "text": [
        " http://www.boxofficemojo.com//movies/?id=scarymovie5.htm\n",
        "Parsing"
       ]
      },
      {
       "output_type": "stream",
       "stream": "stdout",
       "text": [
        " http://www.boxofficemojo.com//movies/?id=ted.htm\n",
        "Parsing"
       ]
      },
      {
       "output_type": "stream",
       "stream": "stdout",
       "text": [
        " http://www.boxofficemojo.com//movies/?id=debt.htm\n",
        "Parsing"
       ]
      },
      {
       "output_type": "stream",
       "stream": "stdout",
       "text": [
        " http://www.boxofficemojo.com//movies/?id=tourist.htm\n",
        "Parsing"
       ]
      },
      {
       "output_type": "stream",
       "stream": "stdout",
       "text": [
        " http://www.boxofficemojo.com//movies/?id=breakingdawn2.htm\n",
        "Parsing"
       ]
      },
      {
       "output_type": "stream",
       "stream": "stdout",
       "text": [
        " http://www.boxofficemojo.com//movies/?id=noah.htm\n",
        "Parsing"
       ]
      },
      {
       "output_type": "stream",
       "stream": "stdout",
       "text": [
        " http://www.boxofficemojo.com//movies/?id=turbo.htm\n",
        "Parsing"
       ]
      },
      {
       "output_type": "stream",
       "stream": "stdout",
       "text": [
        " http://www.boxofficemojo.com//movies/?id=silverliningsplaybook.htm\n",
        "Parsing"
       ]
      },
      {
       "output_type": "stream",
       "stream": "stdout",
       "text": [
        " http://www.boxofficemojo.com//movies/?id=sincity2.htm\n",
        "Parsing"
       ]
      },
      {
       "output_type": "stream",
       "stream": "stdout",
       "text": [
        " http://www.boxofficemojo.com//movies/?id=edgeofdarkness.htm\n",
        "Parsing"
       ]
      },
      {
       "output_type": "stream",
       "stream": "stdout",
       "text": [
        " http://www.boxofficemojo.com//movies/?id=xmen2014.htm\n",
        "Parsing"
       ]
      },
      {
       "output_type": "stream",
       "stream": "stdout",
       "text": [
        " http://www.boxofficemojo.com//movies/?id=guardians.htm\n",
        "Parsing"
       ]
      },
      {
       "output_type": "stream",
       "stream": "stdout",
       "text": [
        " http://www.boxofficemojo.com//movies/?id=charliestcloud.htm\n",
        "Parsing"
       ]
      },
      {
       "output_type": "stream",
       "stream": "stdout",
       "text": [
        " http://www.boxofficemojo.com//movies/?id=roommate10.htm\n",
        "Parsing"
       ]
      },
      {
       "output_type": "stream",
       "stream": "stdout",
       "text": [
        " http://www.boxofficemojo.com//movies/?id=ida.htm\n",
        "Parsing"
       ]
      },
      {
       "output_type": "stream",
       "stream": "stdout",
       "text": [
        " http://www.boxofficemojo.com//movies/?id=singlemomsclub.htm\n",
        "Parsing"
       ]
      },
      {
       "output_type": "stream",
       "stream": "stdout",
       "text": [
        " http://www.boxofficemojo.com//movies/?id=xmenfirstclass.htm\n",
        "Parsing"
       ]
      },
      {
       "output_type": "stream",
       "stream": "stdout",
       "text": [
        " http://www.boxofficemojo.com//movies/?id=johncarterofmars.htm\n",
        "Parsing"
       ]
      },
      {
       "output_type": "stream",
       "stream": "stdout",
       "text": [
        " http://www.boxofficemojo.com//movies/?id=sinister.htm\n",
        "Parsing"
       ]
      },
      {
       "output_type": "stream",
       "stream": "stdout",
       "text": [
        " http://www.boxofficemojo.com//movies/?id=lesmiserables2012.htm\n",
        "Parsing"
       ]
      },
      {
       "output_type": "stream",
       "stream": "stdout",
       "text": [
        " http://www.boxofficemojo.com//movies/?id=tintin.htm\n",
        "Parsing"
       ]
      },
      {
       "output_type": "stream",
       "stream": "stdout",
       "text": [
        " http://www.boxofficemojo.com//movies/?id=projectx2011.htm\n",
        "Parsing"
       ]
      },
      {
       "output_type": "stream",
       "stream": "stdout",
       "text": [
        " http://www.boxofficemojo.com//movies/?id=troublewiththecurve.htm\n",
        "Parsing"
       ]
      },
      {
       "output_type": "stream",
       "stream": "stdout",
       "text": [
        " http://www.boxofficemojo.com//movies/?id=jurassicpark3d.htm\n",
        "Parsing"
       ]
      },
      {
       "output_type": "stream",
       "stream": "stdout",
       "text": [
        " http://www.boxofficemojo.com//movies/?id=hereafter.htm\n",
        "Parsing"
       ]
      },
      {
       "output_type": "stream",
       "stream": "stdout",
       "text": [
        " http://www.boxofficemojo.com//movies/?id=hangover2.htm\n",
        "Parsing"
       ]
      },
      {
       "output_type": "stream",
       "stream": "stdout",
       "text": [
        " http://www.boxofficemojo.com//movies/?id=dawnoftheapes.htm\n",
        "Parsing"
       ]
      },
      {
       "output_type": "stream",
       "stream": "stdout",
       "text": [
        " http://www.boxofficemojo.com//movies/?id=loopers.htm\n",
        "Parsing"
       ]
      },
      {
       "output_type": "stream",
       "stream": "stdout",
       "text": [
        " http://www.boxofficemojo.com//movies/?id=butler.htm\n",
        "Parsing"
       ]
      },
      {
       "output_type": "stream",
       "stream": "stdout",
       "text": [
        " http://www.boxofficemojo.com//movies/?id=weboughtazoo.htm\n",
        "Parsing"
       ]
      },
      {
       "output_type": "stream",
       "stream": "stdout",
       "text": [
        " http://www.boxofficemojo.com//movies/?id=nightchroniclesdevil.htm\n",
        "Parsing"
       ]
      },
      {
       "output_type": "stream",
       "stream": "stdout",
       "text": [
        " http://www.boxofficemojo.com//movies/?id=argo.htm\n",
        "Parsing"
       ]
      },
      {
       "output_type": "stream",
       "stream": "stdout",
       "text": [
        " http://www.boxofficemojo.com//movies/?id=breakingdawn.htm\n",
        "Parsing"
       ]
      },
      {
       "output_type": "stream",
       "stream": "stdout",
       "text": [
        " http://www.boxofficemojo.com//movies/?id=godzilla2012.htm\n"
       ]
      }
     ],
     "prompt_number": 5
    },
    {
     "cell_type": "code",
     "collapsed": false,
     "input": [
      "print len(recent_movie_data)\n",
      "print len(problem_recent_movie_data)"
     ],
     "language": "python",
     "metadata": {},
     "outputs": [
      {
       "output_type": "stream",
       "stream": "stdout",
       "text": [
        "500\n",
        "0\n"
       ]
      }
     ],
     "prompt_number": 4
    },
    {
     "cell_type": "code",
     "collapsed": false,
     "input": [
      "pickle.dump(recent_movie_data, open('data/recent_movie_data.pkl', 'w'))\n",
      "pickle.dump(problem_recent_movie_data, open('data/problem_recent_movie_data.pkl', 'w'))"
     ],
     "language": "python",
     "metadata": {},
     "outputs": [],
     "prompt_number": 7
    },
    {
     "cell_type": "code",
     "collapsed": false,
     "input": [
      "pprint.pprint(problem_recent_movie_data)\n",
      "# pprint.pprint(recent_movie_data[:8])"
     ],
     "language": "python",
     "metadata": {},
     "outputs": [
      {
       "output_type": "stream",
       "stream": "stdout",
       "text": [
        "[]\n"
       ]
      }
     ],
     "prompt_number": 5
    },
    {
     "cell_type": "code",
     "collapsed": false,
     "input": [
      "ms.parse_full_mojo_page('http://www.boxofficemojo.com//movies/?id=devilinside.htm')"
     ],
     "language": "python",
     "metadata": {},
     "outputs": [
      {
       "ename": "TypeError",
       "evalue": "float() argument must be a string or a number",
       "output_type": "pyerr",
       "traceback": [
        "\u001b[0;31m---------------------------------------------------------------------------\u001b[0m\n\u001b[0;31mTypeError\u001b[0m                                 Traceback (most recent call last)",
        "\u001b[0;32m<ipython-input-7-6778384c7336>\u001b[0m in \u001b[0;36m<module>\u001b[0;34m()\u001b[0m\n\u001b[0;32m----> 1\u001b[0;31m \u001b[0mms\u001b[0m\u001b[0;34m.\u001b[0m\u001b[0mparse_full_mojo_page\u001b[0m\u001b[0;34m(\u001b[0m\u001b[0;34m'http://www.boxofficemojo.com//movies/?id=devilinside.htm'\u001b[0m\u001b[0;34m)\u001b[0m\u001b[0;34m\u001b[0m\u001b[0m\n\u001b[0m",
        "\u001b[0;32m/Users/ian/metis/mds-luther/movies/bomojo.pyc\u001b[0m in \u001b[0;36mparse_full_mojo_page\u001b[0;34m(self, full_page_url)\u001b[0m\n\u001b[1;32m     49\u001b[0m         \u001b[0mdirector\u001b[0m \u001b[0;34m=\u001b[0m \u001b[0mself\u001b[0m\u001b[0;34m.\u001b[0m\u001b[0mget_movie_value\u001b[0m\u001b[0;34m(\u001b[0m\u001b[0msoup\u001b[0m\u001b[0;34m,\u001b[0m\u001b[0;34m'Director'\u001b[0m\u001b[0;34m)\u001b[0m\u001b[0;34m\u001b[0m\u001b[0m\n\u001b[1;32m     50\u001b[0m         \u001b[0mrating\u001b[0m \u001b[0;34m=\u001b[0m \u001b[0mself\u001b[0m\u001b[0;34m.\u001b[0m\u001b[0mget_movie_value\u001b[0m\u001b[0;34m(\u001b[0m\u001b[0msoup\u001b[0m\u001b[0;34m,\u001b[0m\u001b[0;34m'MPAA Rating'\u001b[0m\u001b[0;34m)\u001b[0m\u001b[0;34m\u001b[0m\u001b[0m\n\u001b[0;32m---> 51\u001b[0;31m         \u001b[0mbudget\u001b[0m \u001b[0;34m=\u001b[0m \u001b[0mself\u001b[0m\u001b[0;34m.\u001b[0m\u001b[0mbudget_to_int\u001b[0m\u001b[0;34m(\u001b[0m\u001b[0mself\u001b[0m\u001b[0;34m.\u001b[0m\u001b[0mget_movie_value\u001b[0m\u001b[0;34m(\u001b[0m\u001b[0msoup\u001b[0m\u001b[0;34m,\u001b[0m \u001b[0;34m'Production Budget'\u001b[0m\u001b[0;34m)\u001b[0m\u001b[0;34m)\u001b[0m\u001b[0;34m\u001b[0m\u001b[0m\n\u001b[0m\u001b[1;32m     52\u001b[0m \u001b[0;34m\u001b[0m\u001b[0m\n\u001b[1;32m     53\u001b[0m         movie_dict = {\n",
        "\u001b[0;32m/Users/ian/metis/mds-luther/movies/bomojo.pyc\u001b[0m in \u001b[0;36mbudget_to_int\u001b[0;34m(self, budgetstring)\u001b[0m\n\u001b[1;32m    134\u001b[0m         \u001b[0mbudgetstring\u001b[0m \u001b[0;34m=\u001b[0m \u001b[0mbudgetstring\u001b[0m\u001b[0;34m.\u001b[0m\u001b[0mreplace\u001b[0m\u001b[0;34m(\u001b[0m\u001b[0;34m'$'\u001b[0m\u001b[0;34m,\u001b[0m\u001b[0;34m''\u001b[0m\u001b[0;34m)\u001b[0m\u001b[0;34m.\u001b[0m\u001b[0mreplace\u001b[0m\u001b[0;34m(\u001b[0m\u001b[0;34m','\u001b[0m\u001b[0;34m,\u001b[0m\u001b[0;34m''\u001b[0m\u001b[0;34m)\u001b[0m\u001b[0;34m.\u001b[0m\u001b[0msplit\u001b[0m\u001b[0;34m(\u001b[0m\u001b[0;34m' '\u001b[0m\u001b[0;34m)\u001b[0m\u001b[0;34m\u001b[0m\u001b[0m\n\u001b[1;32m    135\u001b[0m         \u001b[0;32mif\u001b[0m \u001b[0mlen\u001b[0m\u001b[0;34m(\u001b[0m\u001b[0mbudgetstring\u001b[0m\u001b[0;34m)\u001b[0m \u001b[0;34m==\u001b[0m \u001b[0;36m1\u001b[0m\u001b[0;34m:\u001b[0m\u001b[0;34m\u001b[0m\u001b[0m\n\u001b[0;32m--> 136\u001b[0;31m             \u001b[0;32mreturn\u001b[0m \u001b[0mfloat\u001b[0m\u001b[0;34m(\u001b[0m\u001b[0mbudgetstring\u001b[0m\u001b[0;34m)\u001b[0m\u001b[0;34m\u001b[0m\u001b[0m\n\u001b[0m\u001b[1;32m    137\u001b[0m         \u001b[0;32melse\u001b[0m\u001b[0;34m:\u001b[0m\u001b[0;34m\u001b[0m\u001b[0m\n\u001b[1;32m    138\u001b[0m             \u001b[0mbudget\u001b[0m \u001b[0;34m=\u001b[0m \u001b[0mfloat\u001b[0m\u001b[0;34m(\u001b[0m\u001b[0mbudgetstring\u001b[0m\u001b[0;34m[\u001b[0m\u001b[0;36m0\u001b[0m\u001b[0;34m]\u001b[0m\u001b[0;34m)\u001b[0m\u001b[0;34m*\u001b[0m\u001b[0mint\u001b[0m\u001b[0;34m(\u001b[0m\u001b[0mself\u001b[0m\u001b[0;34m.\u001b[0m\u001b[0mmag_dict\u001b[0m\u001b[0;34m[\u001b[0m\u001b[0mbudgetstring\u001b[0m\u001b[0;34m[\u001b[0m\u001b[0;36m1\u001b[0m\u001b[0;34m]\u001b[0m\u001b[0;34m.\u001b[0m\u001b[0mlower\u001b[0m\u001b[0;34m(\u001b[0m\u001b[0;34m)\u001b[0m\u001b[0;34m]\u001b[0m\u001b[0;34m)\u001b[0m\u001b[0;34m\u001b[0m\u001b[0m\n",
        "\u001b[0;31mTypeError\u001b[0m: float() argument must be a string or a number"
       ]
      }
     ],
     "prompt_number": 7
    },
    {
     "cell_type": "code",
     "collapsed": false,
     "input": [
      "soup = ms.connect('http://www.boxofficemojo.com//movies/?id=devilinside.htm')"
     ],
     "language": "python",
     "metadata": {},
     "outputs": [],
     "prompt_number": 8
    },
    {
     "cell_type": "code",
     "collapsed": false,
     "input": [
      "budgetstring = ms.get_movie_value(soup, 'Production Budget')"
     ],
     "language": "python",
     "metadata": {},
     "outputs": [],
     "prompt_number": 9
    },
    {
     "cell_type": "code",
     "collapsed": false,
     "input": [
      "print budgetstring"
     ],
     "language": "python",
     "metadata": {},
     "outputs": [
      {
       "output_type": "stream",
       "stream": "stdout",
       "text": [
        "$1,000,000\n"
       ]
      }
     ],
     "prompt_number": 10
    },
    {
     "cell_type": "code",
     "collapsed": false,
     "input": [
      "ms.budget_to_int(budgetstring)"
     ],
     "language": "python",
     "metadata": {},
     "outputs": [
      {
       "ename": "TypeError",
       "evalue": "float() argument must be a string or a number",
       "output_type": "pyerr",
       "traceback": [
        "\u001b[0;31m---------------------------------------------------------------------------\u001b[0m\n\u001b[0;31mTypeError\u001b[0m                                 Traceback (most recent call last)",
        "\u001b[0;32m<ipython-input-11-e598275bce50>\u001b[0m in \u001b[0;36m<module>\u001b[0;34m()\u001b[0m\n\u001b[0;32m----> 1\u001b[0;31m \u001b[0mms\u001b[0m\u001b[0;34m.\u001b[0m\u001b[0mbudget_to_int\u001b[0m\u001b[0;34m(\u001b[0m\u001b[0mbudgetstring\u001b[0m\u001b[0;34m)\u001b[0m\u001b[0;34m\u001b[0m\u001b[0m\n\u001b[0m",
        "\u001b[0;32m/Users/ian/metis/mds-luther/movies/bomojo.pyc\u001b[0m in \u001b[0;36mbudget_to_int\u001b[0;34m(self, budgetstring)\u001b[0m\n\u001b[1;32m    134\u001b[0m         \u001b[0mbudgetstring\u001b[0m \u001b[0;34m=\u001b[0m \u001b[0mbudgetstring\u001b[0m\u001b[0;34m.\u001b[0m\u001b[0mreplace\u001b[0m\u001b[0;34m(\u001b[0m\u001b[0;34m'$'\u001b[0m\u001b[0;34m,\u001b[0m\u001b[0;34m''\u001b[0m\u001b[0;34m)\u001b[0m\u001b[0;34m.\u001b[0m\u001b[0mreplace\u001b[0m\u001b[0;34m(\u001b[0m\u001b[0;34m','\u001b[0m\u001b[0;34m,\u001b[0m\u001b[0;34m''\u001b[0m\u001b[0;34m)\u001b[0m\u001b[0;34m.\u001b[0m\u001b[0msplit\u001b[0m\u001b[0;34m(\u001b[0m\u001b[0;34m' '\u001b[0m\u001b[0;34m)\u001b[0m\u001b[0;34m\u001b[0m\u001b[0m\n\u001b[1;32m    135\u001b[0m         \u001b[0;32mif\u001b[0m \u001b[0mlen\u001b[0m\u001b[0;34m(\u001b[0m\u001b[0mbudgetstring\u001b[0m\u001b[0;34m)\u001b[0m \u001b[0;34m==\u001b[0m \u001b[0;36m1\u001b[0m\u001b[0;34m:\u001b[0m\u001b[0;34m\u001b[0m\u001b[0m\n\u001b[0;32m--> 136\u001b[0;31m             \u001b[0;32mreturn\u001b[0m \u001b[0mfloat\u001b[0m\u001b[0;34m(\u001b[0m\u001b[0mbudgetstring\u001b[0m\u001b[0;34m)\u001b[0m\u001b[0;34m\u001b[0m\u001b[0m\n\u001b[0m\u001b[1;32m    137\u001b[0m         \u001b[0;32melse\u001b[0m\u001b[0;34m:\u001b[0m\u001b[0;34m\u001b[0m\u001b[0m\n\u001b[1;32m    138\u001b[0m             \u001b[0mbudget\u001b[0m \u001b[0;34m=\u001b[0m \u001b[0mfloat\u001b[0m\u001b[0;34m(\u001b[0m\u001b[0mbudgetstring\u001b[0m\u001b[0;34m[\u001b[0m\u001b[0;36m0\u001b[0m\u001b[0;34m]\u001b[0m\u001b[0;34m)\u001b[0m\u001b[0;34m*\u001b[0m\u001b[0mint\u001b[0m\u001b[0;34m(\u001b[0m\u001b[0mself\u001b[0m\u001b[0;34m.\u001b[0m\u001b[0mmag_dict\u001b[0m\u001b[0;34m[\u001b[0m\u001b[0mbudgetstring\u001b[0m\u001b[0;34m[\u001b[0m\u001b[0;36m1\u001b[0m\u001b[0;34m]\u001b[0m\u001b[0;34m.\u001b[0m\u001b[0mlower\u001b[0m\u001b[0;34m(\u001b[0m\u001b[0;34m)\u001b[0m\u001b[0;34m]\u001b[0m\u001b[0;34m)\u001b[0m\u001b[0;34m\u001b[0m\u001b[0m\n",
        "\u001b[0;31mTypeError\u001b[0m: float() argument must be a string or a number"
       ]
      }
     ],
     "prompt_number": 11
    },
    {
     "cell_type": "code",
     "collapsed": false,
     "input": [
      "budgetstring = budgetstring.replace('$','').replace(',','').split(' ')"
     ],
     "language": "python",
     "metadata": {},
     "outputs": [],
     "prompt_number": 12
    },
    {
     "cell_type": "code",
     "collapsed": false,
     "input": [
      "print budgetstring"
     ],
     "language": "python",
     "metadata": {},
     "outputs": [
      {
       "output_type": "stream",
       "stream": "stdout",
       "text": [
        "[u'1000000']\n"
       ]
      }
     ],
     "prompt_number": 13
    },
    {
     "cell_type": "code",
     "collapsed": false,
     "input": [],
     "language": "python",
     "metadata": {},
     "outputs": []
    }
   ],
   "metadata": {}
  }
 ]
}