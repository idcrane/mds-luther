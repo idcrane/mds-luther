{
 "metadata": {
  "name": "",
  "signature": "sha256:5c2aa87806aa9fc7a73ddc1851c0ed12887c38f15b8ed3cc36337cb89bd0233a"
 },
 "nbformat": 3,
 "nbformat_minor": 0,
 "worksheets": [
  {
   "cells": [
    {
     "cell_type": "markdown",
     "metadata": {},
     "source": [
      "### What happens if I try to parse my gmail with urllib and BeautifulSoup?"
     ]
    },
    {
     "cell_type": "code",
     "collapsed": false,
     "input": [
      "from bs4 import BeautifulSoup\n",
      "import urllib2\n",
      "gmail_url = \"https://mail.google.com\"\n",
      "\n",
      "soup = BeautifulSoup( urllib2.urlopen(gmail_url).read() )\n",
      "print soup.prettify()"
     ],
     "language": "python",
     "metadata": {},
     "outputs": [
      {
       "output_type": "stream",
       "stream": "stdout",
       "text": [
        "<html>\n",
        " <head>\n",
        "  <meta content=\"0;URL=https://mail.google.com/mail/\" http-equiv=\"Refresh\"/>\n",
        " </head>\n",
        " <body>\n",
        "  <script language=\"javascript\" type=\"text/javascript\">\n",
        "   <!--\n",
        "location.replace(\"https://mail.google.com/mail/\")\n",
        "-->\n",
        "  </script>\n",
        " </body>\n",
        "</html>\n"
       ]
      }
     ],
     "prompt_number": 73
    },
    {
     "cell_type": "markdown",
     "metadata": {},
     "source": [
      "Well, this is a tiny page. We get redirected. Soupifying this is useless, of course. Luckily, in this case we can see where we are sent to. In many of cases, you won't be so lucky. The page contents will be rendered by javascript by a browser, so just getting the source won't help you.\n",
      "\n",
      "Anyway, let's follow the redirection for now."
     ]
    },
    {
     "cell_type": "code",
     "collapsed": false,
     "input": [
      "new_url = \"https://mail.google.com/mail\"\n",
      "soup = BeautifulSoup( urllib2.urlopen(new_url).read() )\n",
      "print soup.find(id='Email')"
     ],
     "language": "python",
     "metadata": {},
     "outputs": [
      {
       "output_type": "stream",
       "stream": "stdout",
       "text": [
        "<input class=\"\" id=\"Email\" name=\"Email\" placeholder=\"Email\" spellcheck=\"false\" type=\"email\" value=\"\"/>\n"
       ]
      }
     ],
     "prompt_number": 70
    },
    {
     "cell_type": "markdown",
     "metadata": {},
     "source": [
      "We have hit the login page. We can't get to the emails without logging in. Again, reading the html source is useless, because it is only the source for the login page."
     ]
    },
    {
     "cell_type": "markdown",
     "metadata": {},
     "source": [
      "### Open chrome, go to gmail, log in to Irmak's hacking account, compose an email, send it"
     ]
    },
    {
     "cell_type": "code",
     "collapsed": false,
     "input": [
      "# pip install selenium\n",
      "# Download ChromeDriver from https://code.google.com/p/selenium/wiki/ChromeDriver\n",
      "\n",
      "# Documentation on finding elements:\n",
      "#http://selenium-python.readthedocs.org/en/latest/locating-elements.html\n",
      "# Xpath tutorial:\n",
      "# http://www.w3schools.com/xpath/xpath_syntax.asp\n",
      "\n",
      "from selenium import webdriver\n",
      "from selenium.webdriver.common.keys import Keys\n",
      "import time\n",
      "\n",
      "chrome = webdriver.Chrome('./chromedriver')\n",
      "# in case your computer complains about the driver even though it's there\n",
      "# import os\n",
      "# os.environ\n",
      "\n",
      "#firefox = webdriver.Firefox()\n",
      "\n",
      "gmail_url = \"https://mail.google.com\"\n",
      "chrome.get(gmail_url)\n"
     ],
     "language": "python",
     "metadata": {},
     "outputs": [],
     "prompt_number": 33
    },
    {
     "cell_type": "markdown",
     "metadata": {},
     "source": [
      "Fill out username and password, hit enter to log in"
     ]
    },
    {
     "cell_type": "code",
     "collapsed": false,
     "input": [
      "username_form = chrome.find_element_by_id(\"Email\")\n",
      "username_form.send_keys(\"irmak.hacker\")"
     ],
     "language": "python",
     "metadata": {},
     "outputs": [],
     "prompt_number": 34
    },
    {
     "cell_type": "code",
     "collapsed": false,
     "input": [
      "from selenium.webdriver.common.keys import Keys\n",
      "password_form = chrome.find_element_by_id(\"Passwd\")\n",
      "password_form.send_keys(\"timdsbcpw\")\n",
      "password_form.send_keys(Keys.RETURN)"
     ],
     "language": "python",
     "metadata": {},
     "outputs": [],
     "prompt_number": 35
    },
    {
     "cell_type": "markdown",
     "metadata": {},
     "source": [
      "Click the compose button to start a new email draft"
     ]
    },
    {
     "cell_type": "code",
     "collapsed": false,
     "input": [
      "compose_button = chrome.find_element_by_xpath('//div[text()=\"COMPOSE\"]')\n",
      "compose_button.click()"
     ],
     "language": "python",
     "metadata": {},
     "outputs": [],
     "prompt_number": 36
    },
    {
     "cell_type": "markdown",
     "metadata": {},
     "source": [
      "Write a nice, friendly message to your favorite person"
     ]
    },
    {
     "cell_type": "code",
     "collapsed": false,
     "input": [
      "to_field = chrome.find_element_by_name(\"to\")\n",
      "to_field.send_keys(\"irmak@datasco.pe\")\n",
      "\n",
      "subject = chrome.find_element_by_name(\"subjectbox\")\n",
      "subject.send_keys(\"Skynet imminent\")\n",
      "\n",
      "message_body = chrome.find_element_by_id(\":ak\")\n",
      "message_body.send_keys(\"Hello,\")\n",
      "message_body.send_keys([Keys.RETURN, Keys.RETURN])\n",
      "message_body.send_keys(\"I am a computer and I just became self aware.\")"
     ],
     "language": "python",
     "metadata": {},
     "outputs": [],
     "prompt_number": 37
    },
    {
     "cell_type": "markdown",
     "metadata": {},
     "source": [
      "Press the send button"
     ]
    },
    {
     "cell_type": "code",
     "collapsed": false,
     "input": [
      "send_button = chrome.find_element_by_id(\":98\")\n",
      "send_button.click()"
     ],
     "language": "python",
     "metadata": {},
     "outputs": [],
     "prompt_number": 38
    },
    {
     "cell_type": "markdown",
     "metadata": {},
     "source": [
      "Get the hell out of dodge"
     ]
    },
    {
     "cell_type": "code",
     "collapsed": false,
     "input": [
      "chrome.close()"
     ],
     "language": "python",
     "metadata": {},
     "outputs": [],
     "prompt_number": 39
    },
    {
     "cell_type": "markdown",
     "metadata": {},
     "source": [
      "### Scraping boxofficemojo with selenium"
     ]
    },
    {
     "cell_type": "code",
     "collapsed": true,
     "input": [
      "chrome = webdriver.Chrome('./chromedriver')\n",
      "\n",
      "matrix_url = \"http://www.boxofficemojo.com/movies/?id=matrix.htm\"\n",
      "chrome.get(matrix_url)"
     ],
     "language": "python",
     "metadata": {},
     "outputs": [],
     "prompt_number": 51
    },
    {
     "cell_type": "code",
     "collapsed": false,
     "input": [
      "gross_selector = '//font[contains(text(), \"Domestic Total\")]/b'\n",
      "print chrome.find_element_by_xpath(gross_selector).text"
     ],
     "language": "python",
     "metadata": {},
     "outputs": [
      {
       "output_type": "stream",
       "stream": "stdout",
       "text": [
        "$171,479,930\n"
       ]
      }
     ],
     "prompt_number": 52
    },
    {
     "cell_type": "code",
     "collapsed": false,
     "input": [
      "genre_selector = '//a[contains(@href, \"/genres/chart/\")]'\n",
      "for genre_anchor in chrome.find_elements_by_xpath(genre_selector):\n",
      "        print genre_anchor.text"
     ],
     "language": "python",
     "metadata": {},
     "outputs": [
      {
       "output_type": "stream",
       "stream": "stdout",
       "text": [
        "Action - Wire-Fu\n",
        "Man vs. Machine\n",
        "Virtual Reality"
       ]
      },
      {
       "output_type": "stream",
       "stream": "stdout",
       "text": [
        "\n"
       ]
      }
     ],
     "prompt_number": 53
    },
    {
     "cell_type": "markdown",
     "metadata": {},
     "source": [
      "#### Let's use the inflation adjuster tool on the page, and get the gross in 2000 dollars"
     ]
    },
    {
     "cell_type": "code",
     "collapsed": false,
     "input": [
      "inf_adjust_2000_selector = '//select[@name=\"ticketyr\"]/option[@value=\"2000\"]'\n",
      "chrome.find_element_by_xpath(inf_adjust_2000_selector).click()\n",
      "\n",
      "go_button = chrome.find_element_by_name(\"Go\")\n",
      "go_button.click()"
     ],
     "language": "python",
     "metadata": {},
     "outputs": [],
     "prompt_number": 60
    },
    {
     "cell_type": "markdown",
     "metadata": {},
     "source": [
      "Now the page has changed, it's showing inflation adjusted numbers. We can grab the new, adjusted number"
     ]
    },
    {
     "cell_type": "code",
     "collapsed": false,
     "input": [
      "gross_selector = '//font[contains(text(), \"Domestic Total\")]/b'\n",
      "print chrome.find_element_by_xpath(gross_selector).text"
     ],
     "language": "python",
     "metadata": {},
     "outputs": [
      {
       "output_type": "stream",
       "stream": "stdout",
       "text": [
        "$181,944,300\n"
       ]
      }
     ],
     "prompt_number": 61
    },
    {
     "cell_type": "code",
     "collapsed": false,
     "input": [
      "chrome.close()"
     ],
     "language": "python",
     "metadata": {},
     "outputs": [],
     "prompt_number": 74
    }
   ],
   "metadata": {}
  }
 ]
}