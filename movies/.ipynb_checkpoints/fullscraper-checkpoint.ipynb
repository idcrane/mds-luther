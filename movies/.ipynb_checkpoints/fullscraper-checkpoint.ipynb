{
 "metadata": {
  "name": "",
  "signature": "sha256:30a8f0b3adb9a78a70474fd67215f3a4a4a438afdc9879d1a116e5535e633ba6"
 },
 "nbformat": 3,
 "nbformat_minor": 0,
 "worksheets": [
  {
   "cells": [
    {
     "cell_type": "code",
     "collapsed": false,
     "input": [
      "import bomojo\n",
      "import urllib2\n",
      "import scraper\n",
      "import re\n",
      "from bs4 import BeautifulSoup\n"
     ],
     "language": "python",
     "metadata": {},
     "outputs": [],
     "prompt_number": 1
    },
    {
     "cell_type": "code",
     "collapsed": false,
     "input": [
      "listurl = 'http://boxofficemojo.com/movies/alphabetical.htm?letter=NUM&p=1.htm'\n",
      "\n",
      "page = urllib2.urlopen(listurl)\n",
      "soup = BeautifulSoup(page)"
     ],
     "language": "python",
     "metadata": {},
     "outputs": [],
     "prompt_number": 4
    },
    {
     "cell_type": "code",
     "collapsed": false,
     "input": [
      "obj = soup.find_all('a', href=re.compile('/movies/\\?id='))"
     ],
     "language": "python",
     "metadata": {},
     "outputs": [],
     "prompt_number": 135
    },
    {
     "cell_type": "code",
     "collapsed": false,
     "input": [
      "movie_urls = []\n",
      "baseurl = 'http://boxofficemojo.com'\n",
      "for movie in obj:\n",
      "    full_url = baseurl + movie['href']\n",
      "    movie_urls.append(full_url)"
     ],
     "language": "python",
     "metadata": {},
     "outputs": [],
     "prompt_number": 136
    },
    {
     "cell_type": "code",
     "collapsed": false,
     "input": [
      "print movie_urls"
     ],
     "language": "python",
     "metadata": {},
     "outputs": [
      {
       "output_type": "stream",
       "stream": "stdout",
       "text": [
        "[u'http://boxofficemojo.com//movies/?id=marvel2014a.htm', u'http://boxofficemojo.com//movies/?id=marvel2014a.htm', u'http://boxofficemojo.com//movies/?id=marvel14b.htm', u'http://boxofficemojo.com//movies/?id=lego.htm', u'http://boxofficemojo.com//movies/?id=transformers4.htm', u'http://boxofficemojo.com//movies/?id=maleficient.htm', u'http://boxofficemojo.com//movies/?id=xmen2014.htm', u'http://boxofficemojo.com//movies/?id=dawnoftheapes.htm', u'http://boxofficemojo.com//movies/?id=amazingspiderman2.htm', u'http://boxofficemojo.com//movies/?id=godzilla2012.htm', u'http://boxofficemojo.com//movies/?id=21jumpstreet2.htm', u'http://boxofficemojo.com//movies/?id=howtotrainyourdragon2.htm', u'http://boxofficemojo.com//movies/?id=tmnt2013.htm', u'http://boxofficemojo.com//movies/?id=divergent.htm', u'http://boxofficemojo.com//movies/?id=townies.htm', u'http://boxofficemojo.com//movies/?id=ridealong.htm', u'http://boxofficemojo.com//movies/?id=rio2.htm', u'http://boxofficemojo.com//movies/?id=faultinourstars.htm', u'http://boxofficemojo.com//movies/?id=lucy.htm', u'http://boxofficemojo.com//movies/?id=mrpeabodyandsherman.htm', u'http://boxofficemojo.com//movies/?id=300sequel.htm', u'http://boxofficemojo.com//movies/?id=noah.htm', u'http://boxofficemojo.com//movies/?id=allyouneediskill.htm', u'http://boxofficemojo.com//movies/?id=nonstop.htm', u'http://boxofficemojo.com//movies/?id=heavenisforreal.htm', u'http://boxofficemojo.com//movies/?id=otherwoman14.htm', u'http://boxofficemojo.com//movies/?id=tammy.htm', u'http://boxofficemojo.com//movies/?id=monumentsmen.htm', u'http://boxofficemojo.com//movies/?id=hercules2014.htm', u'http://boxofficemojo.com//movies/?id=purge2.htm', u'http://boxofficemojo.com//movies/?id=letsbecops.htm', u'http://boxofficemojo.com//movies/?id=thinklikeaman2.htm', u'http://boxofficemojo.com//movies/?id=nutjob.htm', u'http://boxofficemojo.com//movies/?id=godsnotdead.htm', u'http://boxofficemojo.com//movies/?id=sonofgod.htm', u'http://boxofficemojo.com//movies/?id=grandbudapesthotel.htm', u'http://boxofficemojo.com//movies/?id=robocop2013.htm', u'http://boxofficemojo.com//movies/?id=planes2.htm', u'http://boxofficemojo.com//movies/?id=muppets2.htm', u'http://boxofficemojo.com//movies/?id=jackryan.htm', u'http://boxofficemojo.com//movies/?id=aboutlastnight14.htm', u'http://boxofficemojo.com//movies/?id=jerseyboys.htm', u'http://boxofficemojo.com//movies/?id=blended.htm', u'http://boxofficemojo.com//movies/?id=100foot.htm', u'http://boxofficemojo.com//movies/?id=intothestorm.htm', u'http://boxofficemojo.com//movies/?id=needforspeed.htm', u'http://boxofficemojo.com//movies/?id=millionwaystodie.htm', u'http://boxofficemojo.com//movies/?id=ifistay.htm', u'http://boxofficemojo.com//movies/?id=echo.htm', u'http://boxofficemojo.com//movies/?id=sextape.htm', u'http://boxofficemojo.com//movies/?id=giver.htm', u'http://boxofficemojo.com//movies/?id=expendables3.htm', u'http://boxofficemojo.com//movies/?id=milliondollararm.htm', u'http://boxofficemojo.com//movies/?id=paranormalactivity5.htm', u'http://boxofficemojo.com//movies/?id=chef.htm', u'http://boxofficemojo.com//movies/?id=threedaystokill.htm', u'http://boxofficemojo.com//movies/?id=bewarethenight.htm', u'http://boxofficemojo.com//movies/?id=getonup.htm', u'http://boxofficemojo.com//movies/?id=draftday.htm', u'http://boxofficemojo.com//movies/?id=oculus.htm', u'http://boxofficemojo.com//movies/?id=areweofficiallydating.htm', u'http://boxofficemojo.com//movies/?id=whenthegamestandstall.htm', u'http://boxofficemojo.com//movies/?id=endlesslove14.htm', u'http://boxofficemojo.com//movies/?id=pompeii.htm', u'http://boxofficemojo.com//movies/?id=transcendence.htm', u'http://boxofficemojo.com//movies/?id=boyhood.htm', u'http://boxofficemojo.com//movies/?id=brickmansions.htm', u'http://boxofficemojo.com//movies/?id=ifrankenstein.htm', u'http://boxofficemojo.com//movies/?id=herculesbegins.htm', u'http://boxofficemojo.com//movies/?id=novemberman.htm', u'http://boxofficemojo.com//movies/?id=bears.htm', u'http://boxofficemojo.com//movies/?id=hauntedhouse2.htm', u'http://boxofficemojo.com//movies/?id=singlemomsclub.htm', u'http://boxofficemojo.com//movies/?id=amostwantedman.htm', u'http://boxofficemojo.com//movies/?id=canasong.htm', u'http://boxofficemojo.com//movies/?id=devilsdue.htm', u'http://boxofficemojo.com//movies/?id=asabovesobelow.htm', u'http://boxofficemojo.com//movies/?id=andsoitgoes.htm', u'http://boxofficemojo.com//movies/?id=stepup5.htm', u'http://boxofficemojo.com//movies/?id=america2014.htm', u'http://boxofficemojo.com//movies/?id=laborday.htm', u'http://boxofficemojo.com//movies/?id=sincity2.htm', u'http://boxofficemojo.com//movies/?id=winterstale.htm', u'http://boxofficemojo.com//movies/?id=belle.htm', u'http://boxofficemojo.com//movies/?id=ten2014.htm', u'http://boxofficemojo.com//movies/?id=momsnightout.htm', u'http://boxofficemojo.com//movies/?id=magicinthemoonlight.htm', u'http://boxofficemojo.com//movies/?id=quietones.htm', u'http://boxofficemojo.com//movies/?id=legendsofoz.htm', u'http://boxofficemojo.com//movies/?id=vampireacademy.htm', u'http://boxofficemojo.com//movies/?id=badwords.htm', u'http://boxofficemojo.com//movies/?id=islandoflemurs.htm', u'http://boxofficemojo.com//movies/?id=cesarchavez.htm', u'http://boxofficemojo.com//movies/?id=windrises.htm', u'http://boxofficemojo.com//movies/?id=cantinflas.htm', u'http://boxofficemojo.com//movies/?id=snowpiercer.htm', u'http://boxofficemojo.com//movies/?id=railwayman.htm', u'http://boxofficemojo.com//movies/?id=lunchbox.htm', u'http://boxofficemojo.com//movies/?id=fadinggigolo.htm', u'http://boxofficemojo.com//movies/?id=ida.htm', u'http://boxofficemojo.com//movies/?id=wishiwashere.htm']\n"
       ]
      }
     ],
     "prompt_number": 36
    },
    {
     "cell_type": "code",
     "collapsed": false,
     "input": [
      "def get_page_movie_urls(url):\n",
      "    page = urllib2.urlopen(url)\n",
      "    soup = BeautifulSoup(page)\n",
      "    obj = soup.find_all('a', href=re.compile('/movies/\\?id='))\n",
      "   \n",
      "    movie_urls = []\n",
      "    baseurl = 'http://boxofficemojo.com'\n",
      "    for movie in obj:\n",
      "        full_url = baseurl + movie['href']\n",
      "        movie_urls.append(full_url)\n",
      "    return movie_urls\n",
      "    "
     ],
     "language": "python",
     "metadata": {},
     "outputs": [],
     "prompt_number": 2
    },
    {
     "cell_type": "code",
     "collapsed": false,
     "input": [
      "all_movies_num = get_page_movie_urls('http://boxofficemojo.com/movies/alphabetical.htm?letter=NUM&p=1.htm')"
     ],
     "language": "python",
     "metadata": {},
     "outputs": [],
     "prompt_number": 4
    },
    {
     "cell_type": "code",
     "collapsed": false,
     "input": [
      "print all_movies_num"
     ],
     "language": "python",
     "metadata": {},
     "outputs": [
      {
       "output_type": "stream",
       "stream": "stdout",
       "text": [
        "[u'http://boxofficemojo.com/movies/?id=marvel2014a.htm', u'http://boxofficemojo.com/movies/?id=9dot99.htm', u'http://boxofficemojo.com/movies/?id=supercapitalist.htm', u'http://boxofficemojo.com/movies/?id=500daysofsummer.htm', u'http://boxofficemojo.com/movies/?id=untitled.htm', u'http://boxofficemojo.com/movies/?id=andjusticeforall.htm', u'http://boxofficemojo.com/movies/?id=1mileabove.htm', u'http://boxofficemojo.com/movies/?id=1plus1.htm', u'http://boxofficemojo.com/movies/?id=10.htm', u'http://boxofficemojo.com/movies/?id=10itemsorless.htm', u'http://boxofficemojo.com/movies/?id=10questionsforthedalailama.htm', u'http://boxofficemojo.com/movies/?id=10rules.htm', u'http://boxofficemojo.com/movies/?id=10thingsihateaboutyou.htm', u'http://boxofficemojo.com/movies/?id=10tomidnight.htm', u'http://boxofficemojo.com/movies/?id=10years.htm', u'http://boxofficemojo.com/movies/?id=10000bc.htm', u'http://boxofficemojo.com/movies/?id=100bloodyacres.htm', u'http://boxofficemojo.com/movies/?id=101dalmations.htm', u'http://boxofficemojo.com/movies/?id=101dalmatiansliveaction.htm', u'http://boxofficemojo.com/movies/?id=101dalmatians69.htm', u'http://boxofficemojo.com/movies/?id=101dalmatians79.htm', u'http://boxofficemojo.com/movies/?id=101dalmatians85.htm', u'http://boxofficemojo.com/movies/?id=101dalmatians91.htm', u'http://boxofficemojo.com/movies/?id=101reykjavik.htm', u'http://boxofficemojo.com/movies/?id=102dalmatians.htm', u'http://boxofficemojo.com/movies/?id=10thandwolf.htm', u'http://boxofficemojo.com/movies/?id=11flowers.htm', u'http://boxofficemojo.com/movies/?id=111111.htm', u'http://boxofficemojo.com/movies/?id=11thhour.htm', u'http://boxofficemojo.com/movies/?id=12.htm', u'http://boxofficemojo.com/movies/?id=12angrymen.htm', u'http://boxofficemojo.com/movies/?id=twelvemonkeys.htm', u'http://boxofficemojo.com/movies/?id=12oclockboys.htm', u'http://boxofficemojo.com/movies/?id=12rounds.htm', u'http://boxofficemojo.com/movies/?id=twelveyearsaslave.htm', u'http://boxofficemojo.com/movies/?id=121212.htm', u'http://boxofficemojo.com/movies/?id=127hours.htm', u'http://boxofficemojo.com/movies/?id=1208eastofbucharest.htm', u'http://boxofficemojo.com/movies/?id=13assassins.htm', u'http://boxofficemojo.com/movies/?id=13conversationsaboutonething.htm', u'http://boxofficemojo.com/movies/?id=13goingon30.htm', u'http://boxofficemojo.com/movies/?id=13monthsofsunshine.htm', u'http://boxofficemojo.com/movies/?id=13sins.htm', u'http://boxofficemojo.com/movies/?id=13tzameti.htm', u'http://boxofficemojo.com/movies/?id=13b.htm', u'http://boxofficemojo.com/movies/?id=13thalley.htm', u'http://boxofficemojo.com/movies/?id=13thwarrior.htm', u'http://boxofficemojo.com/movies/?id=14blades.htm', u'http://boxofficemojo.com/movies/?id=1408.htm', u'http://boxofficemojo.com/movies/?id=1492.htm', u'http://boxofficemojo.com/movies/?id=15.htm', u'http://boxofficemojo.com/movies/?id=15fevrier1839.htm', u'http://boxofficemojo.com/movies/?id=15minutes.htm', u'http://boxofficemojo.com/movies/?id=16blocks.htm', u'http://boxofficemojo.com/movies/?id=16daysofglory.htm', u'http://boxofficemojo.com/movies/?id=16yearsofalcohol.htm', u'http://boxofficemojo.com/movies/?id=17again.htm', u'http://boxofficemojo.com/movies/?id=17girls.htm', u'http://boxofficemojo.com/movies/?id=18again.htm', u'http://boxofficemojo.com/movies/?id=18ansapres.htm', u'http://boxofficemojo.com/movies/?id=180south.htm', u'http://boxofficemojo.com/movies/?id=187.htm', u'http://boxofficemojo.com/movies/?id=1900.htm', u'http://boxofficemojo.com/movies/?id=1911.htm', u'http://boxofficemojo.com/movies/?id=1941.htm', u'http://boxofficemojo.com/movies/?id=1969.htm', u'http://boxofficemojo.com/movies/?id=1984.htm', u'http://boxofficemojo.com/movies/?id=1995bugsbunnyfilmfestival.htm', u'http://boxofficemojo.com/movies/?id=1998bugsbunnyfilmfestival.htm', u'http://boxofficemojo.com/movies/?id=2autumns.htm', u'http://boxofficemojo.com/movies/?id=2daysinnewyork.htm', u'http://boxofficemojo.com/movies/?id=2daysinparis.htm', u'http://boxofficemojo.com/movies/?id=2daysinthevalley.htm', u'http://boxofficemojo.com/movies/?id=2fast2furious.htm', u'http://boxofficemojo.com/movies/?id=2guns.htm', u'http://boxofficemojo.com/movies/?id=2jacks.htm', u'http://boxofficemojo.com/movies/?id=2states.htm', u'http://boxofficemojo.com/movies/?id=20centimeters.htm', u'http://boxofficemojo.com/movies/?id=20dates.htm', u'http://boxofficemojo.com/movies/?id=20feetfromstardom.htm', u'http://boxofficemojo.com/movies/?id=20millionmilestoearth.htm', u'http://boxofficemojo.com/movies/?id=20000daysonearth.htm', u'http://boxofficemojo.com/movies/?id=200cartas.htm', u'http://boxofficemojo.com/movies/?id=200cigarettes.htm', u'http://boxofficemojo.com/movies/?id=2001.htm', u'http://boxofficemojo.com/movies/?id=20012013.htm', u'http://boxofficemojo.com/movies/?id=200101.htm', u'http://boxofficemojo.com/movies/?id=shorts06.htm', u'http://boxofficemojo.com/movies/?id=2006shortfilms.htm', u'http://boxofficemojo.com/movies/?id=2007shortfilms.htm', u'http://boxofficemojo.com/movies/?id=2007shortfilms.htm', u'http://boxofficemojo.com/movies/?id=2008oscarshorts.htm', u'http://boxofficemojo.com/movies/?id=2010.htm', u'http://boxofficemojo.com/movies/?id=2010oscarshorts.htm', u'http://boxofficemojo.com/movies/?id=2011oscarshorts.htm', u'http://boxofficemojo.com/movies/?id=2012.htm', u'http://boxofficemojo.com/movies/?id=2012oscarshorts.htm', u'http://boxofficemojo.com/movies/?id=2012timeforchange.htm', u'http://boxofficemojo.com/movies/?id=2013oscar.htm', u'http://boxofficemojo.com/movies/?id=2014oscar.htm', u'http://boxofficemojo.com/movies/?id=2016obamasamerica.htm', u'http://boxofficemojo.com/movies/?id=2046.htm', u'http://boxofficemojo.com/movies/?id=21.htm', u'http://boxofficemojo.com/movies/?id=21andover.htm', u'http://boxofficemojo.com/movies/?id=21grams.htm', u'http://boxofficemojo.com/movies/?id=21jumpstreet.htm', u'http://boxofficemojo.com/movies/?id=22bullets.htm', u'http://boxofficemojo.com/movies/?id=21jumpstreet2.htm', u'http://boxofficemojo.com/movies/?id=22ndtourneeofanimation.htm', u'http://boxofficemojo.com/movies/?id=23rdtourneeofanimation.htm', u'http://boxofficemojo.com/movies/?id=24city.htm', u'http://boxofficemojo.com/movies/?id=24hourparty.htm', u'http://boxofficemojo.com/movies/?id=24-hourwoman.htm', u'http://boxofficemojo.com/movies/?id=24thday.htm', u'http://boxofficemojo.com/movies/?id=24thtourneeofanimation.htm', u'http://boxofficemojo.com/movies/?id=25thhour.htm', u'http://boxofficemojo.com/movies/?id=27dresses.htm', u'http://boxofficemojo.com/movies/?id=28days.htm', u'http://boxofficemojo.com/movies/?id=28dayslater.htm', u'http://boxofficemojo.com/movies/?id=28hotelrooms.htm', u'http://boxofficemojo.com/movies/?id=28weekslater.htm', u'http://boxofficemojo.com/movies/?id=29thstreet.htm', u'http://boxofficemojo.com/movies/?id=2by4.htm', u'http://boxofficemojo.com/movies/?id=2ndanimationcelebration.htm', u'http://boxofficemojo.com/movies/?id=3.htm', u'http://boxofficemojo.com/movies/?id=3backyards.htm', u'http://boxofficemojo.com/movies/?id=threedaystokill.htm', u'http://boxofficemojo.com/movies/?id=3geezers.htm', u'http://boxofficemojo.com/movies/?id=3godfathers.htm', u'http://boxofficemojo.com/movies/?id=3idiots.htm', u'http://boxofficemojo.com/movies/?id=3needles.htm', u'http://boxofficemojo.com/movies/?id=3ninjas.htm', u'http://boxofficemojo.com/movies/?id=3ninjaskickback.htm', u'http://boxofficemojo.com/movies/?id=3ninjasknuckleup.htm', u'http://boxofficemojo.com/movies/?id=3ninjas4.htm', u'http://boxofficemojo.com/movies/?id=3roomsofmelancholia.htm', u'http://boxofficemojo.com/movies/?id=3strikes.htm', u'http://boxofficemojo.com/movies/?id=321frankie.htm', u'http://boxofficemojo.com/movies/?id=3iron.htm', u'http://boxofficemojo.com/movies/?id=30beats.htm', u'http://boxofficemojo.com/movies/?id=30daysofnight.htm', u'http://boxofficemojo.com/movies/?id=30minutesorless.htm', u'http://boxofficemojo.com/movies/?id=30yearstolife.htm', u'http://boxofficemojo.com/movies/?id=300.htm', u'http://boxofficemojo.com/movies/?id=300spartans.htm', u'http://boxofficemojo.com/movies/?id=3000milestograceland.htm', u'http://boxofficemojo.com/movies/?id=300sequel.htm', u'http://boxofficemojo.com/movies/?id=35andticking.htm', u'http://boxofficemojo.com/movies/?id=35shotsofrum.htm', u'http://boxofficemojo.com/movies/?id=35up.htm', u'http://boxofficemojo.com/movies/?id=36hours.htm', u'http://boxofficemojo.com/movies/?id=36saints.htm', u'http://boxofficemojo.com/movies/?id=360.htm', u'http://boxofficemojo.com/movies/?id=39poundsoflove.htm', u'http://boxofficemojo.com/movies/?id=39steps.htm', u'http://boxofficemojo.com/movies/?id=3:10toyuma57.htm', u'http://boxofficemojo.com/movies/?id=310toyuma.htm', u'http://boxofficemojo.com/movies/?id=3rdanimationcelebration.htm', u'http://boxofficemojo.com/movies/?id=4.htm', u'http://boxofficemojo.com/movies/?id=4littlegirls.htm', u'http://boxofficemojo.com/movies/?id=4months3weeks2days.htm', u'http://boxofficemojo.com/movies/?id=40daysand40nights.htm', u'http://boxofficemojo.com/movies/?id=40yearoldvirgin.htm', u'http://boxofficemojo.com/movies/?id=400blows.htm', u'http://boxofficemojo.com/movies/?id=42.htm', u'http://boxofficemojo.com/movies/?id=42up.htm', u'http://boxofficemojo.com/movies/?id=42ndstreet.htm', u'http://boxofficemojo.com/movies/?id=44inchchest.htm', u'http://boxofficemojo.com/movies/?id=45365.htm', u'http://boxofficemojo.com/movies/?id=47ronin.htm', u'http://boxofficemojo.com/movies/?id=48hrs.htm', u'http://boxofficemojo.com/movies/?id=49up.htm', u'http://boxofficemojo.com/movies/?id=49thparallel.htm', u'http://boxofficemojo.com/movies/?id=444lastdayonearth.htm', u'http://boxofficemojo.com/movies/?id=4thanimationcelebration.htm', u'http://boxofficemojo.com/movies/?id=4thtenor.htm', u'http://boxofficemojo.com/movies/?id=fivebrokencameras.htm', u'http://boxofficemojo.com/movies/?id=5daysofwar.htm', u'http://boxofficemojo.com/movies/?id=50firstdates.htm', u'http://boxofficemojo.com/movies/?id=50to1.htm', u'http://boxofficemojo.com/movies/?id=50waysofsayingfabulous.htm', u'http://boxofficemojo.com/movies/?id=50fifty.htm', u'http://boxofficemojo.com/movies/?id=51birchstreet.htm', u'http://boxofficemojo.com/movies/?id=52pickup.htm', u'http://boxofficemojo.com/movies/?id=54.htm', u'http://boxofficemojo.com/movies/?id=56up.htm', u'http://boxofficemojo.com/movies/?id=5thquarter.htm', u'http://boxofficemojo.com/movies/?id=5x2.htm', u'http://boxofficemojo.com/movies/?id=6monthrule.htm', u'http://boxofficemojo.com/movies/?id=shelter2011.htm', u'http://boxofficemojo.com/movies/?id=6thday.htm', u'http://boxofficemojo.com/movies/?id=6thman.htm', u'http://boxofficemojo.com/movies/?id=7boxes.htm', u'http://boxofficemojo.com/movies/?id=7dias.htm', u'http://boxofficemojo.com/movies/?id=7khoonmaaf.htm', u'http://boxofficemojo.com/movies/?id=71intothefire.htm', u'http://boxofficemojo.com/movies/?id=7500.htm', u'http://boxofficemojo.com/movies/?id=7thstreet.htm', u'http://boxofficemojo.com/movies/?id=81299.htm', u'http://boxofficemojo.com/movies/?id=812women.htm', u'http://boxofficemojo.com/movies/?id=8headsinaduffelbag.htm', u'http://boxofficemojo.com/movies/?id=8mile.htm', u'http://boxofficemojo.com/movies/?id=8millionwaystodie.htm', u'http://boxofficemojo.com/movies/?id=8seconds.htm', u'http://boxofficemojo.com/movies/?id=8women.htm', u'http://boxofficemojo.com/movies/?id=800bullets.htm', u'http://boxofficemojo.com/movies/?id=84charingcrossroad.htm', u'http://boxofficemojo.com/movies/?id=88minutes.htm', u'http://boxofficemojo.com/movies/?id=8mormonproposition.htm', u'http://boxofficemojo.com/movies/?id=8mm.htm', u'http://boxofficemojo.com/movies/?id=9.htm', u'http://boxofficemojo.com/movies/?id=9andonehalfweeks.htm', u'http://boxofficemojo.com/movies/?id=9songs.htm', u'http://boxofficemojo.com/movies/?id=9to5.htm', u'http://boxofficemojo.com/movies/?id=95milestogo.htm', u'http://boxofficemojo.com/movies/?id=976-evil.htm', u'http://boxofficemojo.com/movies/?id=99percent.htm', u'http://boxofficemojo.com/movies/?id=rec2.htm']\n"
       ]
      }
     ],
     "prompt_number": 5
    },
    {
     "cell_type": "code",
     "collapsed": false,
     "input": [
      "class BOMMassScrape(bomojo.BOMojoScraper):\n",
      "    \n",
      "    baseurl = 'http://boxofficemojo.com'\n",
      "    \n",
      "    \n",
      "    def get_movie_dicts_from_URL_list_page(self, url):\n",
      "        grand_movie_list = []\n",
      "        problem_movie_list = []\n",
      "        movie_urls = self.get_single_page_movie_urls(url)\n",
      "        for num, movie_url in enumerate(movie_urls):\n",
      "            print movie_url\n",
      "            try:\n",
      "                grand_movie_list.append(self.parse_full_mojo_page(movie_url))\n",
      "            except (AttributeError, TypeError):\n",
      "                problem_movie_list.append(movie_url)\n",
      "            #print self.parse_full_mojo_page(movie_url)\n",
      "            #if num >=20:\n",
      "            #    break\n",
      "        return grand_movie_list, problem_movie_list\n",
      "    \n",
      "    \n",
      "    def get_single_page_movie_urls(self, url):\n",
      "        soup = self.connect(url)\n",
      "        obj = soup.find_all('a', href=re.compile('/movies/\\?id='))        \n",
      "        movie_urls = []\n",
      "        for movie in obj:\n",
      "            full_url = self.baseurl + movie['href']\n",
      "            movie_urls.append(full_url)\n",
      "        return movie_urls\n",
      "    \n",
      "ms = BOMMassScrape()\n",
      "#testurl = 'http://boxofficemojo.com/movies/alphabetical.htm?letter=NUM&p=.htm'"
     ],
     "language": "python",
     "metadata": {},
     "outputs": [],
     "prompt_number": 37
    },
    {
     "cell_type": "code",
     "collapsed": false,
     "input": [
      "test = ms.get_single_page_movie_urls(testurl)"
     ],
     "language": "python",
     "metadata": {},
     "outputs": [],
     "prompt_number": 15
    },
    {
     "cell_type": "code",
     "collapsed": false,
     "input": [
      "print test"
     ],
     "language": "python",
     "metadata": {},
     "outputs": [
      {
       "output_type": "stream",
       "stream": "stdout",
       "text": [
        "[u'http://boxofficemojo.com/movies/?id=marvel2014a.htm', u'http://boxofficemojo.com/movies/?id=9dot99.htm', u'http://boxofficemojo.com/movies/?id=supercapitalist.htm', u'http://boxofficemojo.com/movies/?id=500daysofsummer.htm', u'http://boxofficemojo.com/movies/?id=untitled.htm', u'http://boxofficemojo.com/movies/?id=andjusticeforall.htm', u'http://boxofficemojo.com/movies/?id=1mileabove.htm', u'http://boxofficemojo.com/movies/?id=1plus1.htm', u'http://boxofficemojo.com/movies/?id=10.htm', u'http://boxofficemojo.com/movies/?id=10itemsorless.htm', u'http://boxofficemojo.com/movies/?id=10questionsforthedalailama.htm', u'http://boxofficemojo.com/movies/?id=10rules.htm', u'http://boxofficemojo.com/movies/?id=10thingsihateaboutyou.htm', u'http://boxofficemojo.com/movies/?id=10tomidnight.htm', u'http://boxofficemojo.com/movies/?id=10years.htm', u'http://boxofficemojo.com/movies/?id=10000bc.htm', u'http://boxofficemojo.com/movies/?id=100bloodyacres.htm', u'http://boxofficemojo.com/movies/?id=101dalmations.htm', u'http://boxofficemojo.com/movies/?id=101dalmatiansliveaction.htm', u'http://boxofficemojo.com/movies/?id=101dalmatians69.htm', u'http://boxofficemojo.com/movies/?id=101dalmatians79.htm', u'http://boxofficemojo.com/movies/?id=101dalmatians85.htm', u'http://boxofficemojo.com/movies/?id=101dalmatians91.htm', u'http://boxofficemojo.com/movies/?id=101reykjavik.htm', u'http://boxofficemojo.com/movies/?id=102dalmatians.htm', u'http://boxofficemojo.com/movies/?id=10thandwolf.htm', u'http://boxofficemojo.com/movies/?id=11flowers.htm', u'http://boxofficemojo.com/movies/?id=111111.htm', u'http://boxofficemojo.com/movies/?id=11thhour.htm', u'http://boxofficemojo.com/movies/?id=12.htm', u'http://boxofficemojo.com/movies/?id=12angrymen.htm', u'http://boxofficemojo.com/movies/?id=twelvemonkeys.htm', u'http://boxofficemojo.com/movies/?id=12oclockboys.htm', u'http://boxofficemojo.com/movies/?id=12rounds.htm', u'http://boxofficemojo.com/movies/?id=twelveyearsaslave.htm', u'http://boxofficemojo.com/movies/?id=121212.htm', u'http://boxofficemojo.com/movies/?id=127hours.htm', u'http://boxofficemojo.com/movies/?id=1208eastofbucharest.htm', u'http://boxofficemojo.com/movies/?id=13assassins.htm', u'http://boxofficemojo.com/movies/?id=13conversationsaboutonething.htm', u'http://boxofficemojo.com/movies/?id=13goingon30.htm', u'http://boxofficemojo.com/movies/?id=13monthsofsunshine.htm', u'http://boxofficemojo.com/movies/?id=13sins.htm', u'http://boxofficemojo.com/movies/?id=13tzameti.htm', u'http://boxofficemojo.com/movies/?id=13b.htm', u'http://boxofficemojo.com/movies/?id=13thalley.htm', u'http://boxofficemojo.com/movies/?id=13thwarrior.htm', u'http://boxofficemojo.com/movies/?id=14blades.htm', u'http://boxofficemojo.com/movies/?id=1408.htm', u'http://boxofficemojo.com/movies/?id=1492.htm', u'http://boxofficemojo.com/movies/?id=15.htm', u'http://boxofficemojo.com/movies/?id=15fevrier1839.htm', u'http://boxofficemojo.com/movies/?id=15minutes.htm', u'http://boxofficemojo.com/movies/?id=16blocks.htm', u'http://boxofficemojo.com/movies/?id=16daysofglory.htm', u'http://boxofficemojo.com/movies/?id=16yearsofalcohol.htm', u'http://boxofficemojo.com/movies/?id=17again.htm', u'http://boxofficemojo.com/movies/?id=17girls.htm', u'http://boxofficemojo.com/movies/?id=18again.htm', u'http://boxofficemojo.com/movies/?id=18ansapres.htm', u'http://boxofficemojo.com/movies/?id=180south.htm', u'http://boxofficemojo.com/movies/?id=187.htm', u'http://boxofficemojo.com/movies/?id=1900.htm', u'http://boxofficemojo.com/movies/?id=1911.htm', u'http://boxofficemojo.com/movies/?id=1941.htm', u'http://boxofficemojo.com/movies/?id=1969.htm', u'http://boxofficemojo.com/movies/?id=1984.htm', u'http://boxofficemojo.com/movies/?id=1995bugsbunnyfilmfestival.htm', u'http://boxofficemojo.com/movies/?id=1998bugsbunnyfilmfestival.htm', u'http://boxofficemojo.com/movies/?id=2autumns.htm', u'http://boxofficemojo.com/movies/?id=2daysinnewyork.htm', u'http://boxofficemojo.com/movies/?id=2daysinparis.htm', u'http://boxofficemojo.com/movies/?id=2daysinthevalley.htm', u'http://boxofficemojo.com/movies/?id=2fast2furious.htm', u'http://boxofficemojo.com/movies/?id=2guns.htm', u'http://boxofficemojo.com/movies/?id=2jacks.htm', u'http://boxofficemojo.com/movies/?id=2states.htm', u'http://boxofficemojo.com/movies/?id=20centimeters.htm', u'http://boxofficemojo.com/movies/?id=20dates.htm', u'http://boxofficemojo.com/movies/?id=20feetfromstardom.htm', u'http://boxofficemojo.com/movies/?id=20millionmilestoearth.htm', u'http://boxofficemojo.com/movies/?id=20000daysonearth.htm', u'http://boxofficemojo.com/movies/?id=200cartas.htm', u'http://boxofficemojo.com/movies/?id=200cigarettes.htm', u'http://boxofficemojo.com/movies/?id=2001.htm', u'http://boxofficemojo.com/movies/?id=20012013.htm', u'http://boxofficemojo.com/movies/?id=200101.htm', u'http://boxofficemojo.com/movies/?id=shorts06.htm', u'http://boxofficemojo.com/movies/?id=2006shortfilms.htm', u'http://boxofficemojo.com/movies/?id=2007shortfilms.htm', u'http://boxofficemojo.com/movies/?id=2007shortfilms.htm', u'http://boxofficemojo.com/movies/?id=2008oscarshorts.htm', u'http://boxofficemojo.com/movies/?id=2010.htm', u'http://boxofficemojo.com/movies/?id=2010oscarshorts.htm', u'http://boxofficemojo.com/movies/?id=2011oscarshorts.htm', u'http://boxofficemojo.com/movies/?id=2012.htm', u'http://boxofficemojo.com/movies/?id=2012oscarshorts.htm', u'http://boxofficemojo.com/movies/?id=2012timeforchange.htm', u'http://boxofficemojo.com/movies/?id=2013oscar.htm', u'http://boxofficemojo.com/movies/?id=2014oscar.htm', u'http://boxofficemojo.com/movies/?id=2016obamasamerica.htm', u'http://boxofficemojo.com/movies/?id=2046.htm', u'http://boxofficemojo.com/movies/?id=21.htm', u'http://boxofficemojo.com/movies/?id=21andover.htm', u'http://boxofficemojo.com/movies/?id=21grams.htm', u'http://boxofficemojo.com/movies/?id=21jumpstreet.htm', u'http://boxofficemojo.com/movies/?id=22bullets.htm', u'http://boxofficemojo.com/movies/?id=21jumpstreet2.htm', u'http://boxofficemojo.com/movies/?id=22ndtourneeofanimation.htm', u'http://boxofficemojo.com/movies/?id=23rdtourneeofanimation.htm', u'http://boxofficemojo.com/movies/?id=24city.htm', u'http://boxofficemojo.com/movies/?id=24hourparty.htm', u'http://boxofficemojo.com/movies/?id=24-hourwoman.htm', u'http://boxofficemojo.com/movies/?id=24thday.htm', u'http://boxofficemojo.com/movies/?id=24thtourneeofanimation.htm', u'http://boxofficemojo.com/movies/?id=25thhour.htm', u'http://boxofficemojo.com/movies/?id=27dresses.htm', u'http://boxofficemojo.com/movies/?id=28days.htm', u'http://boxofficemojo.com/movies/?id=28dayslater.htm', u'http://boxofficemojo.com/movies/?id=28hotelrooms.htm', u'http://boxofficemojo.com/movies/?id=28weekslater.htm', u'http://boxofficemojo.com/movies/?id=29thstreet.htm', u'http://boxofficemojo.com/movies/?id=2by4.htm', u'http://boxofficemojo.com/movies/?id=2ndanimationcelebration.htm', u'http://boxofficemojo.com/movies/?id=3.htm', u'http://boxofficemojo.com/movies/?id=3backyards.htm', u'http://boxofficemojo.com/movies/?id=threedaystokill.htm', u'http://boxofficemojo.com/movies/?id=3geezers.htm', u'http://boxofficemojo.com/movies/?id=3godfathers.htm', u'http://boxofficemojo.com/movies/?id=3idiots.htm', u'http://boxofficemojo.com/movies/?id=3needles.htm', u'http://boxofficemojo.com/movies/?id=3ninjas.htm', u'http://boxofficemojo.com/movies/?id=3ninjaskickback.htm', u'http://boxofficemojo.com/movies/?id=3ninjasknuckleup.htm', u'http://boxofficemojo.com/movies/?id=3ninjas4.htm', u'http://boxofficemojo.com/movies/?id=3roomsofmelancholia.htm', u'http://boxofficemojo.com/movies/?id=3strikes.htm', u'http://boxofficemojo.com/movies/?id=321frankie.htm', u'http://boxofficemojo.com/movies/?id=3iron.htm', u'http://boxofficemojo.com/movies/?id=30beats.htm', u'http://boxofficemojo.com/movies/?id=30daysofnight.htm', u'http://boxofficemojo.com/movies/?id=30minutesorless.htm', u'http://boxofficemojo.com/movies/?id=30yearstolife.htm', u'http://boxofficemojo.com/movies/?id=300.htm', u'http://boxofficemojo.com/movies/?id=300spartans.htm', u'http://boxofficemojo.com/movies/?id=3000milestograceland.htm', u'http://boxofficemojo.com/movies/?id=300sequel.htm', u'http://boxofficemojo.com/movies/?id=35andticking.htm', u'http://boxofficemojo.com/movies/?id=35shotsofrum.htm', u'http://boxofficemojo.com/movies/?id=35up.htm', u'http://boxofficemojo.com/movies/?id=36hours.htm', u'http://boxofficemojo.com/movies/?id=36saints.htm', u'http://boxofficemojo.com/movies/?id=360.htm', u'http://boxofficemojo.com/movies/?id=39poundsoflove.htm', u'http://boxofficemojo.com/movies/?id=39steps.htm', u'http://boxofficemojo.com/movies/?id=3:10toyuma57.htm', u'http://boxofficemojo.com/movies/?id=310toyuma.htm', u'http://boxofficemojo.com/movies/?id=3rdanimationcelebration.htm', u'http://boxofficemojo.com/movies/?id=4.htm', u'http://boxofficemojo.com/movies/?id=4littlegirls.htm', u'http://boxofficemojo.com/movies/?id=4months3weeks2days.htm', u'http://boxofficemojo.com/movies/?id=40daysand40nights.htm', u'http://boxofficemojo.com/movies/?id=40yearoldvirgin.htm', u'http://boxofficemojo.com/movies/?id=400blows.htm', u'http://boxofficemojo.com/movies/?id=42.htm', u'http://boxofficemojo.com/movies/?id=42up.htm', u'http://boxofficemojo.com/movies/?id=42ndstreet.htm', u'http://boxofficemojo.com/movies/?id=44inchchest.htm', u'http://boxofficemojo.com/movies/?id=45365.htm', u'http://boxofficemojo.com/movies/?id=47ronin.htm', u'http://boxofficemojo.com/movies/?id=48hrs.htm', u'http://boxofficemojo.com/movies/?id=49up.htm', u'http://boxofficemojo.com/movies/?id=49thparallel.htm', u'http://boxofficemojo.com/movies/?id=444lastdayonearth.htm', u'http://boxofficemojo.com/movies/?id=4thanimationcelebration.htm', u'http://boxofficemojo.com/movies/?id=4thtenor.htm', u'http://boxofficemojo.com/movies/?id=fivebrokencameras.htm', u'http://boxofficemojo.com/movies/?id=5daysofwar.htm', u'http://boxofficemojo.com/movies/?id=50firstdates.htm', u'http://boxofficemojo.com/movies/?id=50to1.htm', u'http://boxofficemojo.com/movies/?id=50waysofsayingfabulous.htm', u'http://boxofficemojo.com/movies/?id=50fifty.htm', u'http://boxofficemojo.com/movies/?id=51birchstreet.htm', u'http://boxofficemojo.com/movies/?id=52pickup.htm', u'http://boxofficemojo.com/movies/?id=54.htm', u'http://boxofficemojo.com/movies/?id=56up.htm', u'http://boxofficemojo.com/movies/?id=5thquarter.htm', u'http://boxofficemojo.com/movies/?id=5x2.htm', u'http://boxofficemojo.com/movies/?id=6monthrule.htm', u'http://boxofficemojo.com/movies/?id=shelter2011.htm', u'http://boxofficemojo.com/movies/?id=6thday.htm', u'http://boxofficemojo.com/movies/?id=6thman.htm', u'http://boxofficemojo.com/movies/?id=7boxes.htm', u'http://boxofficemojo.com/movies/?id=7dias.htm', u'http://boxofficemojo.com/movies/?id=7khoonmaaf.htm', u'http://boxofficemojo.com/movies/?id=71intothefire.htm', u'http://boxofficemojo.com/movies/?id=7500.htm', u'http://boxofficemojo.com/movies/?id=7thstreet.htm', u'http://boxofficemojo.com/movies/?id=81299.htm', u'http://boxofficemojo.com/movies/?id=812women.htm', u'http://boxofficemojo.com/movies/?id=8headsinaduffelbag.htm', u'http://boxofficemojo.com/movies/?id=8mile.htm', u'http://boxofficemojo.com/movies/?id=8millionwaystodie.htm', u'http://boxofficemojo.com/movies/?id=8seconds.htm', u'http://boxofficemojo.com/movies/?id=8women.htm', u'http://boxofficemojo.com/movies/?id=800bullets.htm', u'http://boxofficemojo.com/movies/?id=84charingcrossroad.htm', u'http://boxofficemojo.com/movies/?id=88minutes.htm', u'http://boxofficemojo.com/movies/?id=8mormonproposition.htm', u'http://boxofficemojo.com/movies/?id=8mm.htm', u'http://boxofficemojo.com/movies/?id=9.htm', u'http://boxofficemojo.com/movies/?id=9andonehalfweeks.htm', u'http://boxofficemojo.com/movies/?id=9songs.htm', u'http://boxofficemojo.com/movies/?id=9to5.htm', u'http://boxofficemojo.com/movies/?id=95milestogo.htm', u'http://boxofficemojo.com/movies/?id=976-evil.htm', u'http://boxofficemojo.com/movies/?id=99percent.htm', u'http://boxofficemojo.com/movies/?id=rec2.htm']\n"
       ]
      }
     ],
     "prompt_number": 16
    },
    {
     "cell_type": "code",
     "collapsed": false,
     "input": [],
     "language": "python",
     "metadata": {},
     "outputs": [],
     "prompt_number": 69
    },
    {
     "cell_type": "code",
     "collapsed": false,
     "input": [
      "movie_list, problem_movie_list = ms.get_movie_dicts_from_URL_list_page(testurl)"
     ],
     "language": "python",
     "metadata": {},
     "outputs": [
      {
       "output_type": "stream",
       "stream": "stdout",
       "text": [
        "http://boxofficemojo.com/movies/?id=marvel2014a.htm\n",
        "http://boxofficemojo.com/movies/?id=9dot99.htm"
       ]
      },
      {
       "output_type": "stream",
       "stream": "stdout",
       "text": [
        "\n",
        "http://boxofficemojo.com/movies/?id=supercapitalist.htm"
       ]
      },
      {
       "output_type": "stream",
       "stream": "stdout",
       "text": [
        "\n",
        "http://boxofficemojo.com/movies/?id=500daysofsummer.htm"
       ]
      },
      {
       "output_type": "stream",
       "stream": "stdout",
       "text": [
        "\n",
        "http://boxofficemojo.com/movies/?id=untitled.htm"
       ]
      },
      {
       "output_type": "stream",
       "stream": "stdout",
       "text": [
        "\n",
        "http://boxofficemojo.com/movies/?id=andjusticeforall.htm"
       ]
      },
      {
       "output_type": "stream",
       "stream": "stdout",
       "text": [
        "\n",
        "http://boxofficemojo.com/movies/?id=1mileabove.htm"
       ]
      },
      {
       "output_type": "stream",
       "stream": "stdout",
       "text": [
        "\n",
        "http://boxofficemojo.com/movies/?id=1plus1.htm"
       ]
      },
      {
       "output_type": "stream",
       "stream": "stdout",
       "text": [
        "\n",
        "http://boxofficemojo.com/movies/?id=10.htm"
       ]
      },
      {
       "output_type": "stream",
       "stream": "stdout",
       "text": [
        "\n",
        "http://boxofficemojo.com/movies/?id=10itemsorless.htm"
       ]
      },
      {
       "output_type": "stream",
       "stream": "stdout",
       "text": [
        "\n",
        "http://boxofficemojo.com/movies/?id=10questionsforthedalailama.htm"
       ]
      },
      {
       "output_type": "stream",
       "stream": "stdout",
       "text": [
        "\n",
        "http://boxofficemojo.com/movies/?id=10rules.htm"
       ]
      },
      {
       "output_type": "stream",
       "stream": "stdout",
       "text": [
        "\n",
        "http://boxofficemojo.com/movies/?id=10thingsihateaboutyou.htm"
       ]
      },
      {
       "output_type": "stream",
       "stream": "stdout",
       "text": [
        "\n",
        "http://boxofficemojo.com/movies/?id=10tomidnight.htm"
       ]
      },
      {
       "output_type": "stream",
       "stream": "stdout",
       "text": [
        "\n",
        "http://boxofficemojo.com/movies/?id=10years.htm"
       ]
      },
      {
       "output_type": "stream",
       "stream": "stdout",
       "text": [
        "\n",
        "http://boxofficemojo.com/movies/?id=10000bc.htm"
       ]
      },
      {
       "output_type": "stream",
       "stream": "stdout",
       "text": [
        "\n",
        "http://boxofficemojo.com/movies/?id=100bloodyacres.htm"
       ]
      },
      {
       "output_type": "stream",
       "stream": "stdout",
       "text": [
        "\n",
        "http://boxofficemojo.com/movies/?id=101dalmations.htm"
       ]
      },
      {
       "output_type": "stream",
       "stream": "stdout",
       "text": [
        "\n",
        "http://boxofficemojo.com/movies/?id=101dalmatiansliveaction.htm"
       ]
      },
      {
       "output_type": "stream",
       "stream": "stdout",
       "text": [
        "\n",
        "http://boxofficemojo.com/movies/?id=101dalmatians69.htm"
       ]
      },
      {
       "output_type": "stream",
       "stream": "stdout",
       "text": [
        "\n",
        "http://boxofficemojo.com/movies/?id=101dalmatians79.htm"
       ]
      },
      {
       "output_type": "stream",
       "stream": "stdout",
       "text": [
        "\n",
        "http://boxofficemojo.com/movies/?id=101dalmatians85.htm"
       ]
      },
      {
       "output_type": "stream",
       "stream": "stdout",
       "text": [
        "\n",
        "http://boxofficemojo.com/movies/?id=101dalmatians91.htm"
       ]
      },
      {
       "output_type": "stream",
       "stream": "stdout",
       "text": [
        "\n",
        "http://boxofficemojo.com/movies/?id=101reykjavik.htm"
       ]
      },
      {
       "output_type": "stream",
       "stream": "stdout",
       "text": [
        "\n",
        "http://boxofficemojo.com/movies/?id=102dalmatians.htm"
       ]
      },
      {
       "output_type": "stream",
       "stream": "stdout",
       "text": [
        "\n",
        "http://boxofficemojo.com/movies/?id=10thandwolf.htm"
       ]
      },
      {
       "output_type": "stream",
       "stream": "stdout",
       "text": [
        "\n",
        "http://boxofficemojo.com/movies/?id=11flowers.htm"
       ]
      },
      {
       "output_type": "stream",
       "stream": "stdout",
       "text": [
        "\n",
        "http://boxofficemojo.com/movies/?id=111111.htm"
       ]
      },
      {
       "output_type": "stream",
       "stream": "stdout",
       "text": [
        "\n",
        "http://boxofficemojo.com/movies/?id=11thhour.htm"
       ]
      },
      {
       "output_type": "stream",
       "stream": "stdout",
       "text": [
        "\n",
        "http://boxofficemojo.com/movies/?id=12.htm"
       ]
      },
      {
       "output_type": "stream",
       "stream": "stdout",
       "text": [
        "\n",
        "http://boxofficemojo.com/movies/?id=12angrymen.htm"
       ]
      },
      {
       "output_type": "stream",
       "stream": "stdout",
       "text": [
        "\n",
        "http://boxofficemojo.com/movies/?id=twelvemonkeys.htm"
       ]
      },
      {
       "output_type": "stream",
       "stream": "stdout",
       "text": [
        "\n",
        "http://boxofficemojo.com/movies/?id=12oclockboys.htm"
       ]
      },
      {
       "output_type": "stream",
       "stream": "stdout",
       "text": [
        "\n",
        "http://boxofficemojo.com/movies/?id=12rounds.htm"
       ]
      },
      {
       "output_type": "stream",
       "stream": "stdout",
       "text": [
        "\n",
        "http://boxofficemojo.com/movies/?id=twelveyearsaslave.htm"
       ]
      },
      {
       "output_type": "stream",
       "stream": "stdout",
       "text": [
        "\n",
        "http://boxofficemojo.com/movies/?id=121212.htm"
       ]
      },
      {
       "output_type": "stream",
       "stream": "stdout",
       "text": [
        "\n",
        "http://boxofficemojo.com/movies/?id=127hours.htm"
       ]
      },
      {
       "output_type": "stream",
       "stream": "stdout",
       "text": [
        "\n",
        "http://boxofficemojo.com/movies/?id=1208eastofbucharest.htm"
       ]
      },
      {
       "output_type": "stream",
       "stream": "stdout",
       "text": [
        "\n",
        "http://boxofficemojo.com/movies/?id=13assassins.htm"
       ]
      },
      {
       "output_type": "stream",
       "stream": "stdout",
       "text": [
        "\n",
        "http://boxofficemojo.com/movies/?id=13conversationsaboutonething.htm"
       ]
      },
      {
       "output_type": "stream",
       "stream": "stdout",
       "text": [
        "\n",
        "http://boxofficemojo.com/movies/?id=13goingon30.htm"
       ]
      },
      {
       "output_type": "stream",
       "stream": "stdout",
       "text": [
        "\n",
        "http://boxofficemojo.com/movies/?id=13monthsofsunshine.htm"
       ]
      },
      {
       "output_type": "stream",
       "stream": "stdout",
       "text": [
        "\n",
        "http://boxofficemojo.com/movies/?id=13sins.htm"
       ]
      },
      {
       "output_type": "stream",
       "stream": "stdout",
       "text": [
        "\n",
        "http://boxofficemojo.com/movies/?id=13tzameti.htm"
       ]
      },
      {
       "output_type": "stream",
       "stream": "stdout",
       "text": [
        "\n",
        "http://boxofficemojo.com/movies/?id=13b.htm"
       ]
      },
      {
       "output_type": "stream",
       "stream": "stdout",
       "text": [
        "\n",
        "http://boxofficemojo.com/movies/?id=13thalley.htm"
       ]
      },
      {
       "output_type": "stream",
       "stream": "stdout",
       "text": [
        "\n",
        "http://boxofficemojo.com/movies/?id=13thwarrior.htm"
       ]
      },
      {
       "output_type": "stream",
       "stream": "stdout",
       "text": [
        "\n",
        "http://boxofficemojo.com/movies/?id=14blades.htm"
       ]
      },
      {
       "output_type": "stream",
       "stream": "stdout",
       "text": [
        "\n",
        "http://boxofficemojo.com/movies/?id=1408.htm"
       ]
      },
      {
       "output_type": "stream",
       "stream": "stdout",
       "text": [
        "\n",
        "http://boxofficemojo.com/movies/?id=1492.htm"
       ]
      },
      {
       "output_type": "stream",
       "stream": "stdout",
       "text": [
        "\n",
        "http://boxofficemojo.com/movies/?id=15.htm"
       ]
      },
      {
       "output_type": "stream",
       "stream": "stdout",
       "text": [
        "\n",
        "http://boxofficemojo.com/movies/?id=15fevrier1839.htm"
       ]
      },
      {
       "output_type": "stream",
       "stream": "stdout",
       "text": [
        "\n",
        "http://boxofficemojo.com/movies/?id=15minutes.htm"
       ]
      },
      {
       "output_type": "stream",
       "stream": "stdout",
       "text": [
        "\n",
        "http://boxofficemojo.com/movies/?id=16blocks.htm"
       ]
      },
      {
       "output_type": "stream",
       "stream": "stdout",
       "text": [
        "\n",
        "http://boxofficemojo.com/movies/?id=16daysofglory.htm"
       ]
      },
      {
       "output_type": "stream",
       "stream": "stdout",
       "text": [
        "\n",
        "http://boxofficemojo.com/movies/?id=16yearsofalcohol.htm"
       ]
      },
      {
       "output_type": "stream",
       "stream": "stdout",
       "text": [
        "\n",
        "http://boxofficemojo.com/movies/?id=17again.htm"
       ]
      },
      {
       "output_type": "stream",
       "stream": "stdout",
       "text": [
        "\n",
        "http://boxofficemojo.com/movies/?id=17girls.htm"
       ]
      },
      {
       "output_type": "stream",
       "stream": "stdout",
       "text": [
        "\n",
        "http://boxofficemojo.com/movies/?id=18again.htm"
       ]
      },
      {
       "output_type": "stream",
       "stream": "stdout",
       "text": [
        "\n",
        "http://boxofficemojo.com/movies/?id=18ansapres.htm"
       ]
      },
      {
       "output_type": "stream",
       "stream": "stdout",
       "text": [
        "\n",
        "http://boxofficemojo.com/movies/?id=180south.htm"
       ]
      },
      {
       "output_type": "stream",
       "stream": "stdout",
       "text": [
        "\n",
        "http://boxofficemojo.com/movies/?id=187.htm"
       ]
      },
      {
       "output_type": "stream",
       "stream": "stdout",
       "text": [
        "\n",
        "http://boxofficemojo.com/movies/?id=1900.htm"
       ]
      },
      {
       "output_type": "stream",
       "stream": "stdout",
       "text": [
        "\n",
        "http://boxofficemojo.com/movies/?id=1911.htm"
       ]
      },
      {
       "output_type": "stream",
       "stream": "stdout",
       "text": [
        "\n",
        "http://boxofficemojo.com/movies/?id=1941.htm"
       ]
      },
      {
       "output_type": "stream",
       "stream": "stdout",
       "text": [
        "\n",
        "http://boxofficemojo.com/movies/?id=1969.htm"
       ]
      },
      {
       "output_type": "stream",
       "stream": "stdout",
       "text": [
        "\n",
        "http://boxofficemojo.com/movies/?id=1984.htm"
       ]
      },
      {
       "output_type": "stream",
       "stream": "stdout",
       "text": [
        "\n",
        "http://boxofficemojo.com/movies/?id=1995bugsbunnyfilmfestival.htm"
       ]
      },
      {
       "output_type": "stream",
       "stream": "stdout",
       "text": [
        "\n",
        "http://boxofficemojo.com/movies/?id=1998bugsbunnyfilmfestival.htm"
       ]
      },
      {
       "output_type": "stream",
       "stream": "stdout",
       "text": [
        "\n",
        "http://boxofficemojo.com/movies/?id=2autumns.htm"
       ]
      },
      {
       "output_type": "stream",
       "stream": "stdout",
       "text": [
        "\n",
        "http://boxofficemojo.com/movies/?id=2daysinnewyork.htm"
       ]
      },
      {
       "output_type": "stream",
       "stream": "stdout",
       "text": [
        "\n",
        "http://boxofficemojo.com/movies/?id=2daysinparis.htm"
       ]
      },
      {
       "output_type": "stream",
       "stream": "stdout",
       "text": [
        "\n",
        "http://boxofficemojo.com/movies/?id=2daysinthevalley.htm"
       ]
      },
      {
       "output_type": "stream",
       "stream": "stdout",
       "text": [
        "\n",
        "http://boxofficemojo.com/movies/?id=2fast2furious.htm"
       ]
      },
      {
       "output_type": "stream",
       "stream": "stdout",
       "text": [
        "\n",
        "http://boxofficemojo.com/movies/?id=2guns.htm"
       ]
      },
      {
       "output_type": "stream",
       "stream": "stdout",
       "text": [
        "\n",
        "http://boxofficemojo.com/movies/?id=2jacks.htm"
       ]
      },
      {
       "output_type": "stream",
       "stream": "stdout",
       "text": [
        "\n",
        "http://boxofficemojo.com/movies/?id=2states.htm"
       ]
      },
      {
       "output_type": "stream",
       "stream": "stdout",
       "text": [
        "\n",
        "http://boxofficemojo.com/movies/?id=20centimeters.htm"
       ]
      },
      {
       "output_type": "stream",
       "stream": "stdout",
       "text": [
        "\n",
        "http://boxofficemojo.com/movies/?id=20dates.htm"
       ]
      },
      {
       "output_type": "stream",
       "stream": "stdout",
       "text": [
        "\n",
        "http://boxofficemojo.com/movies/?id=20feetfromstardom.htm"
       ]
      },
      {
       "output_type": "stream",
       "stream": "stdout",
       "text": [
        "\n",
        "http://boxofficemojo.com/movies/?id=20millionmilestoearth.htm"
       ]
      },
      {
       "output_type": "stream",
       "stream": "stdout",
       "text": [
        "\n",
        "http://boxofficemojo.com/movies/?id=20000daysonearth.htm"
       ]
      },
      {
       "output_type": "stream",
       "stream": "stdout",
       "text": [
        "\n",
        "http://boxofficemojo.com/movies/?id=200cartas.htm"
       ]
      },
      {
       "output_type": "stream",
       "stream": "stdout",
       "text": [
        "\n",
        "http://boxofficemojo.com/movies/?id=200cigarettes.htm"
       ]
      },
      {
       "output_type": "stream",
       "stream": "stdout",
       "text": [
        "\n",
        "http://boxofficemojo.com/movies/?id=2001.htm"
       ]
      },
      {
       "output_type": "stream",
       "stream": "stdout",
       "text": [
        "\n",
        "http://boxofficemojo.com/movies/?id=20012013.htm"
       ]
      },
      {
       "output_type": "stream",
       "stream": "stdout",
       "text": [
        "\n",
        "http://boxofficemojo.com/movies/?id=200101.htm"
       ]
      },
      {
       "output_type": "stream",
       "stream": "stdout",
       "text": [
        "\n",
        "http://boxofficemojo.com/movies/?id=shorts06.htm"
       ]
      },
      {
       "output_type": "stream",
       "stream": "stdout",
       "text": [
        "\n",
        "http://boxofficemojo.com/movies/?id=2006shortfilms.htm"
       ]
      },
      {
       "output_type": "stream",
       "stream": "stdout",
       "text": [
        "\n",
        "http://boxofficemojo.com/movies/?id=2007shortfilms.htm"
       ]
      },
      {
       "output_type": "stream",
       "stream": "stdout",
       "text": [
        "\n",
        "http://boxofficemojo.com/movies/?id=2007shortfilms.htm"
       ]
      },
      {
       "output_type": "stream",
       "stream": "stdout",
       "text": [
        "\n",
        "http://boxofficemojo.com/movies/?id=2008oscarshorts.htm"
       ]
      },
      {
       "output_type": "stream",
       "stream": "stdout",
       "text": [
        "\n",
        "http://boxofficemojo.com/movies/?id=2010.htm"
       ]
      },
      {
       "output_type": "stream",
       "stream": "stdout",
       "text": [
        "\n",
        "http://boxofficemojo.com/movies/?id=2010oscarshorts.htm"
       ]
      },
      {
       "output_type": "stream",
       "stream": "stdout",
       "text": [
        "\n",
        "http://boxofficemojo.com/movies/?id=2011oscarshorts.htm"
       ]
      },
      {
       "output_type": "stream",
       "stream": "stdout",
       "text": [
        "\n",
        "http://boxofficemojo.com/movies/?id=2012.htm"
       ]
      },
      {
       "output_type": "stream",
       "stream": "stdout",
       "text": [
        "\n",
        "http://boxofficemojo.com/movies/?id=2012oscarshorts.htm"
       ]
      },
      {
       "output_type": "stream",
       "stream": "stdout",
       "text": [
        "\n",
        "http://boxofficemojo.com/movies/?id=2012timeforchange.htm"
       ]
      },
      {
       "output_type": "stream",
       "stream": "stdout",
       "text": [
        "\n",
        "http://boxofficemojo.com/movies/?id=2013oscar.htm"
       ]
      },
      {
       "output_type": "stream",
       "stream": "stdout",
       "text": [
        "\n",
        "http://boxofficemojo.com/movies/?id=2014oscar.htm"
       ]
      },
      {
       "output_type": "stream",
       "stream": "stdout",
       "text": [
        "\n",
        "http://boxofficemojo.com/movies/?id=2016obamasamerica.htm"
       ]
      },
      {
       "output_type": "stream",
       "stream": "stdout",
       "text": [
        "\n",
        "http://boxofficemojo.com/movies/?id=2046.htm"
       ]
      },
      {
       "output_type": "stream",
       "stream": "stdout",
       "text": [
        "\n",
        "http://boxofficemojo.com/movies/?id=21.htm"
       ]
      },
      {
       "output_type": "stream",
       "stream": "stdout",
       "text": [
        "\n",
        "http://boxofficemojo.com/movies/?id=21andover.htm"
       ]
      },
      {
       "output_type": "stream",
       "stream": "stdout",
       "text": [
        "\n",
        "http://boxofficemojo.com/movies/?id=21grams.htm"
       ]
      },
      {
       "output_type": "stream",
       "stream": "stdout",
       "text": [
        "\n",
        "http://boxofficemojo.com/movies/?id=21jumpstreet.htm"
       ]
      },
      {
       "output_type": "stream",
       "stream": "stdout",
       "text": [
        "\n",
        "http://boxofficemojo.com/movies/?id=22bullets.htm"
       ]
      },
      {
       "output_type": "stream",
       "stream": "stdout",
       "text": [
        "\n",
        "http://boxofficemojo.com/movies/?id=21jumpstreet2.htm"
       ]
      },
      {
       "output_type": "stream",
       "stream": "stdout",
       "text": [
        "\n",
        "http://boxofficemojo.com/movies/?id=22ndtourneeofanimation.htm"
       ]
      },
      {
       "output_type": "stream",
       "stream": "stdout",
       "text": [
        "\n",
        "http://boxofficemojo.com/movies/?id=23rdtourneeofanimation.htm"
       ]
      },
      {
       "output_type": "stream",
       "stream": "stdout",
       "text": [
        "\n",
        "http://boxofficemojo.com/movies/?id=24city.htm"
       ]
      },
      {
       "output_type": "stream",
       "stream": "stdout",
       "text": [
        "\n",
        "http://boxofficemojo.com/movies/?id=24hourparty.htm"
       ]
      },
      {
       "output_type": "stream",
       "stream": "stdout",
       "text": [
        "\n",
        "http://boxofficemojo.com/movies/?id=24-hourwoman.htm"
       ]
      },
      {
       "output_type": "stream",
       "stream": "stdout",
       "text": [
        "\n",
        "http://boxofficemojo.com/movies/?id=24thday.htm"
       ]
      },
      {
       "output_type": "stream",
       "stream": "stdout",
       "text": [
        "\n",
        "http://boxofficemojo.com/movies/?id=24thtourneeofanimation.htm"
       ]
      },
      {
       "output_type": "stream",
       "stream": "stdout",
       "text": [
        "\n",
        "http://boxofficemojo.com/movies/?id=25thhour.htm"
       ]
      },
      {
       "output_type": "stream",
       "stream": "stdout",
       "text": [
        "\n",
        "http://boxofficemojo.com/movies/?id=27dresses.htm"
       ]
      },
      {
       "output_type": "stream",
       "stream": "stdout",
       "text": [
        "\n",
        "http://boxofficemojo.com/movies/?id=28days.htm"
       ]
      },
      {
       "output_type": "stream",
       "stream": "stdout",
       "text": [
        "\n",
        "http://boxofficemojo.com/movies/?id=28dayslater.htm"
       ]
      },
      {
       "output_type": "stream",
       "stream": "stdout",
       "text": [
        "\n",
        "http://boxofficemojo.com/movies/?id=28hotelrooms.htm"
       ]
      },
      {
       "output_type": "stream",
       "stream": "stdout",
       "text": [
        "\n",
        "http://boxofficemojo.com/movies/?id=28weekslater.htm"
       ]
      },
      {
       "output_type": "stream",
       "stream": "stdout",
       "text": [
        "\n",
        "http://boxofficemojo.com/movies/?id=29thstreet.htm"
       ]
      },
      {
       "output_type": "stream",
       "stream": "stdout",
       "text": [
        "\n",
        "http://boxofficemojo.com/movies/?id=2by4.htm"
       ]
      },
      {
       "output_type": "stream",
       "stream": "stdout",
       "text": [
        "\n",
        "http://boxofficemojo.com/movies/?id=2ndanimationcelebration.htm"
       ]
      },
      {
       "output_type": "stream",
       "stream": "stdout",
       "text": [
        "\n",
        "http://boxofficemojo.com/movies/?id=3.htm"
       ]
      },
      {
       "output_type": "stream",
       "stream": "stdout",
       "text": [
        "\n",
        "http://boxofficemojo.com/movies/?id=3backyards.htm"
       ]
      },
      {
       "output_type": "stream",
       "stream": "stdout",
       "text": [
        "\n",
        "http://boxofficemojo.com/movies/?id=threedaystokill.htm"
       ]
      },
      {
       "output_type": "stream",
       "stream": "stdout",
       "text": [
        "\n",
        "http://boxofficemojo.com/movies/?id=3geezers.htm"
       ]
      },
      {
       "output_type": "stream",
       "stream": "stdout",
       "text": [
        "\n",
        "http://boxofficemojo.com/movies/?id=3godfathers.htm"
       ]
      },
      {
       "output_type": "stream",
       "stream": "stdout",
       "text": [
        "\n",
        "http://boxofficemojo.com/movies/?id=3idiots.htm"
       ]
      },
      {
       "output_type": "stream",
       "stream": "stdout",
       "text": [
        "\n",
        "http://boxofficemojo.com/movies/?id=3needles.htm"
       ]
      },
      {
       "output_type": "stream",
       "stream": "stdout",
       "text": [
        "\n",
        "http://boxofficemojo.com/movies/?id=3ninjas.htm"
       ]
      },
      {
       "output_type": "stream",
       "stream": "stdout",
       "text": [
        "\n",
        "http://boxofficemojo.com/movies/?id=3ninjaskickback.htm"
       ]
      },
      {
       "output_type": "stream",
       "stream": "stdout",
       "text": [
        "\n",
        "http://boxofficemojo.com/movies/?id=3ninjasknuckleup.htm"
       ]
      },
      {
       "output_type": "stream",
       "stream": "stdout",
       "text": [
        "\n",
        "http://boxofficemojo.com/movies/?id=3ninjas4.htm"
       ]
      },
      {
       "output_type": "stream",
       "stream": "stdout",
       "text": [
        "\n",
        "http://boxofficemojo.com/movies/?id=3roomsofmelancholia.htm"
       ]
      },
      {
       "output_type": "stream",
       "stream": "stdout",
       "text": [
        "\n",
        "http://boxofficemojo.com/movies/?id=3strikes.htm"
       ]
      },
      {
       "output_type": "stream",
       "stream": "stdout",
       "text": [
        "\n",
        "http://boxofficemojo.com/movies/?id=321frankie.htm"
       ]
      },
      {
       "output_type": "stream",
       "stream": "stdout",
       "text": [
        "\n",
        "http://boxofficemojo.com/movies/?id=3iron.htm"
       ]
      },
      {
       "output_type": "stream",
       "stream": "stdout",
       "text": [
        "\n",
        "http://boxofficemojo.com/movies/?id=30beats.htm"
       ]
      },
      {
       "output_type": "stream",
       "stream": "stdout",
       "text": [
        "\n",
        "http://boxofficemojo.com/movies/?id=30daysofnight.htm"
       ]
      },
      {
       "output_type": "stream",
       "stream": "stdout",
       "text": [
        "\n",
        "http://boxofficemojo.com/movies/?id=30minutesorless.htm"
       ]
      },
      {
       "output_type": "stream",
       "stream": "stdout",
       "text": [
        "\n",
        "http://boxofficemojo.com/movies/?id=30yearstolife.htm"
       ]
      },
      {
       "output_type": "stream",
       "stream": "stdout",
       "text": [
        "\n",
        "http://boxofficemojo.com/movies/?id=300.htm"
       ]
      },
      {
       "output_type": "stream",
       "stream": "stdout",
       "text": [
        "\n",
        "http://boxofficemojo.com/movies/?id=300spartans.htm"
       ]
      },
      {
       "output_type": "stream",
       "stream": "stdout",
       "text": [
        "\n",
        "http://boxofficemojo.com/movies/?id=3000milestograceland.htm"
       ]
      },
      {
       "output_type": "stream",
       "stream": "stdout",
       "text": [
        "\n",
        "http://boxofficemojo.com/movies/?id=300sequel.htm"
       ]
      },
      {
       "output_type": "stream",
       "stream": "stdout",
       "text": [
        "\n",
        "http://boxofficemojo.com/movies/?id=35andticking.htm"
       ]
      },
      {
       "output_type": "stream",
       "stream": "stdout",
       "text": [
        "\n",
        "http://boxofficemojo.com/movies/?id=35shotsofrum.htm"
       ]
      },
      {
       "output_type": "stream",
       "stream": "stdout",
       "text": [
        "\n",
        "http://boxofficemojo.com/movies/?id=35up.htm"
       ]
      },
      {
       "output_type": "stream",
       "stream": "stdout",
       "text": [
        "\n",
        "http://boxofficemojo.com/movies/?id=36hours.htm"
       ]
      },
      {
       "output_type": "stream",
       "stream": "stdout",
       "text": [
        "\n",
        "http://boxofficemojo.com/movies/?id=36saints.htm"
       ]
      },
      {
       "output_type": "stream",
       "stream": "stdout",
       "text": [
        "\n",
        "http://boxofficemojo.com/movies/?id=360.htm"
       ]
      },
      {
       "output_type": "stream",
       "stream": "stdout",
       "text": [
        "\n",
        "http://boxofficemojo.com/movies/?id=39poundsoflove.htm"
       ]
      },
      {
       "output_type": "stream",
       "stream": "stdout",
       "text": [
        "\n",
        "http://boxofficemojo.com/movies/?id=39steps.htm"
       ]
      },
      {
       "output_type": "stream",
       "stream": "stdout",
       "text": [
        "\n",
        "http://boxofficemojo.com/movies/?id=3:10toyuma57.htm"
       ]
      },
      {
       "output_type": "stream",
       "stream": "stdout",
       "text": [
        "\n",
        "http://boxofficemojo.com/movies/?id=310toyuma.htm"
       ]
      },
      {
       "output_type": "stream",
       "stream": "stdout",
       "text": [
        "\n",
        "http://boxofficemojo.com/movies/?id=3rdanimationcelebration.htm"
       ]
      },
      {
       "output_type": "stream",
       "stream": "stdout",
       "text": [
        "\n",
        "http://boxofficemojo.com/movies/?id=4.htm"
       ]
      },
      {
       "output_type": "stream",
       "stream": "stdout",
       "text": [
        "\n",
        "http://boxofficemojo.com/movies/?id=4littlegirls.htm"
       ]
      },
      {
       "output_type": "stream",
       "stream": "stdout",
       "text": [
        "\n",
        "http://boxofficemojo.com/movies/?id=4months3weeks2days.htm"
       ]
      },
      {
       "output_type": "stream",
       "stream": "stdout",
       "text": [
        "\n",
        "http://boxofficemojo.com/movies/?id=40daysand40nights.htm"
       ]
      },
      {
       "output_type": "stream",
       "stream": "stdout",
       "text": [
        "\n",
        "http://boxofficemojo.com/movies/?id=40yearoldvirgin.htm"
       ]
      },
      {
       "output_type": "stream",
       "stream": "stdout",
       "text": [
        "\n",
        "http://boxofficemojo.com/movies/?id=400blows.htm"
       ]
      },
      {
       "output_type": "stream",
       "stream": "stdout",
       "text": [
        "\n",
        "http://boxofficemojo.com/movies/?id=42.htm"
       ]
      },
      {
       "output_type": "stream",
       "stream": "stdout",
       "text": [
        "\n",
        "http://boxofficemojo.com/movies/?id=42up.htm"
       ]
      },
      {
       "output_type": "stream",
       "stream": "stdout",
       "text": [
        "\n",
        "http://boxofficemojo.com/movies/?id=42ndstreet.htm"
       ]
      },
      {
       "output_type": "stream",
       "stream": "stdout",
       "text": [
        "\n",
        "http://boxofficemojo.com/movies/?id=44inchchest.htm"
       ]
      },
      {
       "output_type": "stream",
       "stream": "stdout",
       "text": [
        "\n",
        "http://boxofficemojo.com/movies/?id=45365.htm"
       ]
      },
      {
       "output_type": "stream",
       "stream": "stdout",
       "text": [
        "\n",
        "http://boxofficemojo.com/movies/?id=47ronin.htm"
       ]
      },
      {
       "output_type": "stream",
       "stream": "stdout",
       "text": [
        "\n",
        "http://boxofficemojo.com/movies/?id=48hrs.htm"
       ]
      },
      {
       "output_type": "stream",
       "stream": "stdout",
       "text": [
        "\n",
        "http://boxofficemojo.com/movies/?id=49up.htm"
       ]
      },
      {
       "output_type": "stream",
       "stream": "stdout",
       "text": [
        "\n",
        "http://boxofficemojo.com/movies/?id=49thparallel.htm"
       ]
      },
      {
       "output_type": "stream",
       "stream": "stdout",
       "text": [
        "\n",
        "http://boxofficemojo.com/movies/?id=444lastdayonearth.htm"
       ]
      },
      {
       "output_type": "stream",
       "stream": "stdout",
       "text": [
        "\n",
        "http://boxofficemojo.com/movies/?id=4thanimationcelebration.htm"
       ]
      },
      {
       "output_type": "stream",
       "stream": "stdout",
       "text": [
        "\n",
        "http://boxofficemojo.com/movies/?id=4thtenor.htm"
       ]
      },
      {
       "output_type": "stream",
       "stream": "stdout",
       "text": [
        "\n",
        "http://boxofficemojo.com/movies/?id=fivebrokencameras.htm"
       ]
      },
      {
       "output_type": "stream",
       "stream": "stdout",
       "text": [
        "\n",
        "http://boxofficemojo.com/movies/?id=5daysofwar.htm"
       ]
      },
      {
       "output_type": "stream",
       "stream": "stdout",
       "text": [
        "\n",
        "http://boxofficemojo.com/movies/?id=50firstdates.htm"
       ]
      },
      {
       "output_type": "stream",
       "stream": "stdout",
       "text": [
        "\n",
        "http://boxofficemojo.com/movies/?id=50to1.htm"
       ]
      },
      {
       "output_type": "stream",
       "stream": "stdout",
       "text": [
        "\n",
        "http://boxofficemojo.com/movies/?id=50waysofsayingfabulous.htm"
       ]
      },
      {
       "output_type": "stream",
       "stream": "stdout",
       "text": [
        "\n",
        "http://boxofficemojo.com/movies/?id=50fifty.htm"
       ]
      },
      {
       "output_type": "stream",
       "stream": "stdout",
       "text": [
        "\n",
        "http://boxofficemojo.com/movies/?id=51birchstreet.htm"
       ]
      },
      {
       "output_type": "stream",
       "stream": "stdout",
       "text": [
        "\n",
        "http://boxofficemojo.com/movies/?id=52pickup.htm"
       ]
      },
      {
       "output_type": "stream",
       "stream": "stdout",
       "text": [
        "\n",
        "http://boxofficemojo.com/movies/?id=54.htm"
       ]
      },
      {
       "output_type": "stream",
       "stream": "stdout",
       "text": [
        "\n",
        "http://boxofficemojo.com/movies/?id=56up.htm"
       ]
      },
      {
       "output_type": "stream",
       "stream": "stdout",
       "text": [
        "\n",
        "http://boxofficemojo.com/movies/?id=5thquarter.htm"
       ]
      },
      {
       "output_type": "stream",
       "stream": "stdout",
       "text": [
        "\n",
        "http://boxofficemojo.com/movies/?id=5x2.htm"
       ]
      },
      {
       "output_type": "stream",
       "stream": "stdout",
       "text": [
        "\n",
        "http://boxofficemojo.com/movies/?id=6monthrule.htm"
       ]
      },
      {
       "output_type": "stream",
       "stream": "stdout",
       "text": [
        "\n",
        "http://boxofficemojo.com/movies/?id=shelter2011.htm"
       ]
      },
      {
       "output_type": "stream",
       "stream": "stdout",
       "text": [
        "\n",
        "http://boxofficemojo.com/movies/?id=6thday.htm"
       ]
      },
      {
       "output_type": "stream",
       "stream": "stdout",
       "text": [
        "\n",
        "http://boxofficemojo.com/movies/?id=6thman.htm"
       ]
      },
      {
       "output_type": "stream",
       "stream": "stdout",
       "text": [
        "\n",
        "http://boxofficemojo.com/movies/?id=7boxes.htm"
       ]
      },
      {
       "output_type": "stream",
       "stream": "stdout",
       "text": [
        "\n",
        "http://boxofficemojo.com/movies/?id=7dias.htm"
       ]
      },
      {
       "output_type": "stream",
       "stream": "stdout",
       "text": [
        "\n",
        "http://boxofficemojo.com/movies/?id=7khoonmaaf.htm"
       ]
      },
      {
       "output_type": "stream",
       "stream": "stdout",
       "text": [
        "\n",
        "http://boxofficemojo.com/movies/?id=71intothefire.htm"
       ]
      },
      {
       "output_type": "stream",
       "stream": "stdout",
       "text": [
        "\n",
        "http://boxofficemojo.com/movies/?id=7500.htm"
       ]
      },
      {
       "output_type": "stream",
       "stream": "stdout",
       "text": [
        "\n",
        "http://boxofficemojo.com/movies/?id=7thstreet.htm"
       ]
      },
      {
       "output_type": "stream",
       "stream": "stdout",
       "text": [
        "\n",
        "http://boxofficemojo.com/movies/?id=81299.htm"
       ]
      },
      {
       "output_type": "stream",
       "stream": "stdout",
       "text": [
        "\n",
        "http://boxofficemojo.com/movies/?id=812women.htm"
       ]
      },
      {
       "output_type": "stream",
       "stream": "stdout",
       "text": [
        "\n",
        "http://boxofficemojo.com/movies/?id=8headsinaduffelbag.htm"
       ]
      },
      {
       "output_type": "stream",
       "stream": "stdout",
       "text": [
        "\n",
        "http://boxofficemojo.com/movies/?id=8mile.htm"
       ]
      },
      {
       "output_type": "stream",
       "stream": "stdout",
       "text": [
        "\n",
        "http://boxofficemojo.com/movies/?id=8millionwaystodie.htm"
       ]
      },
      {
       "output_type": "stream",
       "stream": "stdout",
       "text": [
        "\n",
        "http://boxofficemojo.com/movies/?id=8seconds.htm"
       ]
      },
      {
       "output_type": "stream",
       "stream": "stdout",
       "text": [
        "\n",
        "http://boxofficemojo.com/movies/?id=8women.htm"
       ]
      },
      {
       "output_type": "stream",
       "stream": "stdout",
       "text": [
        "\n",
        "http://boxofficemojo.com/movies/?id=800bullets.htm"
       ]
      },
      {
       "output_type": "stream",
       "stream": "stdout",
       "text": [
        "\n",
        "http://boxofficemojo.com/movies/?id=84charingcrossroad.htm"
       ]
      },
      {
       "output_type": "stream",
       "stream": "stdout",
       "text": [
        "\n",
        "http://boxofficemojo.com/movies/?id=88minutes.htm"
       ]
      },
      {
       "output_type": "stream",
       "stream": "stdout",
       "text": [
        "\n",
        "http://boxofficemojo.com/movies/?id=8mormonproposition.htm"
       ]
      },
      {
       "output_type": "stream",
       "stream": "stdout",
       "text": [
        "\n",
        "http://boxofficemojo.com/movies/?id=8mm.htm"
       ]
      },
      {
       "output_type": "stream",
       "stream": "stdout",
       "text": [
        "\n",
        "http://boxofficemojo.com/movies/?id=9.htm"
       ]
      },
      {
       "output_type": "stream",
       "stream": "stdout",
       "text": [
        "\n",
        "http://boxofficemojo.com/movies/?id=9andonehalfweeks.htm"
       ]
      },
      {
       "output_type": "stream",
       "stream": "stdout",
       "text": [
        "\n",
        "http://boxofficemojo.com/movies/?id=9songs.htm"
       ]
      },
      {
       "output_type": "stream",
       "stream": "stdout",
       "text": [
        "\n",
        "http://boxofficemojo.com/movies/?id=9to5.htm"
       ]
      },
      {
       "output_type": "stream",
       "stream": "stdout",
       "text": [
        "\n",
        "http://boxofficemojo.com/movies/?id=95milestogo.htm"
       ]
      },
      {
       "output_type": "stream",
       "stream": "stdout",
       "text": [
        "\n",
        "http://boxofficemojo.com/movies/?id=976-evil.htm"
       ]
      },
      {
       "output_type": "stream",
       "stream": "stdout",
       "text": [
        "\n",
        "http://boxofficemojo.com/movies/?id=99percent.htm"
       ]
      },
      {
       "output_type": "stream",
       "stream": "stdout",
       "text": [
        "\n",
        "http://boxofficemojo.com/movies/?id=rec2.htm"
       ]
      },
      {
       "output_type": "stream",
       "stream": "stdout",
       "text": [
        "\n"
       ]
      }
     ],
     "prompt_number": 10
    },
    {
     "cell_type": "code",
     "collapsed": false,
     "input": [
      "for num, movie in enumerate(movie_list):\n",
      "    print movie\n",
      "    if num >= 10:\n",
      "        break\n"
     ],
     "language": "python",
     "metadata": {},
     "outputs": [
      {
       "output_type": "stream",
       "stream": "stdout",
       "text": [
        "{'rating': u'PG-13', 'director': u'James Gunn', 'movie title': u'Guardians of the Galaxy', 'domestic_total_gross': 294567000, 'runtime': 121, 'release date': datetime.datetime(2014, 8, 1, 0, 0)}\n",
        "{'rating': u'PG-13', 'director': u'James Gunn', 'movie title': u'Guardians of the Galaxy', 'domestic_total_gross': 294567000, 'runtime': 121, 'release date': datetime.datetime(2014, 8, 1, 0, 0)}\n",
        "{'rating': u'PG-13', 'director': u'Anthony RussoJoe Russo', 'movie title': u'Captain America: The Winter Soldier', 'domestic_total_gross': 259766572, 'runtime': 136, 'release date': datetime.datetime(2014, 4, 4, 0, 0)}\n",
        "{'rating': u'PG', 'director': u'Phil LordChris Miller (II)', 'movie title': u'The LEGO Movie', 'domestic_total_gross': 257760692, 'runtime': 100, 'release date': datetime.datetime(2014, 2, 7, 0, 0)}\n",
        "{'rating': u'PG-13', 'director': u'Michael Bay', 'movie title': u'Transformers: Age of Extinction', 'domestic_total_gross': 244734000, 'runtime': 165, 'release date': datetime.datetime(2014, 6, 27, 0, 0)}\n",
        "{'rating': u'PG', 'director': u'Robert Stromberg', 'movie title': u'Maleficent', 'domestic_total_gross': 239233000, 'runtime': 97, 'release date': datetime.datetime(2014, 5, 30, 0, 0)}\n",
        "{'rating': u'PG-13', 'director': u'Bryan Singer', 'movie title': u'X-Men: Days of Future Past', 'domestic_total_gross': 233666000, 'runtime': 131, 'release date': datetime.datetime(2014, 5, 23, 0, 0)}\n",
        "{'rating': u'PG-13', 'director': u'Matt Reeves', 'movie title': u'Dawn of the Planet of the Apes', 'domestic_total_gross': 206222000, 'runtime': 130, 'release date': datetime.datetime(2014, 7, 11, 0, 0)}\n",
        "{'rating': u'PG-13', 'director': u'Marc Webb', 'movie title': u'The Amazing Spider-Man 2', 'domestic_total_gross': 202853933, 'runtime': 142, 'release date': datetime.datetime(2014, 5, 2, 0, 0)}\n",
        "{'rating': u'PG-13', 'director': u'Gareth Edwards', 'movie title': u'Godzilla', 'domestic_total_gross': 200676069, 'runtime': 123, 'release date': datetime.datetime(2014, 5, 16, 0, 0)}\n",
        "{'rating': u'R', 'director': u'Phil LordChris Miller (II)', 'movie title': u'22 Jump Street', 'domestic_total_gross': 190651027, 'runtime': 112, 'release date': datetime.datetime(2014, 6, 13, 0, 0)}\n"
       ]
      }
     ],
     "prompt_number": 4
    },
    {
     "cell_type": "code",
     "collapsed": false,
     "input": [
      "len(movie_list)"
     ],
     "language": "python",
     "metadata": {},
     "outputs": [
      {
       "metadata": {},
       "output_type": "pyout",
       "prompt_number": 11,
       "text": [
        "194"
       ]
      }
     ],
     "prompt_number": 11
    },
    {
     "cell_type": "code",
     "collapsed": false,
     "input": [
      "len(problem_movie_list)"
     ],
     "language": "python",
     "metadata": {},
     "outputs": [
      {
       "metadata": {},
       "output_type": "pyout",
       "prompt_number": 12,
       "text": [
        "24"
       ]
      }
     ],
     "prompt_number": 12
    },
    {
     "cell_type": "code",
     "collapsed": false,
     "input": [
      "import pickle"
     ],
     "language": "python",
     "metadata": {},
     "outputs": [],
     "prompt_number": 13
    },
    {
     "cell_type": "code",
     "collapsed": false,
     "input": [
      "num_alpha_movie_list = [movie_list, problem_movie_list]"
     ],
     "language": "python",
     "metadata": {},
     "outputs": [],
     "prompt_number": 14
    },
    {
     "cell_type": "code",
     "collapsed": false,
     "input": [
      "pickle.dump(num_alpha_movie_list, open('num_alpha_movie_list', 'wb'))"
     ],
     "language": "python",
     "metadata": {},
     "outputs": [],
     "prompt_number": 18
    },
    {
     "cell_type": "markdown",
     "metadata": {},
     "source": [
      "http://www.boxofficemojo.com/movies/alphabetical.htm?letter=A&page=1&p=.htm"
     ]
    },
    {
     "cell_type": "code",
     "collapsed": false,
     "input": [
      "ms.base_url"
     ],
     "language": "python",
     "metadata": {},
     "outputs": [
      {
       "metadata": {},
       "output_type": "pyout",
       "prompt_number": 19,
       "text": [
        "'http://www.boxofficemojo.com/'"
       ]
      }
     ],
     "prompt_number": 19
    },
    {
     "cell_type": "code",
     "collapsed": false,
     "input": [
      "oneurl = ms.base_url + 'movies/alphabetical.htm?letter=' + 'A' + '&page=' + '1' + '&p=.htm'"
     ],
     "language": "python",
     "metadata": {},
     "outputs": [],
     "prompt_number": 39
    },
    {
     "cell_type": "code",
     "collapsed": false,
     "input": [
      "print oneurl"
     ],
     "language": "python",
     "metadata": {},
     "outputs": [
      {
       "output_type": "stream",
       "stream": "stdout",
       "text": [
        "http://www.boxofficemojo.com/movies/alphabetical.htm?letter=A&page=1&p=.htm\n"
       ]
      }
     ],
     "prompt_number": 40
    },
    {
     "cell_type": "code",
     "collapsed": false,
     "input": [
      "import string\n",
      "all_movie_urls = []\n",
      "\n",
      "for letter in string.ascii_uppercase:\n",
      "    valid_num = True\n",
      "    n = 1\n",
      "    \n",
      "    while valid_num:    \n",
      "        n = str(n)\n",
      "        oneurl = ms.base_url + 'movies/alphabetical.htm?letter=' + letter + '&page=' + n + '&p=1.htm'\n",
      "        try:\n",
      "            # page = urllib2.urlopen(oneurl)\n",
      "            # soup = BeautifulSoup(page)\n",
      "            print oneurl\n",
      "            one_page_movie_list = ms.get_single_page_movie_urls(oneurl)\n",
      "            for movie in one_page_movie_list:\n",
      "               all_movie_urls.append(movie)\n",
      "            n = int(n) + 1    \n",
      "                \n",
      "        except HTTPError:\n",
      "            valid_num = False\n",
      "            print 'Failure opening %s' % oneurl\n",
      "        "
     ],
     "language": "python",
     "metadata": {},
     "outputs": [
      {
       "output_type": "stream",
       "stream": "stdout",
       "text": [
        "http://www.boxofficemojo.com/movies/alphabetical.htm?letter=A&page=1&p=1.htm\n",
        "http://www.boxofficemojo.com/movies/alphabetical.htm?letter=A&page=1&p=1.htm"
       ]
      },
      {
       "output_type": "stream",
       "stream": "stdout",
       "text": [
        "\n",
        "http://www.boxofficemojo.com/movies/alphabetical.htm?letter=A&page=1&p=1.htm"
       ]
      },
      {
       "output_type": "stream",
       "stream": "stdout",
       "text": [
        "\n",
        "http://www.boxofficemojo.com/movies/alphabetical.htm?letter=A&page=1&p=1.htm"
       ]
      },
      {
       "output_type": "stream",
       "stream": "stdout",
       "text": [
        "\n",
        "http://www.boxofficemojo.com/movies/alphabetical.htm?letter=A&page=1&p=1.htm"
       ]
      },
      {
       "output_type": "stream",
       "stream": "stdout",
       "text": [
        "\n",
        "http://www.boxofficemojo.com/movies/alphabetical.htm?letter=A&page=1&p=1.htm"
       ]
      },
      {
       "output_type": "stream",
       "stream": "stdout",
       "text": [
        "\n",
        "http://www.boxofficemojo.com/movies/alphabetical.htm?letter=A&page=1&p=1.htm"
       ]
      },
      {
       "output_type": "stream",
       "stream": "stdout",
       "text": [
        "\n",
        "http://www.boxofficemojo.com/movies/alphabetical.htm?letter=A&page=1&p=1.htm"
       ]
      },
      {
       "output_type": "stream",
       "stream": "stdout",
       "text": [
        "\n",
        "http://www.boxofficemojo.com/movies/alphabetical.htm?letter=A&page=1&p=1.htm"
       ]
      },
      {
       "output_type": "stream",
       "stream": "stdout",
       "text": [
        "\n",
        "http://www.boxofficemojo.com/movies/alphabetical.htm?letter=A&page=1&p=1.htm"
       ]
      },
      {
       "output_type": "stream",
       "stream": "stdout",
       "text": [
        "\n",
        "http://www.boxofficemojo.com/movies/alphabetical.htm?letter=A&page=1&p=1.htm"
       ]
      },
      {
       "output_type": "stream",
       "stream": "stdout",
       "text": [
        "\n",
        "http://www.boxofficemojo.com/movies/alphabetical.htm?letter=A&page=1&p=1.htm"
       ]
      },
      {
       "output_type": "stream",
       "stream": "stdout",
       "text": [
        "\n",
        "http://www.boxofficemojo.com/movies/alphabetical.htm?letter=A&page=1&p=1.htm"
       ]
      },
      {
       "output_type": "stream",
       "stream": "stdout",
       "text": [
        "\n",
        "http://www.boxofficemojo.com/movies/alphabetical.htm?letter=A&page=1&p=1.htm"
       ]
      },
      {
       "output_type": "stream",
       "stream": "stdout",
       "text": [
        "\n",
        "http://www.boxofficemojo.com/movies/alphabetical.htm?letter=A&page=1&p=1.htm"
       ]
      },
      {
       "output_type": "stream",
       "stream": "stdout",
       "text": [
        "\n",
        "http://www.boxofficemojo.com/movies/alphabetical.htm?letter=A&page=1&p=1.htm"
       ]
      },
      {
       "output_type": "stream",
       "stream": "stdout",
       "text": [
        "\n",
        "http://www.boxofficemojo.com/movies/alphabetical.htm?letter=A&page=1&p=1.htm"
       ]
      },
      {
       "output_type": "stream",
       "stream": "stdout",
       "text": [
        "\n",
        "http://www.boxofficemojo.com/movies/alphabetical.htm?letter=A&page=1&p=1.htm"
       ]
      },
      {
       "output_type": "stream",
       "stream": "stdout",
       "text": [
        "\n",
        "http://www.boxofficemojo.com/movies/alphabetical.htm?letter=A&page=1&p=1.htm"
       ]
      },
      {
       "output_type": "stream",
       "stream": "stdout",
       "text": [
        "\n",
        "http://www.boxofficemojo.com/movies/alphabetical.htm?letter=A&page=1&p=1.htm"
       ]
      },
      {
       "output_type": "stream",
       "stream": "stdout",
       "text": [
        "\n",
        "http://www.boxofficemojo.com/movies/alphabetical.htm?letter=A&page=1&p=1.htm"
       ]
      },
      {
       "output_type": "stream",
       "stream": "stdout",
       "text": [
        "\n",
        "http://www.boxofficemojo.com/movies/alphabetical.htm?letter=A&page=1&p=1.htm"
       ]
      },
      {
       "output_type": "stream",
       "stream": "stdout",
       "text": [
        "\n",
        "http://www.boxofficemojo.com/movies/alphabetical.htm?letter=A&page=1&p=1.htm"
       ]
      },
      {
       "output_type": "stream",
       "stream": "stdout",
       "text": [
        "\n",
        "http://www.boxofficemojo.com/movies/alphabetical.htm?letter=A&page=1&p=1.htm"
       ]
      },
      {
       "output_type": "stream",
       "stream": "stdout",
       "text": [
        "\n",
        "http://www.boxofficemojo.com/movies/alphabetical.htm?letter=A&page=1&p=1.htm"
       ]
      },
      {
       "output_type": "stream",
       "stream": "stdout",
       "text": [
        "\n",
        "http://www.boxofficemojo.com/movies/alphabetical.htm?letter=A&page=1&p=1.htm"
       ]
      },
      {
       "output_type": "stream",
       "stream": "stdout",
       "text": [
        "\n",
        "http://www.boxofficemojo.com/movies/alphabetical.htm?letter=A&page=1&p=1.htm"
       ]
      },
      {
       "output_type": "stream",
       "stream": "stdout",
       "text": [
        "\n",
        "http://www.boxofficemojo.com/movies/alphabetical.htm?letter=A&page=1&p=1.htm"
       ]
      },
      {
       "output_type": "stream",
       "stream": "stdout",
       "text": [
        "\n",
        "http://www.boxofficemojo.com/movies/alphabetical.htm?letter=A&page=1&p=1.htm"
       ]
      },
      {
       "output_type": "stream",
       "stream": "stdout",
       "text": [
        "\n",
        "http://www.boxofficemojo.com/movies/alphabetical.htm?letter=A&page=1&p=1.htm"
       ]
      },
      {
       "output_type": "stream",
       "stream": "stdout",
       "text": [
        "\n",
        "http://www.boxofficemojo.com/movies/alphabetical.htm?letter=A&page=1&p=1.htm"
       ]
      },
      {
       "output_type": "stream",
       "stream": "stdout",
       "text": [
        "\n",
        "http://www.boxofficemojo.com/movies/alphabetical.htm?letter=A&page=1&p=1.htm"
       ]
      },
      {
       "output_type": "stream",
       "stream": "stdout",
       "text": [
        "\n",
        "http://www.boxofficemojo.com/movies/alphabetical.htm?letter=A&page=1&p=1.htm"
       ]
      },
      {
       "output_type": "stream",
       "stream": "stdout",
       "text": [
        "\n",
        "http://www.boxofficemojo.com/movies/alphabetical.htm?letter=A&page=1&p=1.htm"
       ]
      },
      {
       "output_type": "stream",
       "stream": "stdout",
       "text": [
        "\n",
        "http://www.boxofficemojo.com/movies/alphabetical.htm?letter=A&page=1&p=1.htm"
       ]
      },
      {
       "output_type": "stream",
       "stream": "stdout",
       "text": [
        "\n",
        "http://www.boxofficemojo.com/movies/alphabetical.htm?letter=A&page=1&p=1.htm"
       ]
      },
      {
       "output_type": "stream",
       "stream": "stdout",
       "text": [
        "\n",
        "http://www.boxofficemojo.com/movies/alphabetical.htm?letter=A&page=1&p=1.htm"
       ]
      },
      {
       "output_type": "stream",
       "stream": "stdout",
       "text": [
        "\n",
        "http://www.boxofficemojo.com/movies/alphabetical.htm?letter=A&page=1&p=1.htm"
       ]
      },
      {
       "output_type": "stream",
       "stream": "stdout",
       "text": [
        "\n",
        "http://www.boxofficemojo.com/movies/alphabetical.htm?letter=A&page=1&p=1.htm"
       ]
      },
      {
       "output_type": "stream",
       "stream": "stdout",
       "text": [
        "\n",
        "http://www.boxofficemojo.com/movies/alphabetical.htm?letter=A&page=1&p=1.htm"
       ]
      },
      {
       "output_type": "stream",
       "stream": "stdout",
       "text": [
        "\n",
        "http://www.boxofficemojo.com/movies/alphabetical.htm?letter=A&page=1&p=1.htm"
       ]
      },
      {
       "output_type": "stream",
       "stream": "stdout",
       "text": [
        "\n",
        "http://www.boxofficemojo.com/movies/alphabetical.htm?letter=A&page=1&p=1.htm"
       ]
      },
      {
       "output_type": "stream",
       "stream": "stdout",
       "text": [
        "\n",
        "http://www.boxofficemojo.com/movies/alphabetical.htm?letter=A&page=1&p=1.htm"
       ]
      },
      {
       "output_type": "stream",
       "stream": "stdout",
       "text": [
        "\n",
        "http://www.boxofficemojo.com/movies/alphabetical.htm?letter=A&page=1&p=1.htm"
       ]
      },
      {
       "output_type": "stream",
       "stream": "stdout",
       "text": [
        "\n",
        "http://www.boxofficemojo.com/movies/alphabetical.htm?letter=A&page=1&p=1.htm"
       ]
      },
      {
       "output_type": "stream",
       "stream": "stdout",
       "text": [
        "\n",
        "http://www.boxofficemojo.com/movies/alphabetical.htm?letter=A&page=1&p=1.htm"
       ]
      },
      {
       "output_type": "stream",
       "stream": "stdout",
       "text": [
        "\n",
        "http://www.boxofficemojo.com/movies/alphabetical.htm?letter=A&page=1&p=1.htm"
       ]
      },
      {
       "output_type": "stream",
       "stream": "stdout",
       "text": [
        "\n",
        "http://www.boxofficemojo.com/movies/alphabetical.htm?letter=A&page=1&p=1.htm"
       ]
      }
     ]
    },
    {
     "cell_type": "code",
     "collapsed": false,
     "input": [
      "import pprint\n",
      "pprint.pprint(all_movie_urls)\n"
     ],
     "language": "python",
     "metadata": {},
     "outputs": [
      {
       "output_type": "stream",
       "stream": "stdout",
       "text": [
        "[u'http://boxofficemojo.com/movies/?id=marvel2014a.htm',\n",
        " u'http://boxofficemojo.com/movies/?id=ateam.htm',\n",
        " u'http://boxofficemojo.com/movies/?id=acod.htm',\n",
        " u'http://boxofficemojo.com/movies/?id=ai.htm',\n",
        " u'http://boxofficemojo.com/movies/?id=aajanachle.htm',\n",
        " u'http://boxofficemojo.com/movies/?id=aarakshan.htm',\n",
        " u'http://boxofficemojo.com/movies/?id=aashayein.htm',\n",
        " u'http://boxofficemojo.com/movies/?id=aatsinki.htm',\n",
        " u'http://boxofficemojo.com/movies/?id=abandon.htm',\n",
        " u'http://boxofficemojo.com/movies/?id=abandoned.htm',\n",
        " u'http://boxofficemojo.com/movies/?id=abcafrica.htm',\n",
        " u'http://boxofficemojo.com/movies/?id=abcsofdeath.htm',\n",
        " u'http://boxofficemojo.com/movies/?id=abcd.htm',\n",
        " u'http://boxofficemojo.com/movies/?id=abcd2013.htm',\n",
        " u'http://boxofficemojo.com/movies/?id=abcsofdeath2.htm',\n",
        " u'http://boxofficemojo.com/movies/?id=abduction11.htm',\n",
        " u'http://boxofficemojo.com/movies/?id=abduction.htm',\n",
        " u'http://boxofficemojo.com/movies/?id=abel.htm',\n",
        " u'http://boxofficemojo.com/movies/?id=aberdeen.htm',\n",
        " u'http://boxofficemojo.com/movies/?id=abominable.htm',\n",
        " u'http://boxofficemojo.com/movies/?id=abouna.htm',\n",
        " u'http://boxofficemojo.com/movies/?id=aboutaboy.htm',\n",
        " u'http://boxofficemojo.com/movies/?id=aboutadam.htm',\n",
        " u'http://boxofficemojo.com/movies/?id=aboutalex.htm',\n",
        " u'http://boxofficemojo.com/movies/?id=aboutcherry.htm',\n",
        " u'http://boxofficemojo.com/movies/?id=aboutfifty.htm',\n",
        " u'http://boxofficemojo.com/movies/?id=aboutlastnight14.htm',\n",
        " u'http://boxofficemojo.com/movies/?id=aboutlastnight.htm',\n",
        " u'http://boxofficemojo.com/movies/?id=aboutschmidt.htm',\n",
        " u'http://boxofficemojo.com/movies/?id=abouttime.htm',\n",
        " u'http://boxofficemojo.com/movies/?id=abovethelaw.htm',\n",
        " u'http://boxofficemojo.com/movies/?id=abovetherim.htm',\n",
        " u'http://boxofficemojo.com/movies/?id=abrahamlincolnvampirehunter.htm',\n",
        " u'http://boxofficemojo.com/movies/?id=absence.htm',\n",
        " u'http://boxofficemojo.com/movies/?id=absenceofmalice.htm',\n",
        " u'http://boxofficemojo.com/movies/?id=absolutebeginners.htm',\n",
        " u'http://boxofficemojo.com/movies/?id=absolutepower.htm',\n",
        " u'http://boxofficemojo.com/movies/?id=absolutewilson.htm',\n",
        " u'http://boxofficemojo.com/movies/?id=absurdistan.htm',\n",
        " u'http://boxofficemojo.com/movies/?id=abuseofweakness.htm',\n",
        " u'http://boxofficemojo.com/movies/?id=abyss.htm',\n",
        " u'http://boxofficemojo.com/movies/?id=abyss93.htm',\n",
        " u'http://boxofficemojo.com/movies/?id=accepted.htm',\n",
        " u'http://boxofficemojo.com/movies/?id=accident.htm',\n",
        " u'http://boxofficemojo.com/movies/?id=accidentalhusband.htm',\n",
        " u'http://boxofficemojo.com/movies/?id=accidentaltourist.htm',\n",
        " u'http://boxofficemojo.com/movies/?id=accompanist.htm',\n",
        " u'http://boxofficemojo.com/movies/?id=accused.htm',\n",
        " u'http://boxofficemojo.com/movies/?id=aceinthehole.htm',\n",
        " u'http://boxofficemojo.com/movies/?id=aceventura.htm',\n",
        " u'http://boxofficemojo.com/movies/?id=aceventura2.htm',\n",
        " u'http://boxofficemojo.com/movies/?id=ironeagle3.htm',\n",
        " u'http://boxofficemojo.com/movies/?id=acrosstheseaoftimeimax.htm',\n",
        " u'http://boxofficemojo.com/movies/?id=acrosstheuniverse.htm',\n",
        " u'http://boxofficemojo.com/movies/?id=actofgod.htm',\n",
        " u'http://boxofficemojo.com/movies/?id=actofkilling.htm',\n",
        " u'http://boxofficemojo.com/movies/?id=actofvalor.htm',\n",
        " u'http://boxofficemojo.com/movies/?id=actionjackson.htm',\n",
        " u'http://boxofficemojo.com/movies/?id=actsofworship.htm',\n",
        " u'http://boxofficemojo.com/movies/?id=marvel2014a.htm',\n",
        " u'http://boxofficemojo.com/movies/?id=adam.htm',\n",
        " u'http://boxofficemojo.com/movies/?id=adamandsteve.htm',\n",
        " u'http://boxofficemojo.com/movies/?id=adamsapples.htm',\n",
        " u'http://boxofficemojo.com/movies/?id=adamsrib.htm',\n",
        " u'http://boxofficemojo.com/movies/?id=adaptation.htm',\n",
        " u'http://boxofficemojo.com/movies/?id=addamsfamily.htm',\n",
        " u'http://boxofficemojo.com/movies/?id=addamsfamilyvalues.htm',\n",
        " u'http://boxofficemojo.com/movies/?id=addicted.htm',\n",
        " u'http://boxofficemojo.com/movies/?id=addictedtofame.htm',\n",
        " u'http://boxofficemojo.com/movies/?id=addictedtolove.htm',\n",
        " u'http://boxofficemojo.com/movies/?id=addiction.htm',\n",
        " u'http://boxofficemojo.com/movies/?id=addictionincorporated.htm',\n",
        " u'http://boxofficemojo.com/movies/?id=adjuster.htm',\n",
        " u'http://boxofficemojo.com/movies/?id=adjustmentbureau.htm',\n",
        " u'http://boxofficemojo.com/movies/?id=admiral.htm',\n",
        " u'http://boxofficemojo.com/movies/?id=admission.htm',\n",
        " u'http://boxofficemojo.com/movies/?id=adoration.htm',\n",
        " u'http://boxofficemojo.com/movies/?id=adore.htm',\n",
        " u'http://boxofficemojo.com/movies/?id=adoreddiaryofamalepornstar.htm',\n",
        " u'http://boxofficemojo.com/movies/?id=adrenalinerush.htm',\n",
        " u'http://boxofficemojo.com/movies/?id=adriftinmanhattan.htm',\n",
        " u'http://boxofficemojo.com/movies/?id=adultworld.htm',\n",
        " u'http://boxofficemojo.com/movies/?id=adventureland.htm',\n",
        " u'http://boxofficemojo.com/movies/?id=midasbox.htm',\n",
        " u'http://boxofficemojo.com/movies/?id=adventuresinbabysitting.htm',\n",
        " u'http://boxofficemojo.com/movies/?id=adventuresofayoungman.htm',\n",
        " u'http://boxofficemojo.com/movies/?id=adventuresofamericanrabbit.htm',\n",
        " u'http://boxofficemojo.com/movies/?id=adventuresofbaronmunchausen.htm',\n",
        " u'http://boxofficemojo.com/movies/?id=buckaroobanzai.htm',\n",
        " u'http://boxofficemojo.com/movies/?id=adventuresofdonjuan.htm',\n",
        " u'http://boxofficemojo.com/movies/?id=elmoingrouchland.htm',\n",
        " u'http://boxofficemojo.com/movies/?id=adventuresoffelix.htm',\n",
        " u'http://boxofficemojo.com/movies/?id=adventuresoffordfairlane.htm',\n",
        " u'http://boxofficemojo.com/movies/?id=adventuresofhuckfinn.htm',\n",
        " u'http://boxofficemojo.com/movies/?id=marcopolo.htm',\n",
        " u'http://boxofficemojo.com/movies/?id=adventuresofmarktwain.htm',\n",
        " u'http://boxofficemojo.com/movies/?id=adventuresofmiloandotis.htm',\n",
        " u'http://boxofficemojo.com/movies/?id=miloandotis90.htm',\n",
        " u'http://boxofficemojo.com/movies/?id=adventuresofpinocchio.htm',\n",
        " u'http://boxofficemojo.com/movies/?id=plutonash.htm',\n",
        " u'http://boxofficemojo.com/movies/?id=adventuresofpower.htm',\n",
        " u'http://boxofficemojo.com/movies/?id=priscillaqueenofthedesert.htm',\n",
        " u'http://boxofficemojo.com/movies/?id=rockyandbullwinkle.htm',\n",
        " u'http://boxofficemojo.com/movies/?id=adventuresofsebastiancole.htm',\n",
        " u'http://boxofficemojo.com/movies/?id=sharkboyandlavagirl.htm',\n",
        " u'http://boxofficemojo.com/movies/?id=tintin.htm',\n",
        " u'http://boxofficemojo.com/movies/?id=adviseandconsent.htm',\n",
        " u'http://boxofficemojo.com/movies/?id=advocate.htm',\n",
        " u'http://boxofficemojo.com/movies/?id=aeonflux.htm',\n",
        " u'http://boxofficemojo.com/movies/?id=affairoflife.htm',\n",
        " u'http://boxofficemojo.com/movies/?id=affairofthenecklace.htm',\n",
        " u'http://boxofficemojo.com/movies/?id=afflicted.htm',\n",
        " u'http://boxofficemojo.com/movies/?id=afflicted2014.htm',\n",
        " u'http://boxofficemojo.com/movies/?id=affliction.htm',\n",
        " u'http://boxofficemojo.com/movies/?id=afghanstar.htm',\n",
        " u'http://boxofficemojo.com/movies/?id=afraidofthedark.htm',\n",
        " u'http://boxofficemojo.com/movies/?id=africaselephantkingdomimax.htm',\n",
        " u'http://boxofficemojo.com/movies/?id=africatheserengetiimax.htm',\n",
        " u'http://boxofficemojo.com/movies/?id=africancats.htm',\n",
        " u'http://boxofficemojo.com/movies/?id=africanqueen.htm',\n",
        " u'http://boxofficemojo.com/movies/?id=after2011.htm',\n",
        " u'http://boxofficemojo.com/movies/?id=afterdarkshorrorfest.htm',\n",
        " u'http://boxofficemojo.com/movies/?id=horrorfest2.htm',\n",
        " u'http://boxofficemojo.com/movies/?id=afterdarkmysweet.htm',\n",
        " u'http://boxofficemojo.com/movies/?id=1000ae.htm',\n",
        " u'http://boxofficemojo.com/movies/?id=afterfreedom.htm',\n",
        " u'http://boxofficemojo.com/movies/?id=afterhours.htm',\n",
        " u'http://boxofficemojo.com/movies/?id=afterinnocence.htm',\n",
        " u'http://boxofficemojo.com/movies/?id=afterlife.htm',\n",
        " u'http://boxofficemojo.com/movies/?id=aftermidnight.htm',\n",
        " u'http://boxofficemojo.com/movies/?id=aftermidnight04.htm',\n",
        " u'http://boxofficemojo.com/movies/?id=afterschool.htm',\n",
        " u'http://boxofficemojo.com/movies/?id=afterthecup.htm',\n",
        " u'http://boxofficemojo.com/movies/?id=afterthelifetrilogy3.htm',\n",
        " u'http://boxofficemojo.com/movies/?id=afterthesunset.htm',\n",
        " u'http://boxofficemojo.com/movies/?id=afterthethinman.htm',\n",
        " u'http://boxofficemojo.com/movies/?id=afterthewedding.htm',\n",
        " u'http://boxofficemojo.com/movies/?id=afterthewizard.htm',\n",
        " u'http://boxofficemojo.com/movies/?id=aftertiller.htm',\n",
        " u'http://boxofficemojo.com/movies/?id=afterlife10.htm',\n",
        " u'http://boxofficemojo.com/movies/?id=afterglow.htm',\n",
        " u'http://boxofficemojo.com/movies/?id=afterlight.htm',\n",
        " u'http://boxofficemojo.com/movies/?id=afternoondelight.htm',\n",
        " u'http://boxofficemojo.com/movies/?id=afternoonofafaun.htm',\n",
        " u'http://boxofficemojo.com/movies/?id=afterschool.htm',\n",
        " u'http://boxofficemojo.com/movies/?id=aftershock13.htm',\n",
        " u'http://boxofficemojo.com/movies/?id=aftershock.htm',\n",
        " u'http://boxofficemojo.com/movies/?id=marvel2014a.htm',\n",
        " u'http://boxofficemojo.com/movies/?id=againstallflags.htm',\n",
        " u'http://boxofficemojo.com/movies/?id=againstallodds.htm',\n",
        " u'http://boxofficemojo.com/movies/?id=againsttheropes.htm',\n",
        " u'http://boxofficemojo.com/movies/?id=agatha.htm',\n",
        " u'http://boxofficemojo.com/movies/?id=ageofadaline.htm',\n",
        " u'http://boxofficemojo.com/movies/?id=ageofinnocence.htm',\n",
        " u'http://boxofficemojo.com/movies/?id=ageofuprising.htm',\n",
        " u'http://boxofficemojo.com/movies/?id=agentcodybanks.htm',\n",
        " u'http://boxofficemojo.com/movies/?id=agentcodybanks2.htm',\n",
        " u'http://boxofficemojo.com/movies/?id=agentvinod.htm',\n",
        " u'http://boxofficemojo.com/movies/?id=aggressives.htm',\n",
        " u'http://boxofficemojo.com/movies/?id=agneepath.htm',\n",
        " u'http://boxofficemojo.com/movies/?id=agnesandhisbrothers.htm',\n",
        " u'http://boxofficemojo.com/movies/?id=agnesbrowne.htm',\n",
        " u'http://boxofficemojo.com/movies/?id=agnesofgod.htm',\n",
        " u'http://boxofficemojo.com/movies/?id=agnivarsha.htm',\n",
        " u'http://boxofficemojo.com/movies/?id=agonyandtheecstasy.htm',\n",
        " u'http://boxofficemojo.com/movies/?id=agora.htm',\n",
        " u'http://boxofficemojo.com/movies/?id=agronomist.htm',\n",
        " u'http://boxofficemojo.com/movies/?id=aheadoftime.htm',\n",
        " u'http://boxofficemojo.com/movies/?id=aiweiweineversorry.htm',\n",
        " u'http://boxofficemojo.com/movies/?id=aiweiweifake.htm',\n",
        " u'http://boxofficemojo.com/movies/?id=aidaatlascalla.htm',\n",
        " u'http://boxofficemojo.com/movies/?id=aileenthelifeanddeathofaserialkiller.htm',\n",
        " u'http://boxofficemojo.com/movies/?id=aimeeandjaguar.htm',\n",
        " u'http://boxofficemojo.com/movies/?id=levonhelm.htm',\n",
        " u'http://boxofficemojo.com/movies/?id=aintthembodiessaints.htm',\n",
        " u'http://boxofficemojo.com/movies/?id=airamerica.htm',\n",
        " u'http://boxofficemojo.com/movies/?id=airbud.htm',\n",
        " u'http://boxofficemojo.com/movies/?id=airbud2.htm',\n",
        " u'http://boxofficemojo.com/movies/?id=airforce.htm',\n",
        " u'http://boxofficemojo.com/movies/?id=airforceone.htm',\n",
        " u'http://boxofficemojo.com/movies/?id=airguitarnation.htm',\n",
        " u'http://boxofficemojo.com/movies/?id=airibreathe.htm',\n",
        " u'http://boxofficemojo.com/movies/?id=airracers.htm',\n",
        " u'http://boxofficemojo.com/movies/?id=airupthere.htm',\n",
        " u'http://boxofficemojo.com/movies/?id=airborne.htm',\n",
        " u'http://boxofficemojo.com/movies/?id=airheads.htm',\n",
        " u'http://boxofficemojo.com/movies/?id=airplane2.htm',\n",
        " u'http://boxofficemojo.com/movies/?id=airplane.htm',\n",
        " u'http://boxofficemojo.com/movies/?id=airport.htm',\n",
        " u'http://boxofficemojo.com/movies/?id=airport77.htm',\n",
        " u'http://boxofficemojo.com/movies/?id=airport75.htm',\n",
        " u'http://boxofficemojo.com/movies/?id=aitraaz.htm',\n",
        " u'http://boxofficemojo.com/movies/?id=ajami.htm',\n",
        " u'http://boxofficemojo.com/movies/?id=aka.htm',\n",
        " u'http://boxofficemojo.com/movies/?id=akeelahandthebee.htm',\n",
        " u'http://boxofficemojo.com/movies/?id=akira.htm',\n",
        " u'http://boxofficemojo.com/movies/?id=akira01.htm',\n",
        " u'http://boxofficemojo.com/movies/?id=akirakurosawasdream.htm',\n",
        " u'http://boxofficemojo.com/movies/?id=alfrankengodspoke.htm',\n",
        " u'http://boxofficemojo.com/movies/?id=alabamamoon.htm',\n",
        " u'http://boxofficemojo.com/movies/?id=aladdin.htm',\n",
        " u'http://boxofficemojo.com/movies/?id=alamar.htm',\n",
        " u'http://boxofficemojo.com/movies/?id=alamo60.htm',\n",
        " u'http://boxofficemojo.com/movies/?id=alamo.htm',\n",
        " u'http://boxofficemojo.com/movies/?id=alanpartridge.htm',\n",
        " u'http://boxofficemojo.com/movies/?id=burnhollywoodburn.htm',\n",
        " u'http://boxofficemojo.com/movies/?id=alarmist.htm',\n",
        " u'http://boxofficemojo.com/movies/?id=alaska.htm',\n",
        " u'http://boxofficemojo.com/movies/?id=albatross.htm',\n",
        " u'http://boxofficemojo.com/movies/?id=albertnobbs.htm',\n",
        " u'http://boxofficemojo.com/movies/?id=albinoalligator.htm',\n",
        " u'http://boxofficemojo.com/movies/?id=alexandemma.htm',\n",
        " u'http://boxofficemojo.com/movies/?id=alexcross.htm',\n",
        " u'http://boxofficemojo.com/movies/?id=stormbreaker.htm',\n",
        " u'http://boxofficemojo.com/movies/?id=alexander.htm',\n",
        " u'http://boxofficemojo.com/movies/?id=alexanderbadday.htm',\n",
        " u'http://boxofficemojo.com/movies/?id=alexanderthegreat.htm',\n",
        " u'http://boxofficemojo.com/movies/?id=alexandra.htm',\n",
        " u'http://boxofficemojo.com/movies/?id=alexandrasproject.htm',\n",
        " u'http://boxofficemojo.com/movies/?id=alfie.htm',\n",
        " u'http://boxofficemojo.com/movies/?id=alfredoalfredo.htm',\n",
        " u'http://boxofficemojo.com/movies/?id=algorithms.htm',\n",
        " u'http://boxofficemojo.com/movies/?id=ali.htm',\n",
        " u'http://boxofficemojo.com/movies/?id=aliasbetty.htm',\n",
        " u'http://boxofficemojo.com/movies/?id=alibi.htm',\n",
        " u'http://boxofficemojo.com/movies/?id=alice.htm',\n",
        " u'http://boxofficemojo.com/movies/?id=aliceadams.htm',\n",
        " u'http://boxofficemojo.com/movies/?id=alicedoesntlivehereanymore.htm',\n",
        " u'http://boxofficemojo.com/movies/?id=aliceetmartin.htm',\n",
        " u'http://boxofficemojo.com/movies/?id=aliceinwonderland.htm',\n",
        " u'http://boxofficemojo.com/movies/?id=aliceinwonderland10.htm',\n",
        " u'http://boxofficemojo.com/movies/?id=alice2.htm',\n",
        " u'http://boxofficemojo.com/movies/?id=aliceneel.htm',\n",
        " u'http://boxofficemojo.com/movies/?id=aliceshouse.htm',\n",
        " u'http://boxofficemojo.com/movies/?id=alien.htm',\n",
        " u'http://boxofficemojo.com/movies/?id=alien3.htm',\n",
        " u'http://boxofficemojo.com/movies/?id=alienabduction.htm',\n",
        " u'http://boxofficemojo.com/movies/?id=alienadventureimax.htm',\n",
        " u'http://boxofficemojo.com/movies/?id=alienlovetriangle.htm',\n",
        " u'http://boxofficemojo.com/movies/?id=aliennation.htm',\n",
        " u'http://boxofficemojo.com/movies/?id=alienresurrection.htm',\n",
        " u'http://boxofficemojo.com/movies/?id=alientrespass.htm',\n",
        " u'http://boxofficemojo.com/movies/?id=avp.htm',\n",
        " u'http://boxofficemojo.com/movies/?id=alien03.htm',\n",
        " u'http://boxofficemojo.com/movies/?id=aliens.htm',\n",
        " u'http://boxofficemojo.com/movies/?id=aliensintheattic.htm',\n",
        " u'http://boxofficemojo.com/movies/?id=aliensofthedeep.htm',\n",
        " u'http://boxofficemojo.com/movies/?id=avp2.htm',\n",
        " u'http://boxofficemojo.com/movies/?id=alila.htm',\n",
        " u'http://boxofficemojo.com/movies/?id=alive.htm',\n",
        " u'http://boxofficemojo.com/movies/?id=aliveinside.htm',\n",
        " u'http://boxofficemojo.com/movies/?id=aliyah.htm',\n",
        " u'http://boxofficemojo.com/movies/?id=allabouteve.htm',\n",
        " u'http://boxofficemojo.com/movies/?id=allabouteve00.htm',\n",
        " u'http://boxofficemojo.com/movies/?id=allaboutevil.htm',\n",
        " u'http://boxofficemojo.com/movies/?id=chouchou.htm',\n",
        " u'http://boxofficemojo.com/movies/?id=allaboutmymother.htm',\n",
        " u'http://boxofficemojo.com/movies/?id=allaboutsteve.htm',\n",
        " u'http://boxofficemojo.com/movies/?id=allaboutthebenjamins.htm',\n",
        " u'http://boxofficemojo.com/movies/?id=allaccessimax.htm',\n",
        " u'http://boxofficemojo.com/movies/?id=allbabeswanttokillme.htm',\n",
        " u'http://boxofficemojo.com/movies/?id=alldogsgotoheaven.htm',\n",
        " u'http://boxofficemojo.com/movies/?id=alldogsgotoheaven2.htm',\n",
        " u'http://boxofficemojo.com/movies/?id=allgoodthings.htm',\n",
        " u'http://boxofficemojo.com/movies/?id=allhat.htm',\n",
        " u'http://boxofficemojo.com/movies/?id=allidesire.htm',\n",
        " u'http://boxofficemojo.com/movies/?id=alliwannado.htm',\n",
        " u'http://boxofficemojo.com/movies/?id=alliwantforchristmas.htm',\n",
        " u'http://boxofficemojo.com/movies/?id=allisbright.htm',\n",
        " u'http://boxofficemojo.com/movies/?id=allislost.htm',\n",
        " u'http://boxofficemojo.com/movies/?id=allmylovedones.htm',\n",
        " u'http://boxofficemojo.com/movies/?id=allnightlong.htm',\n",
        " u'http://boxofficemojo.com/movies/?id=allofme.htm',\n",
        " u'http://boxofficemojo.com/movies/?id=allornothing.htm',\n",
        " u'http://boxofficemojo.com/movies/?id=alloverme.htm',\n",
        " u'http://boxofficemojo.com/movies/?id=allovertheguy.htm',\n",
        " u'http://boxofficemojo.com/movies/?id=allquietonthewesternfront.htm',\n",
        " u'http://boxofficemojo.com/movies/?id=allroadsleadhome.htm',\n",
        " u'http://boxofficemojo.com/movies/?id=allthatheavenallows.htm',\n",
        " u'http://boxofficemojo.com/movies/?id=allthatjazz.htm',\n",
        " u'http://boxofficemojo.com/movies/?id=allthebest.htm',\n",
        " u'http://boxofficemojo.com/movies/?id=mandylane.htm',\n",
        " u'http://boxofficemojo.com/movies/?id=allthekingsmen.htm',\n",
        " u'http://boxofficemojo.com/movies/?id=allthelittleanimals.htm',\n",
        " u'http://boxofficemojo.com/movies/?id=allthemarbles.htm',\n",
        " u'http://boxofficemojo.com/movies/?id=allthepresidentsmen.htm',\n",
        " u'http://boxofficemojo.com/movies/?id=alltheprettyhorses.htm',\n",
        " u'http://boxofficemojo.com/movies/?id=allthequeensmen.htm',\n",
        " u'http://boxofficemojo.com/movies/?id=alltherealgirls.htm',\n",
        " u'http://boxofficemojo.com/movies/?id=alltherightmoves.htm',\n",
        " u'http://boxofficemojo.com/movies/?id=allthingsfair.htm',\n",
        " u'http://boxofficemojo.com/movies/?id=alltogether.htm',\n",
        " u'http://boxofficemojo.com/movies/?id=allsfaireinlove.htm',\n",
        " u'http://boxofficemojo.com/movies/?id=allswellthatendswell.htm',\n",
        " u'http://boxofficemojo.com/movies/?id=allahmademefunny.htm',\n",
        " u'http://boxofficemojo.com/movies/?id=allanquatermain.htm',\n",
        " u'http://boxofficemojo.com/movies/?id=alleghenyuprising.htm',\n",
        " u'http://boxofficemojo.com/movies/?id=allegro.htm',\n",
        " u'http://boxofficemojo.com/movies/?id=allnighter.htm',\n",
        " u'http://boxofficemojo.com/movies/?id=almostanangel.htm',\n",
        " u'http://boxofficemojo.com/movies/?id=almostfamous.htm',\n",
        " u'http://boxofficemojo.com/movies/?id=almostheroes.htm',\n",
        " u'http://boxofficemojo.com/movies/?id=almosthuman.htm',\n",
        " u'http://boxofficemojo.com/movies/?id=almostinlove.htm',\n",
        " u'http://boxofficemojo.com/movies/?id=almostman.htm',\n",
        " u'http://boxofficemojo.com/movies/?id=almostpeaceful.htm',\n",
        " u'http://boxofficemojo.com/movies/?id=almostperfectaffair.htm',\n",
        " u'http://boxofficemojo.com/movies/?id=almostsalinas.htm',\n",
        " u'http://boxofficemojo.com/movies/?id=almostyou.htm',\n",
        " u'http://boxofficemojo.com/movies/?id=alohasummer.htm',\n",
        " u'http://boxofficemojo.com/movies/?id=aloneinthedark.htm',\n",
        " u'http://boxofficemojo.com/movies/?id=alonewithher.htm',\n",
        " u'http://boxofficemojo.com/movies/?id=aloneyetnotalone.htm',\n",
        " u'http://boxofficemojo.com/movies/?id=alongcameaspider.htm',\n",
        " u'http://boxofficemojo.com/movies/?id=alongcamepolly.htm',\n",
        " u'http://boxofficemojo.com/movies/?id=alphaandomega.htm',\n",
        " u'http://boxofficemojo.com/movies/?id=alphadog.htm',\n",
        " u'http://boxofficemojo.com/movies/?id=alphabetcity.htm',\n",
        " u'http://boxofficemojo.com/movies/?id=alphabetkiller.htm',\n",
        " u'http://boxofficemojo.com/movies/?id=alphaville.htm',\n",
        " u'http://boxofficemojo.com/movies/?id=alps.htm',\n",
        " u'http://boxofficemojo.com/movies/?id=altered.htm',\n",
        " u'http://boxofficemojo.com/movies/?id=alteredstates.htm',\n",
        " u'http://boxofficemojo.com/movies/?id=altiplano.htm',\n",
        " u'http://boxofficemojo.com/movies/?id=alvinandthechipmunks.htm',\n",
        " u'http://boxofficemojo.com/movies/?id=alvin4.htm',\n",
        " u'http://boxofficemojo.com/movies/?id=alvin3d.htm',\n",
        " u'http://boxofficemojo.com/movies/?id=alvinandthechipmunksii.htm',\n",
        " u'http://boxofficemojo.com/movies/?id=always.htm',\n",
        " u'http://boxofficemojo.com/movies/?id=alwayskabhikabhi.htm',\n",
        " u'http://boxofficemojo.com/movies/?id=marvel2014a.htm',\n",
        " u'http://boxofficemojo.com/movies/?id=amadeus.htm',\n",
        " u'http://boxofficemojo.com/movies/?id=amadeusdirectorscut.htm',\n",
        " u'http://boxofficemojo.com/movies/?id=amandla.htm',\n",
        " u'http://boxofficemojo.com/movies/?id=amarcord.htm',\n",
        " u'http://boxofficemojo.com/movies/?id=amateur82.htm',\n",
        " u'http://boxofficemojo.com/movies/?id=amateur.htm',\n",
        " u'http://boxofficemojo.com/movies/?id=amateurs.htm',\n",
        " u'http://boxofficemojo.com/movies/?id=amatigirls.htm',\n",
        " u'http://boxofficemojo.com/movies/?id=amazingcatfish.htm',\n",
        " u'http://boxofficemojo.com/movies/?id=amazingcouple:trilogy2.htm',\n",
        " u'http://boxofficemojo.com/movies/?id=amazinggrace.htm',\n",
        " u'http://boxofficemojo.com/movies/?id=amazinggraceandchuck.htm',\n",
        " u'http://boxofficemojo.com/movies/?id=amazingpandaadventure.htm',\n",
        " u'http://boxofficemojo.com/movies/?id=spiderman4.htm',\n",
        " u'http://boxofficemojo.com/movies/?id=amazingspiderman2.htm',\n",
        " u'http://boxofficemojo.com/movies/?id=amazingspiderman3.htm',\n",
        " u'http://boxofficemojo.com/movies/?id=amazingspiderman4.htm',\n",
        " u'http://boxofficemojo.com/movies/?id=amazingtruthaboutqueenraquela.htm',\n",
        " u'http://boxofficemojo.com/movies/?id=amazonwomenonthemoon.htm',\n",
        " u'http://boxofficemojo.com/movies/?id=ambassador.htm',\n",
        " u'http://boxofficemojo.com/movies/?id=ambassadorbill.htm',\n",
        " u'http://boxofficemojo.com/movies/?id=ambrosebiercecivilwarstories.htm',\n",
        " u'http://boxofficemojo.com/movies/?id=amelia.htm',\n",
        " u'http://boxofficemojo.com/movies/?id=amelie.htm',\n",
        " u'http://boxofficemojo.com/movies/?id=amen.htm',\n",
        " u'http://boxofficemojo.com/movies/?id=america2014.htm',\n",
        " u'http://boxofficemojo.com/movies/?id=americabetrayed.htm',\n",
        " u'http://boxofficemojo.com/movies/?id=americathebeautiful.htm',\n",
        " u'http://boxofficemojo.com/movies/?id=americathebeautiful2.htm',\n",
        " u'http://boxofficemojo.com/movies/?id=americasheartandsoul.htm',\n",
        " u'http://boxofficemojo.com/movies/?id=americassweethearts.htm',\n",
        " u'http://boxofficemojo.com/movies/?id=america:freedomtofascism.htm',\n",
        " u'http://boxofficemojo.com/movies/?id=american10.htm',\n",
        " u'http://boxofficemojo.com/movies/?id=americanadobo.htm',\n",
        " u'http://boxofficemojo.com/movies/?id=americanaffair.htm',\n",
        " u'http://boxofficemojo.com/movies/?id=americananimal.htm',\n",
        " u'http://boxofficemojo.com/movies/?id=americananthem.htm',\n",
        " u'http://boxofficemojo.com/movies/?id=americanbeauty.htm',\n",
        " u'http://boxofficemojo.com/movies/?id=americanbuffalo.htm',\n",
        " u'http://boxofficemojo.com/movies/?id=americancannibal.htm',\n",
        " u'http://boxofficemojo.com/movies/?id=americancarol.htm',\n",
        " u'http://boxofficemojo.com/movies/?id=americancasino.htm',\n",
        " u'http://boxofficemojo.com/movies/?id=americanchai.htm',\n",
        " u'http://boxofficemojo.com/movies/?id=americancrime.htm',\n",
        " u'http://boxofficemojo.com/movies/?id=americandesi.htm',\n",
        " u'http://boxofficemojo.com/movies/?id=americandream.htm',\n",
        " u'http://boxofficemojo.com/movies/?id=americandreamer.htm',\n",
        " u'http://boxofficemojo.com/movies/?id=americandreamz.htm',\n",
        " u'http://boxofficemojo.com/movies/?id=americanflyers.htm',\n",
        " u'http://boxofficemojo.com/movies/?id=americanfriend.htm',\n",
        " u'http://boxofficemojo.com/movies/?id=americanfriends.htm',\n",
        " u'http://boxofficemojo.com/movies/?id=americangangster.htm',\n",
        " u'http://boxofficemojo.com/movies/?id=americangigolo.htm',\n",
        " u'http://boxofficemojo.com/movies/?id=americangraffiti.htm',\n",
        " u'http://boxofficemojo.com/movies/?id=americangrindhouse.htm',\n",
        " u'http://boxofficemojo.com/movies/?id=americangun.htm',\n",
        " u'http://boxofficemojo.com/movies/?id=americanhardcore.htm',\n",
        " u'http://boxofficemojo.com/movies/?id=americanhaunting.htm',\n",
        " u'http://boxofficemojo.com/movies/?id=americanheart.htm',\n",
        " u'http://boxofficemojo.com/movies/?id=americanhistoryx.htm',\n",
        " u'http://boxofficemojo.com/movies/?id=americanhotwax.htm',\n",
        " u'http://boxofficemojo.com/movies/?id=davido2013.htm',\n",
        " u'http://boxofficemojo.com/movies/?id=americaninparis.htm',\n",
        " u'http://boxofficemojo.com/movies/?id=americanmademovie.htm',\n",
        " u'http://boxofficemojo.com/movies/?id=americanmadness.htm',\n",
        " u'http://boxofficemojo.com/movies/?id=americanme.htm',\n",
        " u'http://boxofficemojo.com/movies/?id=americanmeat.htm',\n",
        " u'http://boxofficemojo.com/movies/?id=americanmovie.htm',\n",
        " u'http://boxofficemojo.com/movies/?id=americanmustang.htm',\n",
        " u'http://boxofficemojo.com/movies/?id=americanninja.htm',\n",
        " u'http://boxofficemojo.com/movies/?id=americanninja2.htm',\n",
        " u'http://boxofficemojo.com/movies/?id=americanninja3.htm',\n",
        " u'http://boxofficemojo.com/movies/?id=americanninja4.htm',\n",
        " u'http://boxofficemojo.com/movies/?id=americanoutlaws.htm',\n",
        " u'http://boxofficemojo.com/movies/?id=americanpie.htm',\n",
        " u'http://boxofficemojo.com/movies/?id=americanpie2.htm',\n",
        " u'http://boxofficemojo.com/movies/?id=americanpimp.htm',\n",
        " u'http://boxofficemojo.com/movies/?id=americanpop.htm',\n",
        " u'http://boxofficemojo.com/movies/?id=americanpresident.htm',\n",
        " u'http://boxofficemojo.com/movies/?id=americanpromise.htm',\n",
        " u'http://boxofficemojo.com/movies/?id=americanpsycho.htm',\n",
        " u'http://boxofficemojo.com/movies/?id=americanreunion.htm',\n",
        " u'http://boxofficemojo.com/movies/?id=americanrhapsody.htm',\n",
        " u'http://boxofficemojo.com/movies/?id=americansniper.htm',\n",
        " u'http://boxofficemojo.com/movies/?id=americansplendor.htm',\n",
        " u'http://boxofficemojo.com/movies/?id=americanstorytellers.htm',\n",
        " u'http://boxofficemojo.com/movies/?id=americanstrays.htm',\n",
        " u'http://boxofficemojo.com/movies/?id=americansuccesscompany.htm',\n",
        " u'http://boxofficemojo.com/movies/?id=americanswing.htm',\n",
        " u'http://boxofficemojo.com/movies/?id=americantail.htm',\n",
        " u'http://boxofficemojo.com/movies/?id=fievelgoeswest.htm',\n",
        " u'http://boxofficemojo.com/movies/?id=americanteacher.htm',\n",
        " u'http://boxofficemojo.com/movies/?id=americanteen.htm',\n",
        " u'http://boxofficemojo.com/movies/?id=americanultra.htm',\n",
        " u'http://boxofficemojo.com/movies/?id=americanviolet.htm',\n",
        " u'http://boxofficemojo.com/movies/?id=americanwedding.htm',\n",
        " u'http://boxofficemojo.com/movies/?id=americanwerewolfinlondon.htm',\n",
        " u'http://boxofficemojo.com/movies/?id=americanwerewolfinparis.htm',\n",
        " u'http://boxofficemojo.com/movies/?id=americanzombie.htm',\n",
        " u'http://boxofficemojo.com/movies/?id=billhicks.htm',\n",
        " u'http://boxofficemojo.com/movies/?id=americanese.htm',\n",
        " u'http://boxofficemojo.com/movies/?id=americanizationofemily.htm',\n",
        " u'http://boxofficemojo.com/movies/?id=americanizingshelley.htm',\n",
        " u'http://boxofficemojo.com/movies/?id=americathon.htm',\n",
        " u'http://boxofficemojo.com/movies/?id=amexicano.htm',\n",
        " u'http://boxofficemojo.com/movies/?id=amigo.htm',\n",
        " u'http://boxofficemojo.com/movies/?id=amistad.htm',\n",
        " u'http://boxofficemojo.com/movies/?id=amityvillehorror12.htm',\n",
        " u'http://boxofficemojo.com/movies/?id=amityville3d.htm',\n",
        " u'http://boxofficemojo.com/movies/?id=amityvillehorror.htm',\n",
        " u'http://boxofficemojo.com/movies/?id=amityvillehorror05.htm',\n",
        " u'http://boxofficemojo.com/movies/?id=amityville2.htm',\n",
        " u'http://boxofficemojo.com/movies/?id=amontgiants.htm',\n",
        " u'http://boxofficemojo.com/movies/?id=amongstfriends.htm',\n",
        " u'http://boxofficemojo.com/movies/?id=amoresperros.htm',\n",
        " u'http://boxofficemojo.com/movies/?id=amosandandrew.htm',\n",
        " u'http://boxofficemojo.com/movies/?id=amoskollecksbadgirls.htm',\n",
        " u'http://boxofficemojo.com/movies/?id=amour.htm',\n",
        " u'http://boxofficemojo.com/movies/?id=amreeka.htm',\n",
        " u'http://boxofficemojo.com/movies/?id=amsterdamned.htm',\n",
        " u'http://boxofficemojo.com/movies/?id=amu.htm',\n",
        " u'http://boxofficemojo.com/movies/?id=amusement.htm',\n",
        " u'http://boxofficemojo.com/movies/?id=amy81.htm',\n",
        " u'http://boxofficemojo.com/movies/?id=amysorgasm.htm']\n"
       ]
      }
     ],
     "prompt_number": 48
    },
    {
     "cell_type": "code",
     "collapsed": false,
     "input": [
      "len(all_movie_urls)"
     ],
     "language": "python",
     "metadata": {},
     "outputs": [
      {
       "metadata": {},
       "output_type": "pyout",
       "prompt_number": 49,
       "text": [
        "455"
       ]
      }
     ],
     "prompt_number": 49
    },
    {
     "cell_type": "code",
     "collapsed": false,
     "input": [
      "all_movie_urls = list(set(all_movie_urls))"
     ],
     "language": "python",
     "metadata": {},
     "outputs": [],
     "prompt_number": 50
    },
    {
     "cell_type": "code",
     "collapsed": false,
     "input": [
      "len(all_movie_urls)"
     ],
     "language": "python",
     "metadata": {},
     "outputs": [
      {
       "metadata": {},
       "output_type": "pyout",
       "prompt_number": 51,
       "text": [
        "451"
       ]
      }
     ],
     "prompt_number": 51
    },
    {
     "cell_type": "code",
     "collapsed": false,
     "input": [],
     "language": "python",
     "metadata": {},
     "outputs": []
    }
   ],
   "metadata": {}
  }
 ]
}