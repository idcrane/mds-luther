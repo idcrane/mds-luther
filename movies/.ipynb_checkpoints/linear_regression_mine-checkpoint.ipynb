{
 "metadata": {
  "name": "",
  "signature": "sha256:cf3110aea2a8f87d4330230eafa081cbd56d66bb62bfc6908f278c37e42a9eb0"
 },
 "nbformat": 3,
 "nbformat_minor": 0,
 "worksheets": []
}